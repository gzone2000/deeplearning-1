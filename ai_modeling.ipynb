{
  "nbformat": 4,
  "nbformat_minor": 0,
  "metadata": {
    "kernelspec": {
      "display_name": "Python 3",
      "language": "python",
      "name": "python3"
    },
    "language_info": {
      "codemirror_mode": {
        "name": "ipython",
        "version": 3
      },
      "file_extension": ".py",
      "mimetype": "text/x-python",
      "name": "python",
      "nbconvert_exporter": "python",
      "pygments_lexer": "ipython3",
      "version": "3.7.6"
    },
    "colab": {
      "name": "ai_modeling.ipynb",
      "provenance": [],
      "collapsed_sections": [
        "By7gPJ0vKu8i",
        "cImMVb-KKu8j",
        "DwRTs5QcKu8j",
        "N5kTFz4BKu8j",
        "SKsJbyaRKu8j",
        "xznFHOI7Ku8j",
        "KcEkPszQKu8j",
        "GTKqo1pSKu8j",
        "WTvo7E9IKu8j",
        "OuWj2mlvKu8j",
        "pyKBvo_gKu8j",
        "SqCsgHxiKu8j",
        "qeJNY_B3Ku8k",
        "spOGOLdWKu8k",
        "GXJFTfrZKu8k",
        "h6GUkt9uKu8k",
        "KVwM9R5oKu8k",
        "eBJhPOMmKu8k",
        "P9nFZr6KKu8k",
        "fgSwdiKhKu8k"
      ],
      "include_colab_link": true
    }
  },
  "cells": [
    {
      "cell_type": "markdown",
      "metadata": {
        "id": "view-in-github",
        "colab_type": "text"
      },
      "source": [
        "<a href=\"https://colab.research.google.com/github/kgpark88/deeplearning/blob/master/ai_modeling.ipynb\" target=\"_parent\"><img src=\"https://colab.research.google.com/assets/colab-badge.svg\" alt=\"Open In Colab\"/></a>"
      ]
    },
    {
      "cell_type": "markdown",
      "metadata": {
        "id": "W8p15qvhKu8f"
      },
      "source": [
        "# AI 모델링 실습\n",
        "\n"
      ]
    },
    {
      "cell_type": "markdown",
      "metadata": {
        "id": "MOX2C4KvKu8h"
      },
      "source": [
        "# 1. 파이썬(Python)"
      ]
    },
    {
      "cell_type": "markdown",
      "metadata": {
        "id": "t-fKKfEGKu8h"
      },
      "source": [
        "### 변수 할당(Variable Assignment)"
      ]
    },
    {
      "cell_type": "code",
      "metadata": {
        "id": "qfV2CiejKu8h"
      },
      "source": [
        "x = 2\n",
        "y = 3\n",
        "z = x + y"
      ],
      "execution_count": 1,
      "outputs": []
    },
    {
      "cell_type": "code",
      "metadata": {
        "colab": {
          "base_uri": "https://localhost:8080/"
        },
        "id": "0NACqb2RKu8h",
        "outputId": "3e775ee4-6a67-4b54-9939-19c5ba19704b"
      },
      "source": [
        "z"
      ],
      "execution_count": 2,
      "outputs": [
        {
          "output_type": "execute_result",
          "data": {
            "text/plain": [
              "5"
            ]
          },
          "metadata": {
            "tags": []
          },
          "execution_count": 2
        }
      ]
    },
    {
      "cell_type": "markdown",
      "metadata": {
        "id": "JJJcAAxPKu8h"
      },
      "source": [
        "### 출력"
      ]
    },
    {
      "cell_type": "code",
      "metadata": {
        "id": "v-y6XCR5Ku8h"
      },
      "source": [
        "x = 'hello'\n",
        "x = \"hello\""
      ],
      "execution_count": 3,
      "outputs": []
    },
    {
      "cell_type": "code",
      "metadata": {
        "colab": {
          "base_uri": "https://localhost:8080/",
          "height": 36
        },
        "id": "y7QSZ3a3Ku8h",
        "outputId": "ca008e16-11f5-46af-ac0b-3be667a2661a"
      },
      "source": [
        "x"
      ],
      "execution_count": 4,
      "outputs": [
        {
          "output_type": "execute_result",
          "data": {
            "application/vnd.google.colaboratory.intrinsic+json": {
              "type": "string"
            },
            "text/plain": [
              "'hello'"
            ]
          },
          "metadata": {
            "tags": []
          },
          "execution_count": 4
        }
      ]
    },
    {
      "cell_type": "code",
      "metadata": {
        "colab": {
          "base_uri": "https://localhost:8080/"
        },
        "id": "8CDOshreKu8h",
        "outputId": "5f48ef65-a18e-451f-f767-d34ddcd679c5"
      },
      "source": [
        "print(x)"
      ],
      "execution_count": 5,
      "outputs": [
        {
          "output_type": "stream",
          "text": [
            "hello\n"
          ],
          "name": "stdout"
        }
      ]
    },
    {
      "cell_type": "markdown",
      "metadata": {
        "id": "bKqzbBviKu8h"
      },
      "source": [
        "### 리스트(List)"
      ]
    },
    {
      "cell_type": "code",
      "metadata": {
        "colab": {
          "base_uri": "https://localhost:8080/"
        },
        "id": "Jnyj-03WKu8h",
        "outputId": "fc86dbbb-6a35-41a7-8d44-71e6abe5c650"
      },
      "source": [
        "[1, 2, 3]"
      ],
      "execution_count": 6,
      "outputs": [
        {
          "output_type": "execute_result",
          "data": {
            "text/plain": [
              "[1, 2, 3]"
            ]
          },
          "metadata": {
            "tags": []
          },
          "execution_count": 6
        }
      ]
    },
    {
      "cell_type": "code",
      "metadata": {
        "id": "pAqqjouwKu8h"
      },
      "source": [
        "my_list = ['a', 'b', 'c']"
      ],
      "execution_count": 7,
      "outputs": []
    },
    {
      "cell_type": "code",
      "metadata": {
        "id": "oU-gA3JdKu8h"
      },
      "source": [
        "my_list.append('d')"
      ],
      "execution_count": 8,
      "outputs": []
    },
    {
      "cell_type": "code",
      "metadata": {
        "colab": {
          "base_uri": "https://localhost:8080/"
        },
        "id": "zl2aGWThKu8h",
        "outputId": "8034f958-949c-49e3-c3da-151e3ae99d78"
      },
      "source": [
        "my_list"
      ],
      "execution_count": 9,
      "outputs": [
        {
          "output_type": "execute_result",
          "data": {
            "text/plain": [
              "['a', 'b', 'c', 'd']"
            ]
          },
          "metadata": {
            "tags": []
          },
          "execution_count": 9
        }
      ]
    },
    {
      "cell_type": "code",
      "metadata": {
        "colab": {
          "base_uri": "https://localhost:8080/",
          "height": 36
        },
        "id": "Hioj3j1qKu8h",
        "outputId": "e6a52e80-28dc-4acf-d877-896150f7ca75"
      },
      "source": [
        "my_list[0]"
      ],
      "execution_count": 10,
      "outputs": [
        {
          "output_type": "execute_result",
          "data": {
            "application/vnd.google.colaboratory.intrinsic+json": {
              "type": "string"
            },
            "text/plain": [
              "'a'"
            ]
          },
          "metadata": {
            "tags": []
          },
          "execution_count": 10
        }
      ]
    },
    {
      "cell_type": "code",
      "metadata": {
        "colab": {
          "base_uri": "https://localhost:8080/"
        },
        "id": "QGUZvJqjKu8h",
        "outputId": "812c3f23-f11b-41ea-af36-75ab2a034e8d"
      },
      "source": [
        "my_list[:-1]"
      ],
      "execution_count": 11,
      "outputs": [
        {
          "output_type": "execute_result",
          "data": {
            "text/plain": [
              "['a', 'b', 'c']"
            ]
          },
          "metadata": {
            "tags": []
          },
          "execution_count": 11
        }
      ]
    },
    {
      "cell_type": "code",
      "metadata": {
        "colab": {
          "base_uri": "https://localhost:8080/"
        },
        "id": "gUBoHjmqKu8h",
        "outputId": "7f252c16-7367-4bf6-99af-dd939b53f0e9"
      },
      "source": [
        "my_list[:-1]"
      ],
      "execution_count": 12,
      "outputs": [
        {
          "output_type": "execute_result",
          "data": {
            "text/plain": [
              "['a', 'b', 'c']"
            ]
          },
          "metadata": {
            "tags": []
          },
          "execution_count": 12
        }
      ]
    },
    {
      "cell_type": "markdown",
      "metadata": {
        "id": "9KPsUTpUKu8i"
      },
      "source": [
        "### 딕셔너리(Dictionary)\n"
      ]
    },
    {
      "cell_type": "code",
      "metadata": {
        "id": "TRI4FjyjKu8i"
      },
      "source": [
        "d = {'key1':'item1','key2':'item2'}"
      ],
      "execution_count": 13,
      "outputs": []
    },
    {
      "cell_type": "code",
      "metadata": {
        "colab": {
          "base_uri": "https://localhost:8080/"
        },
        "id": "8wl4nHsvKu8i",
        "outputId": "fc9b6aaf-636c-4483-d2d3-00a4d8af219a"
      },
      "source": [
        "d"
      ],
      "execution_count": 14,
      "outputs": [
        {
          "output_type": "execute_result",
          "data": {
            "text/plain": [
              "{'key1': 'item1', 'key2': 'item2'}"
            ]
          },
          "metadata": {
            "tags": []
          },
          "execution_count": 14
        }
      ]
    },
    {
      "cell_type": "code",
      "metadata": {
        "colab": {
          "base_uri": "https://localhost:8080/",
          "height": 36
        },
        "id": "1_F7iypIKu8i",
        "outputId": "6fd3e92c-b132-4932-99b1-fb802c59f52f"
      },
      "source": [
        "d['key1']"
      ],
      "execution_count": 15,
      "outputs": [
        {
          "output_type": "execute_result",
          "data": {
            "application/vnd.google.colaboratory.intrinsic+json": {
              "type": "string"
            },
            "text/plain": [
              "'item1'"
            ]
          },
          "metadata": {
            "tags": []
          },
          "execution_count": 15
        }
      ]
    },
    {
      "cell_type": "markdown",
      "metadata": {
        "id": "oEM2J87WKu8i"
      },
      "source": [
        "# 2. 데이터 분석 및 데이터 시각화"
      ]
    },
    {
      "cell_type": "markdown",
      "metadata": {
        "id": "whcGrJZJKu8i"
      },
      "source": [
        "### Numpy"
      ]
    },
    {
      "cell_type": "code",
      "metadata": {
        "id": "WoOfBMhXKu8i"
      },
      "source": [
        "import numpy as np"
      ],
      "execution_count": 16,
      "outputs": []
    },
    {
      "cell_type": "code",
      "metadata": {
        "colab": {
          "base_uri": "https://localhost:8080/"
        },
        "id": "nNeEt5U_Ku8i",
        "outputId": "38fd4385-aae4-4dff-b35d-4a6d18af5b09"
      },
      "source": [
        "my_list = [1, 2, 3]\n",
        "np.array(my_list)"
      ],
      "execution_count": 17,
      "outputs": [
        {
          "output_type": "execute_result",
          "data": {
            "text/plain": [
              "array([1, 2, 3])"
            ]
          },
          "metadata": {
            "tags": []
          },
          "execution_count": 17
        }
      ]
    },
    {
      "cell_type": "code",
      "metadata": {
        "colab": {
          "base_uri": "https://localhost:8080/"
        },
        "id": "-ZLkOgi0Ku8i",
        "outputId": "0aaddd2d-264f-4146-c4a6-b39a41f3bf81"
      },
      "source": [
        "my_matrix = [[1, 2, 3],[4, 5, 6],[7, 8, 9]]\n",
        "np.array(my_matrix)\n"
      ],
      "execution_count": 18,
      "outputs": [
        {
          "output_type": "execute_result",
          "data": {
            "text/plain": [
              "array([[1, 2, 3],\n",
              "       [4, 5, 6],\n",
              "       [7, 8, 9]])"
            ]
          },
          "metadata": {
            "tags": []
          },
          "execution_count": 18
        }
      ]
    },
    {
      "cell_type": "markdown",
      "metadata": {
        "id": "By7gPJ0vKu8i"
      },
      "source": [
        "### Pandas"
      ]
    },
    {
      "cell_type": "markdown",
      "metadata": {
        "id": "aqjx17h7Ku8i"
      },
      "source": [
        "### Pandas 라이브러리 임포트"
      ]
    },
    {
      "cell_type": "code",
      "metadata": {
        "id": "HX8yuRTfKu8i"
      },
      "source": [
        "import pandas as pd"
      ],
      "execution_count": 19,
      "outputs": []
    },
    {
      "cell_type": "markdown",
      "metadata": {
        "id": "pxRKkYPxKu8i"
      },
      "source": [
        "### 파일에서 데이터를 로드"
      ]
    },
    {
      "cell_type": "code",
      "metadata": {
        "id": "pNd_3H1RKu8i"
      },
      "source": [
        "# df = pd.read_csv('data.csv')\n",
        "df = pd.read_csv('https://raw.githubusercontent.com/kgpark88/deeplearning/master/data.csv')"
      ],
      "execution_count": 20,
      "outputs": []
    },
    {
      "cell_type": "code",
      "metadata": {
        "colab": {
          "base_uri": "https://localhost:8080/",
          "height": 305
        },
        "id": "4mU4qR8vKu8i",
        "outputId": "eea4f1e6-08da-4b55-f0a8-a1bdc9951bf1"
      },
      "source": [
        "df.head()"
      ],
      "execution_count": 21,
      "outputs": [
        {
          "output_type": "execute_result",
          "data": {
            "text/html": [
              "<div>\n",
              "<style scoped>\n",
              "    .dataframe tbody tr th:only-of-type {\n",
              "        vertical-align: middle;\n",
              "    }\n",
              "\n",
              "    .dataframe tbody tr th {\n",
              "        vertical-align: top;\n",
              "    }\n",
              "\n",
              "    .dataframe thead th {\n",
              "        text-align: right;\n",
              "    }\n",
              "</style>\n",
              "<table border=\"1\" class=\"dataframe\">\n",
              "  <thead>\n",
              "    <tr style=\"text-align: right;\">\n",
              "      <th></th>\n",
              "      <th>customerID</th>\n",
              "      <th>gender</th>\n",
              "      <th>SeniorCitizen</th>\n",
              "      <th>Partner</th>\n",
              "      <th>Dependents</th>\n",
              "      <th>tenure</th>\n",
              "      <th>PhoneService</th>\n",
              "      <th>MultipleLines</th>\n",
              "      <th>InternetService</th>\n",
              "      <th>OnlineSecurity</th>\n",
              "      <th>OnlineBackup</th>\n",
              "      <th>DeviceProtection</th>\n",
              "      <th>TechSupport</th>\n",
              "      <th>StreamingTV</th>\n",
              "      <th>StreamingMovies</th>\n",
              "      <th>Contract</th>\n",
              "      <th>PaperlessBilling</th>\n",
              "      <th>PaymentMethod</th>\n",
              "      <th>MonthlyCharges</th>\n",
              "      <th>TotalCharges</th>\n",
              "      <th>Churn</th>\n",
              "    </tr>\n",
              "  </thead>\n",
              "  <tbody>\n",
              "    <tr>\n",
              "      <th>0</th>\n",
              "      <td>7590-VHVEG</td>\n",
              "      <td>Female</td>\n",
              "      <td>0</td>\n",
              "      <td>Yes</td>\n",
              "      <td>No</td>\n",
              "      <td>1</td>\n",
              "      <td>No</td>\n",
              "      <td>No phone service</td>\n",
              "      <td>DSL</td>\n",
              "      <td>No</td>\n",
              "      <td>Yes</td>\n",
              "      <td>No</td>\n",
              "      <td>No</td>\n",
              "      <td>No</td>\n",
              "      <td>No</td>\n",
              "      <td>Month-to-month</td>\n",
              "      <td>Yes</td>\n",
              "      <td>Electronic check</td>\n",
              "      <td>29.85</td>\n",
              "      <td>29.85</td>\n",
              "      <td>No</td>\n",
              "    </tr>\n",
              "    <tr>\n",
              "      <th>1</th>\n",
              "      <td>5575-GNVDE</td>\n",
              "      <td>Male</td>\n",
              "      <td>0</td>\n",
              "      <td>No</td>\n",
              "      <td>No</td>\n",
              "      <td>34</td>\n",
              "      <td>Yes</td>\n",
              "      <td>No</td>\n",
              "      <td>DSL</td>\n",
              "      <td>Yes</td>\n",
              "      <td>No</td>\n",
              "      <td>Yes</td>\n",
              "      <td>No</td>\n",
              "      <td>No</td>\n",
              "      <td>No</td>\n",
              "      <td>One year</td>\n",
              "      <td>No</td>\n",
              "      <td>Mailed check</td>\n",
              "      <td>56.95</td>\n",
              "      <td>1889.5</td>\n",
              "      <td>No</td>\n",
              "    </tr>\n",
              "    <tr>\n",
              "      <th>2</th>\n",
              "      <td>3668-QPYBK</td>\n",
              "      <td>Male</td>\n",
              "      <td>0</td>\n",
              "      <td>No</td>\n",
              "      <td>No</td>\n",
              "      <td>2</td>\n",
              "      <td>Yes</td>\n",
              "      <td>No</td>\n",
              "      <td>DSL</td>\n",
              "      <td>Yes</td>\n",
              "      <td>Yes</td>\n",
              "      <td>No</td>\n",
              "      <td>No</td>\n",
              "      <td>No</td>\n",
              "      <td>No</td>\n",
              "      <td>Month-to-month</td>\n",
              "      <td>Yes</td>\n",
              "      <td>Mailed check</td>\n",
              "      <td>53.85</td>\n",
              "      <td>108.15</td>\n",
              "      <td>Yes</td>\n",
              "    </tr>\n",
              "    <tr>\n",
              "      <th>3</th>\n",
              "      <td>7795-CFOCW</td>\n",
              "      <td>Male</td>\n",
              "      <td>0</td>\n",
              "      <td>No</td>\n",
              "      <td>No</td>\n",
              "      <td>45</td>\n",
              "      <td>No</td>\n",
              "      <td>No phone service</td>\n",
              "      <td>DSL</td>\n",
              "      <td>Yes</td>\n",
              "      <td>No</td>\n",
              "      <td>Yes</td>\n",
              "      <td>Yes</td>\n",
              "      <td>No</td>\n",
              "      <td>No</td>\n",
              "      <td>One year</td>\n",
              "      <td>No</td>\n",
              "      <td>Bank transfer (automatic)</td>\n",
              "      <td>42.30</td>\n",
              "      <td>1840.75</td>\n",
              "      <td>No</td>\n",
              "    </tr>\n",
              "    <tr>\n",
              "      <th>4</th>\n",
              "      <td>9237-HQITU</td>\n",
              "      <td>Female</td>\n",
              "      <td>0</td>\n",
              "      <td>No</td>\n",
              "      <td>No</td>\n",
              "      <td>2</td>\n",
              "      <td>Yes</td>\n",
              "      <td>No</td>\n",
              "      <td>Fiber optic</td>\n",
              "      <td>No</td>\n",
              "      <td>No</td>\n",
              "      <td>No</td>\n",
              "      <td>No</td>\n",
              "      <td>No</td>\n",
              "      <td>No</td>\n",
              "      <td>Month-to-month</td>\n",
              "      <td>Yes</td>\n",
              "      <td>Electronic check</td>\n",
              "      <td>70.70</td>\n",
              "      <td>151.65</td>\n",
              "      <td>Yes</td>\n",
              "    </tr>\n",
              "  </tbody>\n",
              "</table>\n",
              "</div>"
            ],
            "text/plain": [
              "   customerID  gender  SeniorCitizen  ... MonthlyCharges TotalCharges  Churn\n",
              "0  7590-VHVEG  Female              0  ...          29.85        29.85     No\n",
              "1  5575-GNVDE    Male              0  ...          56.95       1889.5     No\n",
              "2  3668-QPYBK    Male              0  ...          53.85       108.15    Yes\n",
              "3  7795-CFOCW    Male              0  ...          42.30      1840.75     No\n",
              "4  9237-HQITU  Female              0  ...          70.70       151.65    Yes\n",
              "\n",
              "[5 rows x 21 columns]"
            ]
          },
          "metadata": {
            "tags": []
          },
          "execution_count": 21
        }
      ]
    },
    {
      "cell_type": "markdown",
      "metadata": {
        "id": "-V2QealVKu8i"
      },
      "source": [
        "### 자료구조 파악"
      ]
    },
    {
      "cell_type": "code",
      "metadata": {
        "colab": {
          "base_uri": "https://localhost:8080/"
        },
        "id": "kdx1BjXhKu8i",
        "outputId": "b94fc59e-179a-45c6-dd47-5348f5f99a2c"
      },
      "source": [
        "df.info()"
      ],
      "execution_count": 22,
      "outputs": [
        {
          "output_type": "stream",
          "text": [
            "<class 'pandas.core.frame.DataFrame'>\n",
            "RangeIndex: 7043 entries, 0 to 7042\n",
            "Data columns (total 21 columns):\n",
            " #   Column            Non-Null Count  Dtype  \n",
            "---  ------            --------------  -----  \n",
            " 0   customerID        7043 non-null   object \n",
            " 1   gender            7043 non-null   object \n",
            " 2   SeniorCitizen     7043 non-null   int64  \n",
            " 3   Partner           7043 non-null   object \n",
            " 4   Dependents        7043 non-null   object \n",
            " 5   tenure            7043 non-null   int64  \n",
            " 6   PhoneService      7043 non-null   object \n",
            " 7   MultipleLines     7043 non-null   object \n",
            " 8   InternetService   7043 non-null   object \n",
            " 9   OnlineSecurity    7043 non-null   object \n",
            " 10  OnlineBackup      7043 non-null   object \n",
            " 11  DeviceProtection  7043 non-null   object \n",
            " 12  TechSupport       7043 non-null   object \n",
            " 13  StreamingTV       7043 non-null   object \n",
            " 14  StreamingMovies   7043 non-null   object \n",
            " 15  Contract          7043 non-null   object \n",
            " 16  PaperlessBilling  7043 non-null   object \n",
            " 17  PaymentMethod     7043 non-null   object \n",
            " 18  MonthlyCharges    7043 non-null   float64\n",
            " 19  TotalCharges      7043 non-null   object \n",
            " 20  Churn             7043 non-null   object \n",
            "dtypes: float64(1), int64(2), object(18)\n",
            "memory usage: 1.1+ MB\n"
          ],
          "name": "stdout"
        }
      ]
    },
    {
      "cell_type": "code",
      "metadata": {
        "id": "cRZe2iJSKu8i"
      },
      "source": [
        "### 데이터 타입 확인"
      ],
      "execution_count": 23,
      "outputs": []
    },
    {
      "cell_type": "code",
      "metadata": {
        "colab": {
          "base_uri": "https://localhost:8080/"
        },
        "id": "uVTlu7yvKu8i",
        "outputId": "18dfcce6-6e7a-4c6b-dd73-298890867431"
      },
      "source": [
        "df.dtypes"
      ],
      "execution_count": 24,
      "outputs": [
        {
          "output_type": "execute_result",
          "data": {
            "text/plain": [
              "customerID           object\n",
              "gender               object\n",
              "SeniorCitizen         int64\n",
              "Partner              object\n",
              "Dependents           object\n",
              "tenure                int64\n",
              "PhoneService         object\n",
              "MultipleLines        object\n",
              "InternetService      object\n",
              "OnlineSecurity       object\n",
              "OnlineBackup         object\n",
              "DeviceProtection     object\n",
              "TechSupport          object\n",
              "StreamingTV          object\n",
              "StreamingMovies      object\n",
              "Contract             object\n",
              "PaperlessBilling     object\n",
              "PaymentMethod        object\n",
              "MonthlyCharges      float64\n",
              "TotalCharges         object\n",
              "Churn                object\n",
              "dtype: object"
            ]
          },
          "metadata": {
            "tags": []
          },
          "execution_count": 24
        }
      ]
    },
    {
      "cell_type": "markdown",
      "metadata": {
        "id": "IXpNk52fKu8i"
      },
      "source": [
        "### Null 데이터 확인"
      ]
    },
    {
      "cell_type": "code",
      "metadata": {
        "colab": {
          "base_uri": "https://localhost:8080/"
        },
        "id": "-Y59xWDjKu8i",
        "outputId": "3b629dad-6a3d-497d-c5a2-41f53770c651"
      },
      "source": [
        "df.isnull().sum()"
      ],
      "execution_count": 25,
      "outputs": [
        {
          "output_type": "execute_result",
          "data": {
            "text/plain": [
              "customerID          0\n",
              "gender              0\n",
              "SeniorCitizen       0\n",
              "Partner             0\n",
              "Dependents          0\n",
              "tenure              0\n",
              "PhoneService        0\n",
              "MultipleLines       0\n",
              "InternetService     0\n",
              "OnlineSecurity      0\n",
              "OnlineBackup        0\n",
              "DeviceProtection    0\n",
              "TechSupport         0\n",
              "StreamingTV         0\n",
              "StreamingMovies     0\n",
              "Contract            0\n",
              "PaperlessBilling    0\n",
              "PaymentMethod       0\n",
              "MonthlyCharges      0\n",
              "TotalCharges        0\n",
              "Churn               0\n",
              "dtype: int64"
            ]
          },
          "metadata": {
            "tags": []
          },
          "execution_count": 25
        }
      ]
    },
    {
      "cell_type": "markdown",
      "metadata": {
        "id": "UWdn9JSeKu8i"
      },
      "source": [
        "### 통계 정보"
      ]
    },
    {
      "cell_type": "code",
      "metadata": {
        "colab": {
          "base_uri": "https://localhost:8080/",
          "height": 288
        },
        "id": "g1coq1sAKu8i",
        "outputId": "dfa0752a-6968-4675-b713-ff3699b38697"
      },
      "source": [
        "df.describe()"
      ],
      "execution_count": 26,
      "outputs": [
        {
          "output_type": "execute_result",
          "data": {
            "text/html": [
              "<div>\n",
              "<style scoped>\n",
              "    .dataframe tbody tr th:only-of-type {\n",
              "        vertical-align: middle;\n",
              "    }\n",
              "\n",
              "    .dataframe tbody tr th {\n",
              "        vertical-align: top;\n",
              "    }\n",
              "\n",
              "    .dataframe thead th {\n",
              "        text-align: right;\n",
              "    }\n",
              "</style>\n",
              "<table border=\"1\" class=\"dataframe\">\n",
              "  <thead>\n",
              "    <tr style=\"text-align: right;\">\n",
              "      <th></th>\n",
              "      <th>SeniorCitizen</th>\n",
              "      <th>tenure</th>\n",
              "      <th>MonthlyCharges</th>\n",
              "    </tr>\n",
              "  </thead>\n",
              "  <tbody>\n",
              "    <tr>\n",
              "      <th>count</th>\n",
              "      <td>7043.000000</td>\n",
              "      <td>7043.000000</td>\n",
              "      <td>7043.000000</td>\n",
              "    </tr>\n",
              "    <tr>\n",
              "      <th>mean</th>\n",
              "      <td>0.162147</td>\n",
              "      <td>32.371149</td>\n",
              "      <td>64.761692</td>\n",
              "    </tr>\n",
              "    <tr>\n",
              "      <th>std</th>\n",
              "      <td>0.368612</td>\n",
              "      <td>24.559481</td>\n",
              "      <td>30.090047</td>\n",
              "    </tr>\n",
              "    <tr>\n",
              "      <th>min</th>\n",
              "      <td>0.000000</td>\n",
              "      <td>0.000000</td>\n",
              "      <td>18.250000</td>\n",
              "    </tr>\n",
              "    <tr>\n",
              "      <th>25%</th>\n",
              "      <td>0.000000</td>\n",
              "      <td>9.000000</td>\n",
              "      <td>35.500000</td>\n",
              "    </tr>\n",
              "    <tr>\n",
              "      <th>50%</th>\n",
              "      <td>0.000000</td>\n",
              "      <td>29.000000</td>\n",
              "      <td>70.350000</td>\n",
              "    </tr>\n",
              "    <tr>\n",
              "      <th>75%</th>\n",
              "      <td>0.000000</td>\n",
              "      <td>55.000000</td>\n",
              "      <td>89.850000</td>\n",
              "    </tr>\n",
              "    <tr>\n",
              "      <th>max</th>\n",
              "      <td>1.000000</td>\n",
              "      <td>72.000000</td>\n",
              "      <td>118.750000</td>\n",
              "    </tr>\n",
              "  </tbody>\n",
              "</table>\n",
              "</div>"
            ],
            "text/plain": [
              "       SeniorCitizen       tenure  MonthlyCharges\n",
              "count    7043.000000  7043.000000     7043.000000\n",
              "mean        0.162147    32.371149       64.761692\n",
              "std         0.368612    24.559481       30.090047\n",
              "min         0.000000     0.000000       18.250000\n",
              "25%         0.000000     9.000000       35.500000\n",
              "50%         0.000000    29.000000       70.350000\n",
              "75%         0.000000    55.000000       89.850000\n",
              "max         1.000000    72.000000      118.750000"
            ]
          },
          "metadata": {
            "tags": []
          },
          "execution_count": 26
        }
      ]
    },
    {
      "cell_type": "code",
      "metadata": {
        "id": "J7wQRRNnKu8i"
      },
      "source": [
        "### 데이터 상관관계 분석"
      ],
      "execution_count": 27,
      "outputs": []
    },
    {
      "cell_type": "code",
      "metadata": {
        "colab": {
          "base_uri": "https://localhost:8080/",
          "height": 138
        },
        "id": "jTe0SpgRKu8i",
        "outputId": "85fabebe-02db-43f9-ca31-f777275bced3"
      },
      "source": [
        "df.corr()"
      ],
      "execution_count": 28,
      "outputs": [
        {
          "output_type": "execute_result",
          "data": {
            "text/html": [
              "<div>\n",
              "<style scoped>\n",
              "    .dataframe tbody tr th:only-of-type {\n",
              "        vertical-align: middle;\n",
              "    }\n",
              "\n",
              "    .dataframe tbody tr th {\n",
              "        vertical-align: top;\n",
              "    }\n",
              "\n",
              "    .dataframe thead th {\n",
              "        text-align: right;\n",
              "    }\n",
              "</style>\n",
              "<table border=\"1\" class=\"dataframe\">\n",
              "  <thead>\n",
              "    <tr style=\"text-align: right;\">\n",
              "      <th></th>\n",
              "      <th>SeniorCitizen</th>\n",
              "      <th>tenure</th>\n",
              "      <th>MonthlyCharges</th>\n",
              "    </tr>\n",
              "  </thead>\n",
              "  <tbody>\n",
              "    <tr>\n",
              "      <th>SeniorCitizen</th>\n",
              "      <td>1.000000</td>\n",
              "      <td>0.016567</td>\n",
              "      <td>0.220173</td>\n",
              "    </tr>\n",
              "    <tr>\n",
              "      <th>tenure</th>\n",
              "      <td>0.016567</td>\n",
              "      <td>1.000000</td>\n",
              "      <td>0.247900</td>\n",
              "    </tr>\n",
              "    <tr>\n",
              "      <th>MonthlyCharges</th>\n",
              "      <td>0.220173</td>\n",
              "      <td>0.247900</td>\n",
              "      <td>1.000000</td>\n",
              "    </tr>\n",
              "  </tbody>\n",
              "</table>\n",
              "</div>"
            ],
            "text/plain": [
              "                SeniorCitizen    tenure  MonthlyCharges\n",
              "SeniorCitizen        1.000000  0.016567        0.220173\n",
              "tenure               0.016567  1.000000        0.247900\n",
              "MonthlyCharges       0.220173  0.247900        1.000000"
            ]
          },
          "metadata": {
            "tags": []
          },
          "execution_count": 28
        }
      ]
    },
    {
      "cell_type": "markdown",
      "metadata": {
        "id": "rTnZJ9g-Ku8i"
      },
      "source": [
        "### 데이터 전처리 "
      ]
    },
    {
      "cell_type": "code",
      "metadata": {
        "id": "YmFNod3zKu8i"
      },
      "source": [
        "df.drop('customerID', axis=1, inplace=True)"
      ],
      "execution_count": 29,
      "outputs": []
    },
    {
      "cell_type": "code",
      "metadata": {
        "id": "JznlYSt1Ku8i"
      },
      "source": [
        "df['TotalCharges'].replace([' '], ['0'], inplace=True)\n",
        "df['TotalCharges'] = df['TotalCharges'].astype(float)"
      ],
      "execution_count": 30,
      "outputs": []
    },
    {
      "cell_type": "code",
      "metadata": {
        "id": "2j41P8BQKu8i"
      },
      "source": [
        "df['Churn'].replace(['Yes', 'No'], [1, 0], inplace=True)"
      ],
      "execution_count": 31,
      "outputs": []
    },
    {
      "cell_type": "code",
      "metadata": {
        "colab": {
          "base_uri": "https://localhost:8080/",
          "height": 287
        },
        "id": "iRcXrMluKu8i",
        "outputId": "2abb6948-fcab-4fa6-a5a6-ab68274fc3d0"
      },
      "source": [
        "df.head()"
      ],
      "execution_count": 32,
      "outputs": [
        {
          "output_type": "execute_result",
          "data": {
            "text/html": [
              "<div>\n",
              "<style scoped>\n",
              "    .dataframe tbody tr th:only-of-type {\n",
              "        vertical-align: middle;\n",
              "    }\n",
              "\n",
              "    .dataframe tbody tr th {\n",
              "        vertical-align: top;\n",
              "    }\n",
              "\n",
              "    .dataframe thead th {\n",
              "        text-align: right;\n",
              "    }\n",
              "</style>\n",
              "<table border=\"1\" class=\"dataframe\">\n",
              "  <thead>\n",
              "    <tr style=\"text-align: right;\">\n",
              "      <th></th>\n",
              "      <th>gender</th>\n",
              "      <th>SeniorCitizen</th>\n",
              "      <th>Partner</th>\n",
              "      <th>Dependents</th>\n",
              "      <th>tenure</th>\n",
              "      <th>PhoneService</th>\n",
              "      <th>MultipleLines</th>\n",
              "      <th>InternetService</th>\n",
              "      <th>OnlineSecurity</th>\n",
              "      <th>OnlineBackup</th>\n",
              "      <th>DeviceProtection</th>\n",
              "      <th>TechSupport</th>\n",
              "      <th>StreamingTV</th>\n",
              "      <th>StreamingMovies</th>\n",
              "      <th>Contract</th>\n",
              "      <th>PaperlessBilling</th>\n",
              "      <th>PaymentMethod</th>\n",
              "      <th>MonthlyCharges</th>\n",
              "      <th>TotalCharges</th>\n",
              "      <th>Churn</th>\n",
              "    </tr>\n",
              "  </thead>\n",
              "  <tbody>\n",
              "    <tr>\n",
              "      <th>0</th>\n",
              "      <td>Female</td>\n",
              "      <td>0</td>\n",
              "      <td>Yes</td>\n",
              "      <td>No</td>\n",
              "      <td>1</td>\n",
              "      <td>No</td>\n",
              "      <td>No phone service</td>\n",
              "      <td>DSL</td>\n",
              "      <td>No</td>\n",
              "      <td>Yes</td>\n",
              "      <td>No</td>\n",
              "      <td>No</td>\n",
              "      <td>No</td>\n",
              "      <td>No</td>\n",
              "      <td>Month-to-month</td>\n",
              "      <td>Yes</td>\n",
              "      <td>Electronic check</td>\n",
              "      <td>29.85</td>\n",
              "      <td>29.85</td>\n",
              "      <td>0</td>\n",
              "    </tr>\n",
              "    <tr>\n",
              "      <th>1</th>\n",
              "      <td>Male</td>\n",
              "      <td>0</td>\n",
              "      <td>No</td>\n",
              "      <td>No</td>\n",
              "      <td>34</td>\n",
              "      <td>Yes</td>\n",
              "      <td>No</td>\n",
              "      <td>DSL</td>\n",
              "      <td>Yes</td>\n",
              "      <td>No</td>\n",
              "      <td>Yes</td>\n",
              "      <td>No</td>\n",
              "      <td>No</td>\n",
              "      <td>No</td>\n",
              "      <td>One year</td>\n",
              "      <td>No</td>\n",
              "      <td>Mailed check</td>\n",
              "      <td>56.95</td>\n",
              "      <td>1889.50</td>\n",
              "      <td>0</td>\n",
              "    </tr>\n",
              "    <tr>\n",
              "      <th>2</th>\n",
              "      <td>Male</td>\n",
              "      <td>0</td>\n",
              "      <td>No</td>\n",
              "      <td>No</td>\n",
              "      <td>2</td>\n",
              "      <td>Yes</td>\n",
              "      <td>No</td>\n",
              "      <td>DSL</td>\n",
              "      <td>Yes</td>\n",
              "      <td>Yes</td>\n",
              "      <td>No</td>\n",
              "      <td>No</td>\n",
              "      <td>No</td>\n",
              "      <td>No</td>\n",
              "      <td>Month-to-month</td>\n",
              "      <td>Yes</td>\n",
              "      <td>Mailed check</td>\n",
              "      <td>53.85</td>\n",
              "      <td>108.15</td>\n",
              "      <td>1</td>\n",
              "    </tr>\n",
              "    <tr>\n",
              "      <th>3</th>\n",
              "      <td>Male</td>\n",
              "      <td>0</td>\n",
              "      <td>No</td>\n",
              "      <td>No</td>\n",
              "      <td>45</td>\n",
              "      <td>No</td>\n",
              "      <td>No phone service</td>\n",
              "      <td>DSL</td>\n",
              "      <td>Yes</td>\n",
              "      <td>No</td>\n",
              "      <td>Yes</td>\n",
              "      <td>Yes</td>\n",
              "      <td>No</td>\n",
              "      <td>No</td>\n",
              "      <td>One year</td>\n",
              "      <td>No</td>\n",
              "      <td>Bank transfer (automatic)</td>\n",
              "      <td>42.30</td>\n",
              "      <td>1840.75</td>\n",
              "      <td>0</td>\n",
              "    </tr>\n",
              "    <tr>\n",
              "      <th>4</th>\n",
              "      <td>Female</td>\n",
              "      <td>0</td>\n",
              "      <td>No</td>\n",
              "      <td>No</td>\n",
              "      <td>2</td>\n",
              "      <td>Yes</td>\n",
              "      <td>No</td>\n",
              "      <td>Fiber optic</td>\n",
              "      <td>No</td>\n",
              "      <td>No</td>\n",
              "      <td>No</td>\n",
              "      <td>No</td>\n",
              "      <td>No</td>\n",
              "      <td>No</td>\n",
              "      <td>Month-to-month</td>\n",
              "      <td>Yes</td>\n",
              "      <td>Electronic check</td>\n",
              "      <td>70.70</td>\n",
              "      <td>151.65</td>\n",
              "      <td>1</td>\n",
              "    </tr>\n",
              "  </tbody>\n",
              "</table>\n",
              "</div>"
            ],
            "text/plain": [
              "   gender  SeniorCitizen Partner  ... MonthlyCharges  TotalCharges Churn\n",
              "0  Female              0     Yes  ...          29.85         29.85     0\n",
              "1    Male              0      No  ...          56.95       1889.50     0\n",
              "2    Male              0      No  ...          53.85        108.15     1\n",
              "3    Male              0      No  ...          42.30       1840.75     0\n",
              "4  Female              0      No  ...          70.70        151.65     1\n",
              "\n",
              "[5 rows x 20 columns]"
            ]
          },
          "metadata": {
            "tags": []
          },
          "execution_count": 32
        }
      ]
    },
    {
      "cell_type": "markdown",
      "metadata": {
        "id": "ioKZSdigKu8i"
      },
      "source": [
        "### 더미 특성 생성"
      ]
    },
    {
      "cell_type": "code",
      "metadata": {
        "id": "eB1tSEpnKu8i"
      },
      "source": [
        "cols = ['gender', 'Partner', 'Dependents', 'PhoneService', 'MultipleLines',\n",
        "        'InternetService', 'OnlineSecurity', 'OnlineBackup', 'DeviceProtection',\n",
        "        'TechSupport', 'StreamingTV', 'StreamingMovies', 'Contract', \n",
        "        'PaperlessBilling', 'PaymentMethod']"
      ],
      "execution_count": 33,
      "outputs": []
    },
    {
      "cell_type": "code",
      "metadata": {
        "id": "25sws_cKKu8i"
      },
      "source": [
        "dummies = pd.get_dummies(df[cols], drop_first=True)"
      ],
      "execution_count": 34,
      "outputs": []
    },
    {
      "cell_type": "code",
      "metadata": {
        "id": "UltTcmPZKu8i"
      },
      "source": [
        "df = df.drop(cols, axis=1)"
      ],
      "execution_count": 35,
      "outputs": []
    },
    {
      "cell_type": "code",
      "metadata": {
        "id": "qOM8wEyeKu8i"
      },
      "source": [
        "df = pd.concat([df, dummies], axis=1)"
      ],
      "execution_count": 36,
      "outputs": []
    },
    {
      "cell_type": "markdown",
      "metadata": {
        "id": "uNhk1-pfKu8i"
      },
      "source": [
        "### 입력(X)과 레이블(y) 선택"
      ]
    },
    {
      "cell_type": "code",
      "metadata": {
        "id": "J1Bo9laIKu8i"
      },
      "source": [
        "X = df.drop('Churn', axis=1).values"
      ],
      "execution_count": 37,
      "outputs": []
    },
    {
      "cell_type": "code",
      "metadata": {
        "id": "FXl0j0IgKu8i"
      },
      "source": [
        "y = df['Churn'].values"
      ],
      "execution_count": 38,
      "outputs": []
    },
    {
      "cell_type": "code",
      "metadata": {
        "colab": {
          "base_uri": "https://localhost:8080/"
        },
        "id": "hwj6QuoCKu8i",
        "outputId": "3bf6b1a0-4e51-4670-db87-491d5e4ea702"
      },
      "source": [
        "X.shape"
      ],
      "execution_count": 39,
      "outputs": [
        {
          "output_type": "execute_result",
          "data": {
            "text/plain": [
              "(7043, 30)"
            ]
          },
          "metadata": {
            "tags": []
          },
          "execution_count": 39
        }
      ]
    },
    {
      "cell_type": "code",
      "metadata": {
        "colab": {
          "base_uri": "https://localhost:8080/"
        },
        "id": "E5IPgGzJKu8i",
        "outputId": "a3fffe3b-6c08-4a5f-f35b-68c4642de3c9"
      },
      "source": [
        "y.shape"
      ],
      "execution_count": 40,
      "outputs": [
        {
          "output_type": "execute_result",
          "data": {
            "text/plain": [
              "(7043,)"
            ]
          },
          "metadata": {
            "tags": []
          },
          "execution_count": 40
        }
      ]
    },
    {
      "cell_type": "markdown",
      "metadata": {
        "id": "ZukA_2HhKu8i"
      },
      "source": [
        "### Matplotlib"
      ]
    },
    {
      "cell_type": "markdown",
      "metadata": {
        "id": "ec3oekFUKu8i"
      },
      "source": [
        "- 라이브러리 임포트"
      ]
    },
    {
      "cell_type": "code",
      "metadata": {
        "id": "2GLU-AlLKu8i"
      },
      "source": [
        "import matplotlib.pyplot as plt\n",
        "%matplotlib inline"
      ],
      "execution_count": 41,
      "outputs": []
    },
    {
      "cell_type": "code",
      "metadata": {
        "id": "xNOSKKfhKu8i"
      },
      "source": [
        "# plt.plot(history.history['acc'])\n",
        "# plt.plot(history.history['val_acc'])\n",
        "# plt.title('Accuracy')\n",
        "# plt.xlabel('Epochs')\n",
        "# plt.ylabel('Acc')\n",
        "# plt.legend(['acc', 'val_acc'])\n",
        "# plt.show()"
      ],
      "execution_count": 42,
      "outputs": []
    },
    {
      "cell_type": "markdown",
      "metadata": {
        "id": "ueeP9t9RKu8i"
      },
      "source": [
        "### Seaborn"
      ]
    },
    {
      "cell_type": "markdown",
      "metadata": {
        "id": "qBLZsmWrKu8i"
      },
      "source": [
        "- Seaborn 패키지 설치"
      ]
    },
    {
      "cell_type": "markdown",
      "metadata": {
        "id": "v-AfEt-PKu8i"
      },
      "source": [
        "- 라이브러리 임포트"
      ]
    },
    {
      "cell_type": "code",
      "metadata": {
        "id": "IPmtOtRwKu8i"
      },
      "source": [
        "import seaborn as sns"
      ],
      "execution_count": 43,
      "outputs": []
    },
    {
      "cell_type": "markdown",
      "metadata": {
        "id": "bMPOTl5_Ku8i"
      },
      "source": [
        "- 상관관계 히트맵"
      ]
    },
    {
      "cell_type": "code",
      "metadata": {
        "colab": {
          "base_uri": "https://localhost:8080/",
          "height": 480
        },
        "id": "CP5TJq9QKu8i",
        "outputId": "899ffdcc-e4cb-4874-d0f9-80069f432ffb"
      },
      "source": [
        "sns.heatmap(df.corr(), annot=True)"
      ],
      "execution_count": 44,
      "outputs": [
        {
          "output_type": "execute_result",
          "data": {
            "text/plain": [
              "<matplotlib.axes._subplots.AxesSubplot at 0x7f6356d2a908>"
            ]
          },
          "metadata": {
            "tags": []
          },
          "execution_count": 44
        },
        {
          "output_type": "display_data",
          "data": {
            "image/png": "[encoded data removed]",
            "text/plain": [
              "<Figure size 432x288 with 2 Axes>"
            ]
          },
          "metadata": {
            "tags": [],
            "needs_background": "light"
          }
        }
      ]
    },
    {
      "cell_type": "markdown",
      "metadata": {
        "id": "zTJ-ZVTTKu8j"
      },
      "source": [
        "- 카운트 플롯"
      ]
    },
    {
      "cell_type": "code",
      "metadata": {
        "colab": {
          "base_uri": "https://localhost:8080/",
          "height": 297
        },
        "id": "mixiGvbfKu8j",
        "outputId": "f8e81e88-0fb0-449c-e1fc-86a5998a49be"
      },
      "source": [
        "sns.countplot(x='Churn',data=df)"
      ],
      "execution_count": 45,
      "outputs": [
        {
          "output_type": "execute_result",
          "data": {
            "text/plain": [
              "<matplotlib.axes._subplots.AxesSubplot at 0x7f6353cf9208>"
            ]
          },
          "metadata": {
            "tags": []
          },
          "execution_count": 45
        },
        {
          "output_type": "display_data",
          "data": {
            "image/png": "[encoded data removed]",
            "text/plain": [
              "<Figure size 432x288 with 1 Axes>"
            ]
          },
          "metadata": {
            "tags": [],
            "needs_background": "light"
          }
        }
      ]
    },
    {
      "cell_type": "markdown",
      "metadata": {
        "id": "kqEczutKKu8j"
      },
      "source": [
        "- 박스 플롯"
      ]
    },
    {
      "cell_type": "code",
      "metadata": {
        "colab": {
          "base_uri": "https://localhost:8080/",
          "height": 297
        },
        "id": "IxB3w6rnKu8j",
        "outputId": "21527999-00d7-4244-e820-83bfa8e742d1"
      },
      "source": [
        "sns.boxplot(x='Churn', \n",
        "            y='MonthlyCharges', \n",
        "            data=df)"
      ],
      "execution_count": 46,
      "outputs": [
        {
          "output_type": "execute_result",
          "data": {
            "text/plain": [
              "<matplotlib.axes._subplots.AxesSubplot at 0x7f6353758f60>"
            ]
          },
          "metadata": {
            "tags": []
          },
          "execution_count": 46
        },
        {
          "output_type": "display_data",
          "data": {
            "image/png": "[encoded data removed]",
            "text/plain": [
              "<Figure size 432x288 with 1 Axes>"
            ]
          },
          "metadata": {
            "tags": [],
            "needs_background": "light"
          }
        }
      ]
    },
    {
      "cell_type": "markdown",
      "metadata": {
        "id": "31xKC3kMKu8j"
      },
      "source": [
        "#  \n",
        "# 3. 머신러닝 이론과 주요모델"
      ]
    },
    {
      "cell_type": "markdown",
      "metadata": {
        "id": "cImMVb-KKu8j"
      },
      "source": [
        "### 선형 회귀(Linear Regression)"
      ]
    },
    {
      "cell_type": "code",
      "metadata": {
        "id": "K3BQm7yCKu8j"
      },
      "source": [
        "from sklearn.model_selection import train_test_split\n",
        "from sklearn.linear_model import LinearRegression"
      ],
      "execution_count": 47,
      "outputs": []
    },
    {
      "cell_type": "code",
      "metadata": {
        "id": "4uC-E9WdKu8j"
      },
      "source": [
        "X = np.array([1, 2, 3, 4, 5, 6, 7, 8, 9, 10 ]).reshape(-1,1)\n",
        "y = np.array([13, 25, 34, 47, 59, 62, 79, 88, 90, 100])"
      ],
      "execution_count": 48,
      "outputs": []
    },
    {
      "cell_type": "code",
      "metadata": {
        "id": "r_enlGC0Ku8j"
      },
      "source": [
        "X_train, X_test, y_train, y_test = train_test_split(X, y, \n",
        "                                                    test_size=0.3, \n",
        "                                                    random_state=42)"
      ],
      "execution_count": 49,
      "outputs": []
    },
    {
      "cell_type": "code",
      "metadata": {
        "id": "7sfjZjbnKu8j"
      },
      "source": [
        "model = LinearRegression()\n",
        "model.fit(X_train, y_train)\n",
        "predictions = model.predict(X_test)"
      ],
      "execution_count": 50,
      "outputs": []
    },
    {
      "cell_type": "code",
      "metadata": {
        "colab": {
          "base_uri": "https://localhost:8080/"
        },
        "id": "oVwedsIQKu8j",
        "outputId": "c3991dd4-6ed1-474e-e405-96c69b12ebe2"
      },
      "source": [
        "predictions"
      ],
      "execution_count": 51,
      "outputs": [
        {
          "output_type": "execute_result",
          "data": {
            "text/plain": [
              "array([95.58168317, 25.84158416, 65.69306931])"
            ]
          },
          "metadata": {
            "tags": []
          },
          "execution_count": 51
        }
      ]
    },
    {
      "cell_type": "code",
      "metadata": {
        "colab": {
          "base_uri": "https://localhost:8080/"
        },
        "id": "EiFLRfkDKu8j",
        "outputId": "d6b2de29-f9c8-4820-dc3f-0a9054c86096"
      },
      "source": [
        "y_test"
      ],
      "execution_count": 52,
      "outputs": [
        {
          "output_type": "execute_result",
          "data": {
            "text/plain": [
              "array([90, 25, 62])"
            ]
          },
          "metadata": {
            "tags": []
          },
          "execution_count": 52
        }
      ]
    },
    {
      "cell_type": "markdown",
      "metadata": {
        "id": "DwRTs5QcKu8j"
      },
      "source": [
        "### 로지스틱 회귀(Logistic Regression)"
      ]
    },
    {
      "cell_type": "code",
      "metadata": {
        "id": "BQoudmseKu8j"
      },
      "source": [
        "from sklearn.model_selection import train_test_split\n",
        "from sklearn.linear_model import LogisticRegression\n",
        "from sklearn.metrics import classification_report"
      ],
      "execution_count": 53,
      "outputs": []
    },
    {
      "cell_type": "code",
      "metadata": {
        "id": "DsRaYTuGKu8j"
      },
      "source": [
        "X = np.array([1, 2, 3, 4, 5, 6, 7, 8, 9, 10 ]).reshape(-1,1)\n",
        "y = np.array([0, 0, 0, 0, 0, 1, 1, 1, 1, 1])"
      ],
      "execution_count": 54,
      "outputs": []
    },
    {
      "cell_type": "code",
      "metadata": {
        "id": "ux9HZ6OvKu8j"
      },
      "source": [
        "X_train, X_test, y_train, y_test = train_test_split(X, y, \n",
        "                                                    test_size=0.3, \n",
        "                                                    random_state=42)"
      ],
      "execution_count": 55,
      "outputs": []
    },
    {
      "cell_type": "code",
      "metadata": {
        "id": "ZOJ63S2GKu8j"
      },
      "source": [
        "model =  LogisticRegression()\n",
        "model.fit(X_train, y_train)\n",
        "predictions = model.predict(X_test)"
      ],
      "execution_count": 56,
      "outputs": []
    },
    {
      "cell_type": "code",
      "metadata": {
        "colab": {
          "base_uri": "https://localhost:8080/"
        },
        "id": "vAOK-coTKu8j",
        "outputId": "de623c94-7dd1-4526-c5f6-a63912c9383f"
      },
      "source": [
        "print(classification_report(y_test,predictions))"
      ],
      "execution_count": 57,
      "outputs": [
        {
          "output_type": "stream",
          "text": [
            "              precision    recall  f1-score   support\n",
            "\n",
            "           0       0.50      1.00      0.67         1\n",
            "           1       1.00      0.50      0.67         2\n",
            "\n",
            "    accuracy                           0.67         3\n",
            "   macro avg       0.75      0.75      0.67         3\n",
            "weighted avg       0.83      0.67      0.67         3\n",
            "\n"
          ],
          "name": "stdout"
        }
      ]
    },
    {
      "cell_type": "markdown",
      "metadata": {
        "id": "N5kTFz4BKu8j"
      },
      "source": [
        "### 결정 트리(Decision Tree)"
      ]
    },
    {
      "cell_type": "code",
      "metadata": {
        "id": "ubN9KAu0Ku8j"
      },
      "source": [
        "from sklearn.datasets import load_iris\n",
        "from sklearn.tree import DecisionTreeClassifier"
      ],
      "execution_count": 58,
      "outputs": []
    },
    {
      "cell_type": "code",
      "metadata": {
        "id": "G3jVzAEEKu8j"
      },
      "source": [
        "iris = load_iris()\n",
        "X = iris.data[:, 2:] # petal length and width\n",
        "y = iris.target"
      ],
      "execution_count": 59,
      "outputs": []
    },
    {
      "cell_type": "code",
      "metadata": {
        "colab": {
          "base_uri": "https://localhost:8080/"
        },
        "id": "eFMohhVxKu8j",
        "outputId": "db4b50a2-4d3d-42c0-96bc-8d6b49af7b7c"
      },
      "source": [
        "dtree_clf = DecisionTreeClassifier(max_depth=2)\n",
        "dtree_clf.fit(X, y)"
      ],
      "execution_count": 60,
      "outputs": [
        {
          "output_type": "execute_result",
          "data": {
            "text/plain": [
              "DecisionTreeClassifier(ccp_alpha=0.0, class_weight=None, criterion='gini',\n",
              "                       max_depth=2, max_features=None, max_leaf_nodes=None,\n",
              "                       min_impurity_decrease=0.0, min_impurity_split=None,\n",
              "                       min_samples_leaf=1, min_samples_split=2,\n",
              "                       min_weight_fraction_leaf=0.0, presort='deprecated',\n",
              "                       random_state=None, splitter='best')"
            ]
          },
          "metadata": {
            "tags": []
          },
          "execution_count": 60
        }
      ]
    },
    {
      "cell_type": "code",
      "metadata": {
        "colab": {
          "base_uri": "https://localhost:8080/"
        },
        "id": "ORS6CqDXKu8j",
        "outputId": "0e7252c3-da75-40ba-caf2-227a671e6d1c"
      },
      "source": [
        "dtree_clf.predict_proba([[5, 1.5]])"
      ],
      "execution_count": 61,
      "outputs": [
        {
          "output_type": "execute_result",
          "data": {
            "text/plain": [
              "array([[0.        , 0.90740741, 0.09259259]])"
            ]
          },
          "metadata": {
            "tags": []
          },
          "execution_count": 61
        }
      ]
    },
    {
      "cell_type": "code",
      "metadata": {
        "colab": {
          "base_uri": "https://localhost:8080/"
        },
        "id": "a0ti8gOlKu8j",
        "outputId": "27c1f40f-eaeb-4d87-f313-7efd66c6e717"
      },
      "source": [
        "dtree_clf.predict([[5, 1.5]])"
      ],
      "execution_count": 62,
      "outputs": [
        {
          "output_type": "execute_result",
          "data": {
            "text/plain": [
              "array([1])"
            ]
          },
          "metadata": {
            "tags": []
          },
          "execution_count": 62
        }
      ]
    },
    {
      "cell_type": "markdown",
      "metadata": {
        "id": "SKsJbyaRKu8j"
      },
      "source": [
        "### 랜덤 포레스트(Random Forest)"
      ]
    },
    {
      "cell_type": "code",
      "metadata": {
        "id": "0dwcid9KKu8j"
      },
      "source": [
        "from sklearn import datasets\n",
        "from sklearn.model_selection import train_test_split\n",
        "from sklearn.ensemble import RandomForestClassifier\n",
        "from sklearn.metrics import accuracy_score"
      ],
      "execution_count": 63,
      "outputs": []
    },
    {
      "cell_type": "code",
      "metadata": {
        "id": "attnWd7aKu8j"
      },
      "source": [
        "iris = datasets.load_iris()\n",
        "df = pd.DataFrame(iris.data, columns=iris.feature_names)"
      ],
      "execution_count": 64,
      "outputs": []
    },
    {
      "cell_type": "code",
      "metadata": {
        "id": "QogIuy_tKu8j"
      },
      "source": [
        "X_train, X_test, y_train, y_test = train_test_split(\n",
        "    df[iris.feature_names], iris.target, test_size=0.25, \tstratify=iris.target, random_state=42)"
      ],
      "execution_count": 65,
      "outputs": []
    },
    {
      "cell_type": "code",
      "metadata": {
        "id": "mvr7cxvpKu8j"
      },
      "source": [
        "rf = RandomForestClassifier(n_estimators=50, \n",
        "                            max_depth=20, \n",
        "                            random_state=42)"
      ],
      "execution_count": 66,
      "outputs": []
    },
    {
      "cell_type": "code",
      "metadata": {
        "colab": {
          "base_uri": "https://localhost:8080/"
        },
        "id": "jOroEf2hKu8j",
        "outputId": "07255741-3388-446f-861c-2eeca3408536"
      },
      "source": [
        "rf.fit(X_train, y_train)"
      ],
      "execution_count": 67,
      "outputs": [
        {
          "output_type": "execute_result",
          "data": {
            "text/plain": [
              "RandomForestClassifier(bootstrap=True, ccp_alpha=0.0, class_weight=None,\n",
              "                       criterion='gini', max_depth=20, max_features='auto',\n",
              "                       max_leaf_nodes=None, max_samples=None,\n",
              "                       min_impurity_decrease=0.0, min_impurity_split=None,\n",
              "                       min_samples_leaf=1, min_samples_split=2,\n",
              "                       min_weight_fraction_leaf=0.0, n_estimators=50,\n",
              "                       n_jobs=None, oob_score=False, random_state=42, verbose=0,\n",
              "                       warm_start=False)"
            ]
          },
          "metadata": {
            "tags": []
          },
          "execution_count": 67
        }
      ]
    },
    {
      "cell_type": "code",
      "metadata": {
        "id": "rmDwhrhcKu8j"
      },
      "source": [
        "predicted = rf.predict(X_test)"
      ],
      "execution_count": 68,
      "outputs": []
    },
    {
      "cell_type": "code",
      "metadata": {
        "colab": {
          "base_uri": "https://localhost:8080/"
        },
        "id": "_8kRaSp8Ku8j",
        "outputId": "df6101c2-19d4-4f7b-8b4c-800b0cef460a"
      },
      "source": [
        "accuracy_score(y_test, predicted)"
      ],
      "execution_count": 69,
      "outputs": [
        {
          "output_type": "execute_result",
          "data": {
            "text/plain": [
              "0.9210526315789473"
            ]
          },
          "metadata": {
            "tags": []
          },
          "execution_count": 69
        }
      ]
    },
    {
      "cell_type": "markdown",
      "metadata": {
        "id": "_fTY_LcgKu8j"
      },
      "source": [
        "# 4. 딥러닝 원리와 심층신경망\n",
        "① 라이브러리 임포트(import)  \n",
        "② 데이터 가져오기(Loading the data)  \n",
        "③ 탐색적 데이터 분석(Exploratory Data Analysis)  \n",
        "④ 데이터 전처리(Data PreProcessing) : 데이터타입 변환, Null 데이터 처리, 누락데이터 처리, \n",
        "카테고리 데이터, 더미특성 생성, 특성 추출 (feature engineering) 등  \n",
        "⑤ Train, Test  데이터셋 분할  \n",
        "⑥ 데이터 정규화(Normalizing the Data)  \n",
        "⑦ 모델 개발(Creating the Model)  \n",
        "⑧ 모델 성능 평가"
      ]
    },
    {
      "cell_type": "markdown",
      "metadata": {
        "id": "xznFHOI7Ku8j"
      },
      "source": [
        "### ① 라이브러리 임포트"
      ]
    },
    {
      "cell_type": "code",
      "metadata": {
        "id": "1Xh5Bo7GKu8j"
      },
      "source": [
        "import pandas as pd\n",
        "import seaborn as sns\n",
        "import matplotlib.pyplot as plt\n",
        "\n",
        "import tensorflow as tf\n",
        "from tensorflow.keras.models import Sequential\n",
        "from tensorflow.keras.layers import Dense, Activation, Dropout"
      ],
      "execution_count": 70,
      "outputs": []
    },
    {
      "cell_type": "markdown",
      "metadata": {
        "id": "KcEkPszQKu8j"
      },
      "source": [
        "### ② 데이터 로드"
      ]
    },
    {
      "cell_type": "code",
      "metadata": {
        "id": "IoFa3qY0Ku8j"
      },
      "source": [
        "# df = pd.read_csv('data.csv')\n",
        "df = pd.read_csv('https://raw.githubusercontent.com/kgpark88/deeplearning/master/data.csv')"
      ],
      "execution_count": 71,
      "outputs": []
    },
    {
      "cell_type": "markdown",
      "metadata": {
        "id": "GTKqo1pSKu8j"
      },
      "source": [
        "### ③ 데이터 분석"
      ]
    },
    {
      "cell_type": "code",
      "metadata": {
        "colab": {
          "base_uri": "https://localhost:8080/"
        },
        "id": "OLi7Xv6XKu8j",
        "outputId": "632dfe5f-55e1-4bf9-e59d-d81614dc85f4"
      },
      "source": [
        "df.info()"
      ],
      "execution_count": 72,
      "outputs": [
        {
          "output_type": "stream",
          "text": [
            "<class 'pandas.core.frame.DataFrame'>\n",
            "RangeIndex: 7043 entries, 0 to 7042\n",
            "Data columns (total 21 columns):\n",
            " #   Column            Non-Null Count  Dtype  \n",
            "---  ------            --------------  -----  \n",
            " 0   customerID        7043 non-null   object \n",
            " 1   gender            7043 non-null   object \n",
            " 2   SeniorCitizen     7043 non-null   int64  \n",
            " 3   Partner           7043 non-null   object \n",
            " 4   Dependents        7043 non-null   object \n",
            " 5   tenure            7043 non-null   int64  \n",
            " 6   PhoneService      7043 non-null   object \n",
            " 7   MultipleLines     7043 non-null   object \n",
            " 8   InternetService   7043 non-null   object \n",
            " 9   OnlineSecurity    7043 non-null   object \n",
            " 10  OnlineBackup      7043 non-null   object \n",
            " 11  DeviceProtection  7043 non-null   object \n",
            " 12  TechSupport       7043 non-null   object \n",
            " 13  StreamingTV       7043 non-null   object \n",
            " 14  StreamingMovies   7043 non-null   object \n",
            " 15  Contract          7043 non-null   object \n",
            " 16  PaperlessBilling  7043 non-null   object \n",
            " 17  PaymentMethod     7043 non-null   object \n",
            " 18  MonthlyCharges    7043 non-null   float64\n",
            " 19  TotalCharges      7043 non-null   object \n",
            " 20  Churn             7043 non-null   object \n",
            "dtypes: float64(1), int64(2), object(18)\n",
            "memory usage: 1.1+ MB\n"
          ],
          "name": "stdout"
        }
      ]
    },
    {
      "cell_type": "code",
      "metadata": {
        "colab": {
          "base_uri": "https://localhost:8080/"
        },
        "id": "omfjNiq4Ku8j",
        "outputId": "fbf7cba0-85ea-4a20-c0f0-c76cfac2caf9"
      },
      "source": [
        "df.isnull().sum()"
      ],
      "execution_count": 73,
      "outputs": [
        {
          "output_type": "execute_result",
          "data": {
            "text/plain": [
              "customerID          0\n",
              "gender              0\n",
              "SeniorCitizen       0\n",
              "Partner             0\n",
              "Dependents          0\n",
              "tenure              0\n",
              "PhoneService        0\n",
              "MultipleLines       0\n",
              "InternetService     0\n",
              "OnlineSecurity      0\n",
              "OnlineBackup        0\n",
              "DeviceProtection    0\n",
              "TechSupport         0\n",
              "StreamingTV         0\n",
              "StreamingMovies     0\n",
              "Contract            0\n",
              "PaperlessBilling    0\n",
              "PaymentMethod       0\n",
              "MonthlyCharges      0\n",
              "TotalCharges        0\n",
              "Churn               0\n",
              "dtype: int64"
            ]
          },
          "metadata": {
            "tags": []
          },
          "execution_count": 73
        }
      ]
    },
    {
      "cell_type": "code",
      "metadata": {
        "colab": {
          "base_uri": "https://localhost:8080/",
          "height": 138
        },
        "id": "FvUDbj_DKu8j",
        "outputId": "4c3bbfe5-efaf-4333-f4ab-43a8bd95aac4"
      },
      "source": [
        "df.describe().transpose()"
      ],
      "execution_count": 74,
      "outputs": [
        {
          "output_type": "execute_result",
          "data": {
            "text/html": [
              "<div>\n",
              "<style scoped>\n",
              "    .dataframe tbody tr th:only-of-type {\n",
              "        vertical-align: middle;\n",
              "    }\n",
              "\n",
              "    .dataframe tbody tr th {\n",
              "        vertical-align: top;\n",
              "    }\n",
              "\n",
              "    .dataframe thead th {\n",
              "        text-align: right;\n",
              "    }\n",
              "</style>\n",
              "<table border=\"1\" class=\"dataframe\">\n",
              "  <thead>\n",
              "    <tr style=\"text-align: right;\">\n",
              "      <th></th>\n",
              "      <th>count</th>\n",
              "      <th>mean</th>\n",
              "      <th>std</th>\n",
              "      <th>min</th>\n",
              "      <th>25%</th>\n",
              "      <th>50%</th>\n",
              "      <th>75%</th>\n",
              "      <th>max</th>\n",
              "    </tr>\n",
              "  </thead>\n",
              "  <tbody>\n",
              "    <tr>\n",
              "      <th>SeniorCitizen</th>\n",
              "      <td>7043.0</td>\n",
              "      <td>0.162147</td>\n",
              "      <td>0.368612</td>\n",
              "      <td>0.00</td>\n",
              "      <td>0.0</td>\n",
              "      <td>0.00</td>\n",
              "      <td>0.00</td>\n",
              "      <td>1.00</td>\n",
              "    </tr>\n",
              "    <tr>\n",
              "      <th>tenure</th>\n",
              "      <td>7043.0</td>\n",
              "      <td>32.371149</td>\n",
              "      <td>24.559481</td>\n",
              "      <td>0.00</td>\n",
              "      <td>9.0</td>\n",
              "      <td>29.00</td>\n",
              "      <td>55.00</td>\n",
              "      <td>72.00</td>\n",
              "    </tr>\n",
              "    <tr>\n",
              "      <th>MonthlyCharges</th>\n",
              "      <td>7043.0</td>\n",
              "      <td>64.761692</td>\n",
              "      <td>30.090047</td>\n",
              "      <td>18.25</td>\n",
              "      <td>35.5</td>\n",
              "      <td>70.35</td>\n",
              "      <td>89.85</td>\n",
              "      <td>118.75</td>\n",
              "    </tr>\n",
              "  </tbody>\n",
              "</table>\n",
              "</div>"
            ],
            "text/plain": [
              "                 count       mean        std    min   25%    50%    75%     max\n",
              "SeniorCitizen   7043.0   0.162147   0.368612   0.00   0.0   0.00   0.00    1.00\n",
              "tenure          7043.0  32.371149  24.559481   0.00   9.0  29.00  55.00   72.00\n",
              "MonthlyCharges  7043.0  64.761692  30.090047  18.25  35.5  70.35  89.85  118.75"
            ]
          },
          "metadata": {
            "tags": []
          },
          "execution_count": 74
        }
      ]
    },
    {
      "cell_type": "code",
      "metadata": {
        "colab": {
          "base_uri": "https://localhost:8080/",
          "height": 340
        },
        "id": "yDhgvD15Ku8j",
        "outputId": "225f8ea8-a9c2-4adb-9676-d02f09217b7a"
      },
      "source": [
        "df.corr()['MonthlyCharges'][:-1].sort_values().plot(kind='bar')"
      ],
      "execution_count": 75,
      "outputs": [
        {
          "output_type": "execute_result",
          "data": {
            "text/plain": [
              "<matplotlib.axes._subplots.AxesSubplot at 0x7f631c507208>"
            ]
          },
          "metadata": {
            "tags": []
          },
          "execution_count": 75
        },
        {
          "output_type": "display_data",
          "data": {
            "image/png": "[encoded data removed]",
            "text/plain": [
              "<Figure size 432x288 with 1 Axes>"
            ]
          },
          "metadata": {
            "tags": [],
            "needs_background": "light"
          }
        }
      ]
    },
    {
      "cell_type": "markdown",
      "metadata": {
        "id": "WTvo7E9IKu8j"
      },
      "source": [
        "### ④ 데이터 전처리"
      ]
    },
    {
      "cell_type": "code",
      "metadata": {
        "id": "EXoe4UgGKu8j"
      },
      "source": [
        "df.drop('customerID', axis=1, inplace=True)"
      ],
      "execution_count": 76,
      "outputs": []
    },
    {
      "cell_type": "code",
      "metadata": {
        "id": "ix2MxklMKu8j"
      },
      "source": [
        "df['TotalCharges'].replace([' '], ['0'], inplace=True)"
      ],
      "execution_count": 77,
      "outputs": []
    },
    {
      "cell_type": "code",
      "metadata": {
        "id": "9YIGe9P3Ku8j"
      },
      "source": [
        "df['TotalCharges'] = df['TotalCharges'].astype(float)"
      ],
      "execution_count": 78,
      "outputs": []
    },
    {
      "cell_type": "code",
      "metadata": {
        "id": "5JnBDm85Ku8j"
      },
      "source": [
        "df['Churn'].replace(['Yes', 'No'], [1, 0], inplace=True)"
      ],
      "execution_count": 79,
      "outputs": []
    },
    {
      "cell_type": "markdown",
      "metadata": {
        "id": "OuWj2mlvKu8j"
      },
      "source": [
        "### 더미 특성 생성"
      ]
    },
    {
      "cell_type": "code",
      "metadata": {
        "id": "VYpdqLJhKu8j"
      },
      "source": [
        "cols = ['gender', 'Partner', 'Dependents', 'PhoneService', 'MultipleLines', \n",
        "        'InternetService', 'OnlineSecurity', 'OnlineBackup', 'DeviceProtection', \n",
        "        'TechSupport', 'StreamingTV', 'StreamingMovies', 'Contract', \n",
        "        'PaperlessBilling', 'PaymentMethod']"
      ],
      "execution_count": 80,
      "outputs": []
    },
    {
      "cell_type": "code",
      "metadata": {
        "id": "CyF-ixcVKu8j"
      },
      "source": [
        "dummies = pd.get_dummies(df[cols], drop_first=True)"
      ],
      "execution_count": 81,
      "outputs": []
    },
    {
      "cell_type": "code",
      "metadata": {
        "id": "16FejSRAKu8j"
      },
      "source": [
        "df = df.drop(cols, axis=1)"
      ],
      "execution_count": 82,
      "outputs": []
    },
    {
      "cell_type": "code",
      "metadata": {
        "id": "WCO9vB6eKu8j"
      },
      "source": [
        "df = pd.concat([df, dummies], axis=1)"
      ],
      "execution_count": 83,
      "outputs": []
    },
    {
      "cell_type": "code",
      "metadata": {
        "id": "_W4nTny7Ku8j"
      },
      "source": [
        "# df = pd.get_dummies(df)\n",
        "# cols = list(df.select_dtypes('object').columns)"
      ],
      "execution_count": 84,
      "outputs": []
    },
    {
      "cell_type": "markdown",
      "metadata": {
        "id": "pyKBvo_gKu8j"
      },
      "source": [
        "### ⑤ Train, Test  데이터셋 분할"
      ]
    },
    {
      "cell_type": "code",
      "metadata": {
        "id": "uBzPO0bTKu8j"
      },
      "source": [
        "from sklearn.model_selection import train_test_split"
      ],
      "execution_count": 85,
      "outputs": []
    },
    {
      "cell_type": "code",
      "metadata": {
        "id": "kVxOkKkwKu8j"
      },
      "source": [
        "X = df.drop('Churn', axis=1).values\n",
        "y = df['Churn'].values"
      ],
      "execution_count": 86,
      "outputs": []
    },
    {
      "cell_type": "code",
      "metadata": {
        "id": "xViKA0VeKu8j"
      },
      "source": [
        "X_train, X_test, y_train, y_test = train_test_split(X, y, \n",
        "                                                    test_size=0.3, \n",
        "                                                    random_state=42)"
      ],
      "execution_count": 87,
      "outputs": []
    },
    {
      "cell_type": "code",
      "metadata": {
        "colab": {
          "base_uri": "https://localhost:8080/"
        },
        "id": "WOB04re_Ku8j",
        "outputId": "519c5a0b-dc41-4b42-92bd-d043d6ac29e2"
      },
      "source": [
        "X_train.shape"
      ],
      "execution_count": 88,
      "outputs": [
        {
          "output_type": "execute_result",
          "data": {
            "text/plain": [
              "(4930, 30)"
            ]
          },
          "metadata": {
            "tags": []
          },
          "execution_count": 88
        }
      ]
    },
    {
      "cell_type": "code",
      "metadata": {
        "colab": {
          "base_uri": "https://localhost:8080/"
        },
        "id": "WYzAtawMKu8j",
        "outputId": "8837b393-22ee-49e0-8a8e-e7c66abb0cca"
      },
      "source": [
        "y_train.shape"
      ],
      "execution_count": 89,
      "outputs": [
        {
          "output_type": "execute_result",
          "data": {
            "text/plain": [
              "(4930,)"
            ]
          },
          "metadata": {
            "tags": []
          },
          "execution_count": 89
        }
      ]
    },
    {
      "cell_type": "markdown",
      "metadata": {
        "id": "SqCsgHxiKu8j"
      },
      "source": [
        "### 데이터 정규화/스케일링(Normalizing/Scaling)"
      ]
    },
    {
      "cell_type": "code",
      "metadata": {
        "id": "HlwzqwefKu8j"
      },
      "source": [
        "from sklearn.preprocessing import MinMaxScaler"
      ],
      "execution_count": 90,
      "outputs": []
    },
    {
      "cell_type": "code",
      "metadata": {
        "colab": {
          "base_uri": "https://localhost:8080/"
        },
        "id": "FHvQArdVKu8j",
        "outputId": "f0162de3-15e7-41c5-b920-bd7c0b3be351"
      },
      "source": [
        "help(MinMaxScaler)"
      ],
      "execution_count": 91,
      "outputs": [
        {
          "output_type": "stream",
          "text": [
            "Help on class MinMaxScaler in module sklearn.preprocessing._data:\n",
            "\n",
            "class MinMaxScaler(sklearn.base.TransformerMixin, sklearn.base.BaseEstimator)\n",
            " |  Transform features by scaling each feature to a given range.\n",
            " |  \n",
            " |  This estimator scales and translates each feature individually such\n",
            " |  that it is in the given range on the training set, e.g. between\n",
            " |  zero and one.\n",
            " |  \n",
            " |  The transformation is given by::\n",
            " |  \n",
            " |      X_std = (X - X.min(axis=0)) / (X.max(axis=0) - X.min(axis=0))\n",
            " |      X_scaled = X_std * (max - min) + min\n",
            " |  \n",
            " |  where min, max = feature_range.\n",
            " |  \n",
            " |  The transformation is calculated as::\n",
            " |  \n",
            " |      X_scaled = scale * X + min - X.min(axis=0) * scale\n",
            " |      where scale = (max - min) / (X.max(axis=0) - X.min(axis=0))\n",
            " |  \n",
            " |  This transformation is often used as an alternative to zero mean,\n",
            " |  unit variance scaling.\n",
            " |  \n",
            " |  Read more in the :ref:`User Guide <preprocessing_scaler>`.\n",
            " |  \n",
            " |  Parameters\n",
            " |  ----------\n",
            " |  feature_range : tuple (min, max), default=(0, 1)\n",
            " |      Desired range of transformed data.\n",
            " |  \n",
            " |  copy : bool, default=True\n",
            " |      Set to False to perform inplace row normalization and avoid a\n",
            " |      copy (if the input is already a numpy array).\n",
            " |  \n",
            " |  Attributes\n",
            " |  ----------\n",
            " |  min_ : ndarray of shape (n_features,)\n",
            " |      Per feature adjustment for minimum. Equivalent to\n",
            " |      ``min - X.min(axis=0) * self.scale_``\n",
            " |  \n",
            " |  scale_ : ndarray of shape (n_features,)\n",
            " |      Per feature relative scaling of the data. Equivalent to\n",
            " |      ``(max - min) / (X.max(axis=0) - X.min(axis=0))``\n",
            " |  \n",
            " |      .. versionadded:: 0.17\n",
            " |         *scale_* attribute.\n",
            " |  \n",
            " |  data_min_ : ndarray of shape (n_features,)\n",
            " |      Per feature minimum seen in the data\n",
            " |  \n",
            " |      .. versionadded:: 0.17\n",
            " |         *data_min_*\n",
            " |  \n",
            " |  data_max_ : ndarray of shape (n_features,)\n",
            " |      Per feature maximum seen in the data\n",
            " |  \n",
            " |      .. versionadded:: 0.17\n",
            " |         *data_max_*\n",
            " |  \n",
            " |  data_range_ : ndarray of shape (n_features,)\n",
            " |      Per feature range ``(data_max_ - data_min_)`` seen in the data\n",
            " |  \n",
            " |      .. versionadded:: 0.17\n",
            " |         *data_range_*\n",
            " |  \n",
            " |  n_samples_seen_ : int\n",
            " |      The number of samples processed by the estimator.\n",
            " |      It will be reset on new calls to fit, but increments across\n",
            " |      ``partial_fit`` calls.\n",
            " |  \n",
            " |  Examples\n",
            " |  --------\n",
            " |  >>> from sklearn.preprocessing import MinMaxScaler\n",
            " |  >>> data = [[-1, 2], [-0.5, 6], [0, 10], [1, 18]]\n",
            " |  >>> scaler = MinMaxScaler()\n",
            " |  >>> print(scaler.fit(data))\n",
            " |  MinMaxScaler()\n",
            " |  >>> print(scaler.data_max_)\n",
            " |  [ 1. 18.]\n",
            " |  >>> print(scaler.transform(data))\n",
            " |  [[0.   0.  ]\n",
            " |   [0.25 0.25]\n",
            " |   [0.5  0.5 ]\n",
            " |   [1.   1.  ]]\n",
            " |  >>> print(scaler.transform([[2, 2]]))\n",
            " |  [[1.5 0. ]]\n",
            " |  \n",
            " |  See also\n",
            " |  --------\n",
            " |  minmax_scale: Equivalent function without the estimator API.\n",
            " |  \n",
            " |  Notes\n",
            " |  -----\n",
            " |  NaNs are treated as missing values: disregarded in fit, and maintained in\n",
            " |  transform.\n",
            " |  \n",
            " |  For a comparison of the different scalers, transformers, and normalizers,\n",
            " |  see :ref:`examples/preprocessing/plot_all_scaling.py\n",
            " |  <sphx_glr_auto_examples_preprocessing_plot_all_scaling.py>`.\n",
            " |  \n",
            " |  Method resolution order:\n",
            " |      MinMaxScaler\n",
            " |      sklearn.base.TransformerMixin\n",
            " |      sklearn.base.BaseEstimator\n",
            " |      builtins.object\n",
            " |  \n",
            " |  Methods defined here:\n",
            " |  \n",
            " |  __init__(self, feature_range=(0, 1), copy=True)\n",
            " |      Initialize self.  See help(type(self)) for accurate signature.\n",
            " |  \n",
            " |  fit(self, X, y=None)\n",
            " |      Compute the minimum and maximum to be used for later scaling.\n",
            " |      \n",
            " |      Parameters\n",
            " |      ----------\n",
            " |      X : array-like of shape (n_samples, n_features)\n",
            " |          The data used to compute the per-feature minimum and maximum\n",
            " |          used for later scaling along the features axis.\n",
            " |      \n",
            " |      y : None\n",
            " |          Ignored.\n",
            " |      \n",
            " |      Returns\n",
            " |      -------\n",
            " |      self : object\n",
            " |          Fitted scaler.\n",
            " |  \n",
            " |  inverse_transform(self, X)\n",
            " |      Undo the scaling of X according to feature_range.\n",
            " |      \n",
            " |      Parameters\n",
            " |      ----------\n",
            " |      X : array-like of shape (n_samples, n_features)\n",
            " |          Input data that will be transformed. It cannot be sparse.\n",
            " |      \n",
            " |      Returns\n",
            " |      -------\n",
            " |      Xt : array-like of shape (n_samples, n_features)\n",
            " |          Transformed data.\n",
            " |  \n",
            " |  partial_fit(self, X, y=None)\n",
            " |      Online computation of min and max on X for later scaling.\n",
            " |      \n",
            " |      All of X is processed as a single batch. This is intended for cases\n",
            " |      when :meth:`fit` is not feasible due to very large number of\n",
            " |      `n_samples` or because X is read from a continuous stream.\n",
            " |      \n",
            " |      Parameters\n",
            " |      ----------\n",
            " |      X : array-like of shape (n_samples, n_features)\n",
            " |          The data used to compute the mean and standard deviation\n",
            " |          used for later scaling along the features axis.\n",
            " |      \n",
            " |      y : None\n",
            " |          Ignored.\n",
            " |      \n",
            " |      Returns\n",
            " |      -------\n",
            " |      self : object\n",
            " |          Transformer instance.\n",
            " |  \n",
            " |  transform(self, X)\n",
            " |      Scale features of X according to feature_range.\n",
            " |      \n",
            " |      Parameters\n",
            " |      ----------\n",
            " |      X : array-like of shape (n_samples, n_features)\n",
            " |          Input data that will be transformed.\n",
            " |      \n",
            " |      Returns\n",
            " |      -------\n",
            " |      Xt : array-like of shape (n_samples, n_features)\n",
            " |          Transformed data.\n",
            " |  \n",
            " |  ----------------------------------------------------------------------\n",
            " |  Methods inherited from sklearn.base.TransformerMixin:\n",
            " |  \n",
            " |  fit_transform(self, X, y=None, **fit_params)\n",
            " |      Fit to data, then transform it.\n",
            " |      \n",
            " |      Fits transformer to X and y with optional parameters fit_params\n",
            " |      and returns a transformed version of X.\n",
            " |      \n",
            " |      Parameters\n",
            " |      ----------\n",
            " |      X : numpy array of shape [n_samples, n_features]\n",
            " |          Training set.\n",
            " |      \n",
            " |      y : numpy array of shape [n_samples]\n",
            " |          Target values.\n",
            " |      \n",
            " |      **fit_params : dict\n",
            " |          Additional fit parameters.\n",
            " |      \n",
            " |      Returns\n",
            " |      -------\n",
            " |      X_new : numpy array of shape [n_samples, n_features_new]\n",
            " |          Transformed array.\n",
            " |  \n",
            " |  ----------------------------------------------------------------------\n",
            " |  Data descriptors inherited from sklearn.base.TransformerMixin:\n",
            " |  \n",
            " |  __dict__\n",
            " |      dictionary for instance variables (if defined)\n",
            " |  \n",
            " |  __weakref__\n",
            " |      list of weak references to the object (if defined)\n",
            " |  \n",
            " |  ----------------------------------------------------------------------\n",
            " |  Methods inherited from sklearn.base.BaseEstimator:\n",
            " |  \n",
            " |  __getstate__(self)\n",
            " |  \n",
            " |  __repr__(self, N_CHAR_MAX=700)\n",
            " |      Return repr(self).\n",
            " |  \n",
            " |  __setstate__(self, state)\n",
            " |  \n",
            " |  get_params(self, deep=True)\n",
            " |      Get parameters for this estimator.\n",
            " |      \n",
            " |      Parameters\n",
            " |      ----------\n",
            " |      deep : bool, default=True\n",
            " |          If True, will return the parameters for this estimator and\n",
            " |          contained subobjects that are estimators.\n",
            " |      \n",
            " |      Returns\n",
            " |      -------\n",
            " |      params : mapping of string to any\n",
            " |          Parameter names mapped to their values.\n",
            " |  \n",
            " |  set_params(self, **params)\n",
            " |      Set the parameters of this estimator.\n",
            " |      \n",
            " |      The method works on simple estimators as well as on nested objects\n",
            " |      (such as pipelines). The latter have parameters of the form\n",
            " |      ``<component>__<parameter>`` so that it's possible to update each\n",
            " |      component of a nested object.\n",
            " |      \n",
            " |      Parameters\n",
            " |      ----------\n",
            " |      **params : dict\n",
            " |          Estimator parameters.\n",
            " |      \n",
            " |      Returns\n",
            " |      -------\n",
            " |      self : object\n",
            " |          Estimator instance.\n",
            "\n"
          ],
          "name": "stdout"
        }
      ]
    },
    {
      "cell_type": "code",
      "metadata": {
        "id": "l9ENFbSbKu8k"
      },
      "source": [
        "scaler = MinMaxScaler()\n",
        "scaler.fit(X_train)\n",
        "X_train = scaler.transform(X_train)\n",
        "X_test = scaler.transform(X_test)"
      ],
      "execution_count": 92,
      "outputs": []
    },
    {
      "cell_type": "markdown",
      "metadata": {
        "id": "qeJNY_B3Ku8k"
      },
      "source": [
        "### 모델 입력갯수, 출력갯수 확인"
      ]
    },
    {
      "cell_type": "code",
      "metadata": {
        "colab": {
          "base_uri": "https://localhost:8080/"
        },
        "id": "Cf4SXnH9Ku8k",
        "outputId": "bdb443fb-8266-444b-e232-fbb69d9a10e0"
      },
      "source": [
        "X_train.shape"
      ],
      "execution_count": 93,
      "outputs": [
        {
          "output_type": "execute_result",
          "data": {
            "text/plain": [
              "(4930, 30)"
            ]
          },
          "metadata": {
            "tags": []
          },
          "execution_count": 93
        }
      ]
    },
    {
      "cell_type": "code",
      "metadata": {
        "colab": {
          "base_uri": "https://localhost:8080/"
        },
        "id": "SZVMsZTLKu8k",
        "outputId": "7721c7ca-73c5-4cfd-9b12-1116c60e55ac"
      },
      "source": [
        "y_train.shape"
      ],
      "execution_count": 94,
      "outputs": [
        {
          "output_type": "execute_result",
          "data": {
            "text/plain": [
              "(4930,)"
            ]
          },
          "metadata": {
            "tags": []
          },
          "execution_count": 94
        }
      ]
    },
    {
      "cell_type": "markdown",
      "metadata": {
        "id": "spOGOLdWKu8k"
      },
      "source": [
        "### ⑦ 모델 개발"
      ]
    },
    {
      "cell_type": "code",
      "metadata": {
        "id": "kB0tNJLPKu8k"
      },
      "source": [
        "model = Sequential()\n",
        "\n",
        "# input layer\n",
        "model.add(Dense(64, activation='relu', input_shape=(30,)))\n",
        "\n",
        "# hidden layer\n",
        "model.add(Dense(64, activation='relu'))\n",
        "\n",
        "# hidden layer\n",
        "model.add(Dense(32, activation='relu'))\n",
        "\n",
        "# output layer\n",
        "model.add(Dense(1, activation='sigmoid'))"
      ],
      "execution_count": 95,
      "outputs": []
    },
    {
      "cell_type": "markdown",
      "metadata": {
        "id": "GXJFTfrZKu8k"
      },
      "source": [
        "### 모델 구성 -  과적합 방지"
      ]
    },
    {
      "cell_type": "code",
      "metadata": {
        "id": "-togVAJGKu8k"
      },
      "source": [
        "model = Sequential()\n",
        "model.add(Dense(128, activation='relu', input_shape=(30,)))\n",
        "model.add(Dropout(0.5))\n",
        "model.add(Dense(64, activation='relu'))\n",
        "model.add(Dropout(0.5))\n",
        "model.add(Dense(64, activation='relu'))\n",
        "model.add(Dropout(0.5))\n",
        "model.add(Dense(32, activation='relu'))\n",
        "model.add(Dropout(0.5))\n",
        "\n",
        "model.add(Dense(1, activation='sigmoid'))"
      ],
      "execution_count": 96,
      "outputs": []
    },
    {
      "cell_type": "markdown",
      "metadata": {
        "id": "h6GUkt9uKu8k"
      },
      "source": [
        "### 모델 확인"
      ]
    },
    {
      "cell_type": "code",
      "metadata": {
        "colab": {
          "base_uri": "https://localhost:8080/"
        },
        "id": "evHyumLfKu8k",
        "outputId": "49ff6ae4-11ff-432a-e27c-90a97bba740e"
      },
      "source": [
        "model.summary()"
      ],
      "execution_count": 97,
      "outputs": [
        {
          "output_type": "stream",
          "text": [
            "Model: \"sequential_1\"\n",
            "_________________________________________________________________\n",
            "Layer (type)                 Output Shape              Param #   \n",
            "=================================================================\n",
            "dense_4 (Dense)              (None, 128)               3968      \n",
            "_________________________________________________________________\n",
            "dropout (Dropout)            (None, 128)               0         \n",
            "_________________________________________________________________\n",
            "dense_5 (Dense)              (None, 64)                8256      \n",
            "_________________________________________________________________\n",
            "dropout_1 (Dropout)          (None, 64)                0         \n",
            "_________________________________________________________________\n",
            "dense_6 (Dense)              (None, 64)                4160      \n",
            "_________________________________________________________________\n",
            "dropout_2 (Dropout)          (None, 64)                0         \n",
            "_________________________________________________________________\n",
            "dense_7 (Dense)              (None, 32)                2080      \n",
            "_________________________________________________________________\n",
            "dropout_3 (Dropout)          (None, 32)                0         \n",
            "_________________________________________________________________\n",
            "dense_8 (Dense)              (None, 1)                 33        \n",
            "=================================================================\n",
            "Total params: 18,497\n",
            "Trainable params: 18,497\n",
            "Non-trainable params: 0\n",
            "_________________________________________________________________\n"
          ],
          "name": "stdout"
        }
      ]
    },
    {
      "cell_type": "code",
      "metadata": {
        "id": "65Boa6dlKu8k"
      },
      "source": [
        "hidden1 = model.layers[0]"
      ],
      "execution_count": 98,
      "outputs": []
    },
    {
      "cell_type": "code",
      "metadata": {
        "id": "0jri7H_4Ku8k"
      },
      "source": [
        "weights, biases = hidden1.get_weights()"
      ],
      "execution_count": 99,
      "outputs": []
    },
    {
      "cell_type": "code",
      "metadata": {
        "colab": {
          "base_uri": "https://localhost:8080/"
        },
        "id": "vADUjkHrKu8k",
        "outputId": "5c9e8d91-b403-4f8f-f065-1a29dacf6a82"
      },
      "source": [
        "print(weights)"
      ],
      "execution_count": 100,
      "outputs": [
        {
          "output_type": "stream",
          "text": [
            "[[-0.11113919  0.02904978  0.01799893 ... -0.01545149 -0.00222431\n",
            "  -0.13477735]\n",
            " [-0.00063586 -0.00029777  0.11754121 ... -0.09198877 -0.15931922\n",
            "   0.01529621]\n",
            " [-0.17310812 -0.18021792 -0.0383309  ... -0.16741805 -0.16317041\n",
            "   0.11825518]\n",
            " ...\n",
            " [ 0.10619776  0.18244271  0.09965773 ... -0.17901218 -0.17507164\n",
            "  -0.05584422]\n",
            " [-0.14915642 -0.01501085  0.15605722 ...  0.14115582  0.01597537\n",
            "  -0.15210427]\n",
            " [ 0.08256991  0.15537442  0.16551001 ...  0.06754543  0.11127286\n",
            "   0.00812103]]\n"
          ],
          "name": "stdout"
        }
      ]
    },
    {
      "cell_type": "code",
      "metadata": {
        "colab": {
          "base_uri": "https://localhost:8080/"
        },
        "id": "bLD6yKMbKu8k",
        "outputId": "1f02f0fd-2ca5-40fd-c752-b93bb662d55d"
      },
      "source": [
        "print(biases)"
      ],
      "execution_count": 101,
      "outputs": [
        {
          "output_type": "stream",
          "text": [
            "[0. 0. 0. 0. 0. 0. 0. 0. 0. 0. 0. 0. 0. 0. 0. 0. 0. 0. 0. 0. 0. 0. 0. 0.\n",
            " 0. 0. 0. 0. 0. 0. 0. 0. 0. 0. 0. 0. 0. 0. 0. 0. 0. 0. 0. 0. 0. 0. 0. 0.\n",
            " 0. 0. 0. 0. 0. 0. 0. 0. 0. 0. 0. 0. 0. 0. 0. 0. 0. 0. 0. 0. 0. 0. 0. 0.\n",
            " 0. 0. 0. 0. 0. 0. 0. 0. 0. 0. 0. 0. 0. 0. 0. 0. 0. 0. 0. 0. 0. 0. 0. 0.\n",
            " 0. 0. 0. 0. 0. 0. 0. 0. 0. 0. 0. 0. 0. 0. 0. 0. 0. 0. 0. 0. 0. 0. 0. 0.\n",
            " 0. 0. 0. 0. 0. 0. 0. 0.]\n"
          ],
          "name": "stdout"
        }
      ]
    },
    {
      "cell_type": "markdown",
      "metadata": {
        "id": "KVwM9R5oKu8k"
      },
      "source": [
        "#### 모델 컴파일 – 이진 분류 모델"
      ]
    },
    {
      "cell_type": "code",
      "metadata": {
        "id": "lWCoaAU6Ku8k"
      },
      "source": [
        "model.compile(optimizer='adam', \n",
        "              loss='binary_crossentropy', \n",
        "              metrics=['accuracy']) "
      ],
      "execution_count": 102,
      "outputs": []
    },
    {
      "cell_type": "markdown",
      "metadata": {
        "id": "k65qcMpZKu8k"
      },
      "source": [
        "- 모델 컴파일 – 다중 분류 모델  \n",
        "model.compile(optimizer='adam', \n",
        "              loss='categorical_crossentropy', \n",
        "              metrics=['accuracy']) \n"
      ]
    },
    {
      "cell_type": "markdown",
      "metadata": {
        "id": "ORJmg8O_Ku8k"
      },
      "source": [
        "- 모델 컴파일 – 예측 모델\n",
        "model.compile(optimizer='adam', loss='mse')"
      ]
    },
    {
      "cell_type": "markdown",
      "metadata": {
        "id": "eBJhPOMmKu8k"
      },
      "source": [
        "### 모델 훈련(학습) 하기"
      ]
    },
    {
      "cell_type": "code",
      "metadata": {
        "colab": {
          "base_uri": "https://localhost:8080/"
        },
        "id": "Ien9p8A9Ku8k",
        "outputId": "1d86857c-9068-443f-dbb4-f5b5adeb7fd6"
      },
      "source": [
        "model.fit(X_train, y_train, \n",
        "          validation_data=(X_test, y_test),\n",
        "          epochs=20, \n",
        "          batch_size=10)"
      ],
      "execution_count": 103,
      "outputs": [
        {
          "output_type": "stream",
          "text": [
            "Epoch 1/20\n",
            "493/493 [==============================] - 1s 2ms/step - loss: 0.5201 - accuracy: 0.7363 - val_loss: 0.4344 - val_accuracy: 0.7790\n",
            "Epoch 2/20\n",
            "493/493 [==============================] - 1s 2ms/step - loss: 0.4792 - accuracy: 0.7576 - val_loss: 0.4447 - val_accuracy: 0.7965\n",
            "Epoch 3/20\n",
            "493/493 [==============================] - 1s 2ms/step - loss: 0.4710 - accuracy: 0.7722 - val_loss: 0.4252 - val_accuracy: 0.7974\n",
            "Epoch 4/20\n",
            "493/493 [==============================] - 1s 2ms/step - loss: 0.4653 - accuracy: 0.7819 - val_loss: 0.4216 - val_accuracy: 0.7993\n",
            "Epoch 5/20\n",
            "493/493 [==============================] - 1s 2ms/step - loss: 0.4495 - accuracy: 0.7917 - val_loss: 0.4219 - val_accuracy: 0.8027\n",
            "Epoch 6/20\n",
            "493/493 [==============================] - 1s 2ms/step - loss: 0.4521 - accuracy: 0.7903 - val_loss: 0.4180 - val_accuracy: 0.8041\n",
            "Epoch 7/20\n",
            "493/493 [==============================] - 1s 2ms/step - loss: 0.4419 - accuracy: 0.7953 - val_loss: 0.4172 - val_accuracy: 0.8050\n",
            "Epoch 8/20\n",
            "493/493 [==============================] - 1s 2ms/step - loss: 0.4437 - accuracy: 0.7911 - val_loss: 0.4167 - val_accuracy: 0.7984\n",
            "Epoch 9/20\n",
            "493/493 [==============================] - 1s 2ms/step - loss: 0.4442 - accuracy: 0.7925 - val_loss: 0.4136 - val_accuracy: 0.8022\n",
            "Epoch 10/20\n",
            "493/493 [==============================] - 1s 2ms/step - loss: 0.4371 - accuracy: 0.7927 - val_loss: 0.4201 - val_accuracy: 0.8036\n",
            "Epoch 11/20\n",
            "493/493 [==============================] - 1s 2ms/step - loss: 0.4442 - accuracy: 0.7959 - val_loss: 0.4187 - val_accuracy: 0.8027\n",
            "Epoch 12/20\n",
            "493/493 [==============================] - 1s 2ms/step - loss: 0.4319 - accuracy: 0.8000 - val_loss: 0.4173 - val_accuracy: 0.8027\n",
            "Epoch 13/20\n",
            "493/493 [==============================] - 1s 2ms/step - loss: 0.4361 - accuracy: 0.7998 - val_loss: 0.4326 - val_accuracy: 0.8074\n",
            "Epoch 14/20\n",
            "493/493 [==============================] - 1s 2ms/step - loss: 0.4334 - accuracy: 0.7976 - val_loss: 0.4199 - val_accuracy: 0.8012\n",
            "Epoch 15/20\n",
            "493/493 [==============================] - 1s 2ms/step - loss: 0.4276 - accuracy: 0.8030 - val_loss: 0.4204 - val_accuracy: 0.8017\n",
            "Epoch 16/20\n",
            "493/493 [==============================] - 1s 2ms/step - loss: 0.4357 - accuracy: 0.7974 - val_loss: 0.4201 - val_accuracy: 0.8017\n",
            "Epoch 17/20\n",
            "493/493 [==============================] - 1s 2ms/step - loss: 0.4364 - accuracy: 0.7998 - val_loss: 0.4201 - val_accuracy: 0.8069\n",
            "Epoch 18/20\n",
            "493/493 [==============================] - 1s 2ms/step - loss: 0.4287 - accuracy: 0.8022 - val_loss: 0.4263 - val_accuracy: 0.7984\n",
            "Epoch 19/20\n",
            "493/493 [==============================] - 1s 2ms/step - loss: 0.4295 - accuracy: 0.8014 - val_loss: 0.4249 - val_accuracy: 0.8022\n",
            "Epoch 20/20\n",
            "493/493 [==============================] - 1s 2ms/step - loss: 0.4271 - accuracy: 0.8051 - val_loss: 0.4233 - val_accuracy: 0.8022\n"
          ],
          "name": "stdout"
        },
        {
          "output_type": "execute_result",
          "data": {
            "text/plain": [
              "<tensorflow.python.keras.callbacks.History at 0x7f63165b3fd0>"
            ]
          },
          "metadata": {
            "tags": []
          },
          "execution_count": 103
        }
      ]
    },
    {
      "cell_type": "markdown",
      "metadata": {
        "id": "P9nFZr6KKu8k"
      },
      "source": [
        "### 모델 훈련(학습) - 조기종료"
      ]
    },
    {
      "cell_type": "code",
      "metadata": {
        "id": "ufprCOfHKu8k"
      },
      "source": [
        "from tensorflow.keras.callbacks import EarlyStopping, ModelCheckpoint"
      ],
      "execution_count": 104,
      "outputs": []
    },
    {
      "cell_type": "code",
      "metadata": {
        "id": "Fu9j-6_sKu8k"
      },
      "source": [
        "early_stop = EarlyStopping(monitor='val_loss', mode='min', \n",
        "                           verbose=1, patience=25)"
      ],
      "execution_count": 105,
      "outputs": []
    },
    {
      "cell_type": "code",
      "metadata": {
        "id": "EZe2nIkaKu8k"
      },
      "source": [
        "check_point = ModelCheckpoint('best_model.h5', verbose=1,\n",
        "                              monitor='val_loss', mode='min', \n",
        "                              save_best_only=True)"
      ],
      "execution_count": 106,
      "outputs": []
    },
    {
      "cell_type": "code",
      "metadata": {
        "colab": {
          "base_uri": "https://localhost:8080/"
        },
        "id": "i9msPJxqKu8k",
        "outputId": "44f8e720-e163-4852-bfad-a324e03c8ae2"
      },
      "source": [
        "history = model.fit(x=X_train, y=y_train, \n",
        "          epochs=50 , batch_size=20,\n",
        "          validation_data=(X_test, y_test), \n",
        "          verbose=1,\n",
        "          callbacks=[early_stop, check_point])"
      ],
      "execution_count": 107,
      "outputs": [
        {
          "output_type": "stream",
          "text": [
            "Epoch 1/50\n",
            "225/247 [==========================>...] - ETA: 0s - loss: 0.4228 - accuracy: 0.8051\n",
            "Epoch 00001: val_loss improved from inf to 0.41709, saving model to best_model.h5\n",
            "247/247 [==============================] - 1s 3ms/step - loss: 0.4252 - accuracy: 0.8043 - val_loss: 0.4171 - val_accuracy: 0.8041\n",
            "Epoch 2/50\n",
            "243/247 [============================>.] - ETA: 0s - loss: 0.4207 - accuracy: 0.8072\n",
            "Epoch 00002: val_loss did not improve from 0.41709\n",
            "247/247 [==============================] - 1s 2ms/step - loss: 0.4198 - accuracy: 0.8077 - val_loss: 0.4175 - val_accuracy: 0.8074\n",
            "Epoch 3/50\n",
            "222/247 [=========================>....] - ETA: 0s - loss: 0.4209 - accuracy: 0.8032\n",
            "Epoch 00003: val_loss did not improve from 0.41709\n",
            "247/247 [==============================] - 1s 2ms/step - loss: 0.4211 - accuracy: 0.8028 - val_loss: 0.4213 - val_accuracy: 0.8017\n",
            "Epoch 4/50\n",
            "234/247 [===========================>..] - ETA: 0s - loss: 0.4208 - accuracy: 0.8068\n",
            "Epoch 00004: val_loss did not improve from 0.41709\n",
            "247/247 [==============================] - 1s 2ms/step - loss: 0.4162 - accuracy: 0.8095 - val_loss: 0.4220 - val_accuracy: 0.8045\n",
            "Epoch 5/50\n",
            "242/247 [============================>.] - ETA: 0s - loss: 0.4205 - accuracy: 0.8068\n",
            "Epoch 00005: val_loss did not improve from 0.41709\n",
            "247/247 [==============================] - 1s 2ms/step - loss: 0.4208 - accuracy: 0.8061 - val_loss: 0.4234 - val_accuracy: 0.8041\n",
            "Epoch 6/50\n",
            "223/247 [==========================>...] - ETA: 0s - loss: 0.4122 - accuracy: 0.8123\n",
            "Epoch 00006: val_loss did not improve from 0.41709\n",
            "247/247 [==============================] - 1s 2ms/step - loss: 0.4142 - accuracy: 0.8114 - val_loss: 0.4238 - val_accuracy: 0.8008\n",
            "Epoch 7/50\n",
            "228/247 [==========================>...] - ETA: 0s - loss: 0.4150 - accuracy: 0.8105\n",
            "Epoch 00007: val_loss did not improve from 0.41709\n",
            "247/247 [==============================] - 1s 2ms/step - loss: 0.4165 - accuracy: 0.8089 - val_loss: 0.4196 - val_accuracy: 0.8041\n",
            "Epoch 8/50\n",
            "238/247 [===========================>..] - ETA: 0s - loss: 0.4186 - accuracy: 0.8111\n",
            "Epoch 00008: val_loss did not improve from 0.41709\n",
            "247/247 [==============================] - 1s 2ms/step - loss: 0.4200 - accuracy: 0.8112 - val_loss: 0.4245 - val_accuracy: 0.8017\n",
            "Epoch 9/50\n",
            "239/247 [============================>.] - ETA: 0s - loss: 0.4173 - accuracy: 0.8050\n",
            "Epoch 00009: val_loss did not improve from 0.41709\n",
            "247/247 [==============================] - 1s 2ms/step - loss: 0.4159 - accuracy: 0.8061 - val_loss: 0.4271 - val_accuracy: 0.8055\n",
            "Epoch 10/50\n",
            "228/247 [==========================>...] - ETA: 0s - loss: 0.4158 - accuracy: 0.8083\n",
            "Epoch 00010: val_loss did not improve from 0.41709\n",
            "247/247 [==============================] - 1s 3ms/step - loss: 0.4175 - accuracy: 0.8081 - val_loss: 0.4295 - val_accuracy: 0.8008\n",
            "Epoch 11/50\n",
            "237/247 [===========================>..] - ETA: 0s - loss: 0.4115 - accuracy: 0.8072\n",
            "Epoch 00011: val_loss did not improve from 0.41709\n",
            "247/247 [==============================] - 1s 2ms/step - loss: 0.4099 - accuracy: 0.8087 - val_loss: 0.4236 - val_accuracy: 0.7984\n",
            "Epoch 12/50\n",
            "231/247 [===========================>..] - ETA: 0s - loss: 0.4071 - accuracy: 0.8128\n",
            "Epoch 00012: val_loss did not improve from 0.41709\n",
            "247/247 [==============================] - 1s 2ms/step - loss: 0.4089 - accuracy: 0.8118 - val_loss: 0.4252 - val_accuracy: 0.7974\n",
            "Epoch 13/50\n",
            "227/247 [==========================>...] - ETA: 0s - loss: 0.4068 - accuracy: 0.8068\n",
            "Epoch 00013: val_loss did not improve from 0.41709\n",
            "247/247 [==============================] - 1s 2ms/step - loss: 0.4104 - accuracy: 0.8065 - val_loss: 0.4248 - val_accuracy: 0.8012\n",
            "Epoch 14/50\n",
            "238/247 [===========================>..] - ETA: 0s - loss: 0.4175 - accuracy: 0.8059\n",
            "Epoch 00014: val_loss did not improve from 0.41709\n",
            "247/247 [==============================] - 1s 2ms/step - loss: 0.4197 - accuracy: 0.8049 - val_loss: 0.4284 - val_accuracy: 0.7970\n",
            "Epoch 15/50\n",
            "229/247 [==========================>...] - ETA: 0s - loss: 0.4092 - accuracy: 0.8070\n",
            "Epoch 00015: val_loss did not improve from 0.41709\n",
            "247/247 [==============================] - 1s 2ms/step - loss: 0.4090 - accuracy: 0.8067 - val_loss: 0.4270 - val_accuracy: 0.7998\n",
            "Epoch 16/50\n",
            "238/247 [===========================>..] - ETA: 0s - loss: 0.4089 - accuracy: 0.8143\n",
            "Epoch 00016: val_loss did not improve from 0.41709\n",
            "247/247 [==============================] - 1s 3ms/step - loss: 0.4086 - accuracy: 0.8142 - val_loss: 0.4286 - val_accuracy: 0.7979\n",
            "Epoch 17/50\n",
            "244/247 [============================>.] - ETA: 0s - loss: 0.4094 - accuracy: 0.8131\n",
            "Epoch 00017: val_loss did not improve from 0.41709\n",
            "247/247 [==============================] - 1s 2ms/step - loss: 0.4101 - accuracy: 0.8136 - val_loss: 0.4232 - val_accuracy: 0.7970\n",
            "Epoch 18/50\n",
            "237/247 [===========================>..] - ETA: 0s - loss: 0.4103 - accuracy: 0.8207\n",
            "Epoch 00018: val_loss did not improve from 0.41709\n",
            "247/247 [==============================] - 1s 2ms/step - loss: 0.4132 - accuracy: 0.8189 - val_loss: 0.4218 - val_accuracy: 0.8003\n",
            "Epoch 19/50\n",
            "235/247 [===========================>..] - ETA: 0s - loss: 0.4141 - accuracy: 0.8066\n",
            "Epoch 00019: val_loss did not improve from 0.41709\n",
            "247/247 [==============================] - 1s 2ms/step - loss: 0.4101 - accuracy: 0.8091 - val_loss: 0.4259 - val_accuracy: 0.7932\n",
            "Epoch 20/50\n",
            "234/247 [===========================>..] - ETA: 0s - loss: 0.4073 - accuracy: 0.8132\n",
            "Epoch 00020: val_loss did not improve from 0.41709\n",
            "247/247 [==============================] - 1s 3ms/step - loss: 0.4096 - accuracy: 0.8124 - val_loss: 0.4248 - val_accuracy: 0.7970\n",
            "Epoch 21/50\n",
            "240/247 [============================>.] - ETA: 0s - loss: 0.4105 - accuracy: 0.8073\n",
            "Epoch 00021: val_loss did not improve from 0.41709\n",
            "247/247 [==============================] - 1s 2ms/step - loss: 0.4092 - accuracy: 0.8073 - val_loss: 0.4358 - val_accuracy: 0.7970\n",
            "Epoch 22/50\n",
            "244/247 [============================>.] - ETA: 0s - loss: 0.4051 - accuracy: 0.8117\n",
            "Epoch 00022: val_loss did not improve from 0.41709\n",
            "247/247 [==============================] - 1s 2ms/step - loss: 0.4058 - accuracy: 0.8114 - val_loss: 0.4311 - val_accuracy: 0.7974\n",
            "Epoch 23/50\n",
            "243/247 [============================>.] - ETA: 0s - loss: 0.4058 - accuracy: 0.8130\n",
            "Epoch 00023: val_loss did not improve from 0.41709\n",
            "247/247 [==============================] - 1s 2ms/step - loss: 0.4060 - accuracy: 0.8128 - val_loss: 0.4254 - val_accuracy: 0.7989\n",
            "Epoch 24/50\n",
            "232/247 [===========================>..] - ETA: 0s - loss: 0.4047 - accuracy: 0.8097\n",
            "Epoch 00024: val_loss did not improve from 0.41709\n",
            "247/247 [==============================] - 1s 2ms/step - loss: 0.4050 - accuracy: 0.8095 - val_loss: 0.4296 - val_accuracy: 0.7993\n",
            "Epoch 25/50\n",
            "244/247 [============================>.] - ETA: 0s - loss: 0.4023 - accuracy: 0.8109\n",
            "Epoch 00025: val_loss did not improve from 0.41709\n",
            "247/247 [==============================] - 1s 3ms/step - loss: 0.4018 - accuracy: 0.8114 - val_loss: 0.4259 - val_accuracy: 0.8017\n",
            "Epoch 26/50\n",
            "240/247 [============================>.] - ETA: 0s - loss: 0.3968 - accuracy: 0.8181\n",
            "Epoch 00026: val_loss did not improve from 0.41709\n",
            "247/247 [==============================] - 1s 2ms/step - loss: 0.3982 - accuracy: 0.8166 - val_loss: 0.4310 - val_accuracy: 0.7993\n",
            "Epoch 00026: early stopping\n"
          ],
          "name": "stdout"
        }
      ]
    },
    {
      "cell_type": "markdown",
      "metadata": {
        "id": "fgSwdiKhKu8k"
      },
      "source": [
        "### ⑧ 모델 성능 평가"
      ]
    },
    {
      "cell_type": "code",
      "metadata": {
        "id": "UwcNzzP7Ku8k"
      },
      "source": [
        "losses = pd.DataFrame(model.history.history)"
      ],
      "execution_count": 108,
      "outputs": []
    },
    {
      "cell_type": "code",
      "metadata": {
        "colab": {
          "base_uri": "https://localhost:8080/",
          "height": 198
        },
        "id": "_bVnHXztKu8k",
        "outputId": "c4c81ad4-3dc2-4fc1-d481-7bf70a312e90"
      },
      "source": [
        "losses.head()"
      ],
      "execution_count": 109,
      "outputs": [
        {
          "output_type": "execute_result",
          "data": {
            "text/html": [
              "<div>\n",
              "<style scoped>\n",
              "    .dataframe tbody tr th:only-of-type {\n",
              "        vertical-align: middle;\n",
              "    }\n",
              "\n",
              "    .dataframe tbody tr th {\n",
              "        vertical-align: top;\n",
              "    }\n",
              "\n",
              "    .dataframe thead th {\n",
              "        text-align: right;\n",
              "    }\n",
              "</style>\n",
              "<table border=\"1\" class=\"dataframe\">\n",
              "  <thead>\n",
              "    <tr style=\"text-align: right;\">\n",
              "      <th></th>\n",
              "      <th>loss</th>\n",
              "      <th>accuracy</th>\n",
              "      <th>val_loss</th>\n",
              "      <th>val_accuracy</th>\n",
              "    </tr>\n",
              "  </thead>\n",
              "  <tbody>\n",
              "    <tr>\n",
              "      <th>0</th>\n",
              "      <td>0.425202</td>\n",
              "      <td>0.804260</td>\n",
              "      <td>0.417094</td>\n",
              "      <td>0.804070</td>\n",
              "    </tr>\n",
              "    <tr>\n",
              "      <th>1</th>\n",
              "      <td>0.419775</td>\n",
              "      <td>0.807708</td>\n",
              "      <td>0.417495</td>\n",
              "      <td>0.807383</td>\n",
              "    </tr>\n",
              "    <tr>\n",
              "      <th>2</th>\n",
              "      <td>0.421121</td>\n",
              "      <td>0.802840</td>\n",
              "      <td>0.421325</td>\n",
              "      <td>0.801704</td>\n",
              "    </tr>\n",
              "    <tr>\n",
              "      <th>3</th>\n",
              "      <td>0.416224</td>\n",
              "      <td>0.809533</td>\n",
              "      <td>0.422024</td>\n",
              "      <td>0.804543</td>\n",
              "    </tr>\n",
              "    <tr>\n",
              "      <th>4</th>\n",
              "      <td>0.420848</td>\n",
              "      <td>0.806085</td>\n",
              "      <td>0.423416</td>\n",
              "      <td>0.804070</td>\n",
              "    </tr>\n",
              "  </tbody>\n",
              "</table>\n",
              "</div>"
            ],
            "text/plain": [
              "       loss  accuracy  val_loss  val_accuracy\n",
              "0  0.425202  0.804260  0.417094      0.804070\n",
              "1  0.419775  0.807708  0.417495      0.807383\n",
              "2  0.421121  0.802840  0.421325      0.801704\n",
              "3  0.416224  0.809533  0.422024      0.804543\n",
              "4  0.420848  0.806085  0.423416      0.804070"
            ]
          },
          "metadata": {
            "tags": []
          },
          "execution_count": 109
        }
      ]
    },
    {
      "cell_type": "code",
      "metadata": {
        "colab": {
          "base_uri": "https://localhost:8080/",
          "height": 283
        },
        "id": "x1-xsEdrKu8k",
        "outputId": "aaad4a3e-19bc-4c93-a15b-df503bc2b1f9"
      },
      "source": [
        "losses[['loss','val_loss']].plot()"
      ],
      "execution_count": 110,
      "outputs": [
        {
          "output_type": "execute_result",
          "data": {
            "text/plain": [
              "<matplotlib.axes._subplots.AxesSubplot at 0x7f6312d6e898>"
            ]
          },
          "metadata": {
            "tags": []
          },
          "execution_count": 110
        },
        {
          "output_type": "display_data",
          "data": {
            "image/png": "[encoded data removed]",
            "text/plain": [
              "<Figure size 432x288 with 1 Axes>"
            ]
          },
          "metadata": {
            "tags": [],
            "needs_background": "light"
          }
        }
      ]
    },
    {
      "cell_type": "code",
      "metadata": {
        "colab": {
          "base_uri": "https://localhost:8080/",
          "height": 283
        },
        "id": "QZ5NV7wsKu8k",
        "outputId": "aa128ebc-b736-4fc8-a6f7-871c3f1ce349"
      },
      "source": [
        "losses[['loss','val_loss', 'accuracy','val_accuracy']].plot()"
      ],
      "execution_count": 111,
      "outputs": [
        {
          "output_type": "execute_result",
          "data": {
            "text/plain": [
              "<matplotlib.axes._subplots.AxesSubplot at 0x7f6312d69908>"
            ]
          },
          "metadata": {
            "tags": []
          },
          "execution_count": 111
        },
        {
          "output_type": "display_data",
          "data": {
            "image/png": "[encoded data removed]",
            "text/plain": [
              "<Figure size 432x288 with 1 Axes>"
            ]
          },
          "metadata": {
            "tags": [],
            "needs_background": "light"
          }
        }
      ]
    },
    {
      "cell_type": "code",
      "metadata": {
        "id": "rnTWGE5fKu8k"
      },
      "source": [
        "from sklearn.metrics import classification_report,confusion_matrix"
      ],
      "execution_count": 112,
      "outputs": []
    },
    {
      "cell_type": "code",
      "metadata": {
        "id": "TLRkWvR3Ku8k",
        "outputId": "d8df11ca-9381-44bb-b8c1-4790729b223c",
        "colab": {
          "base_uri": "https://localhost:8080/"
        }
      },
      "source": [
        "predictions = model.predict_classes(X_test)"
      ],
      "execution_count": 113,
      "outputs": [
        {
          "output_type": "stream",
          "text": [
            "WARNING:tensorflow:From <ipython-input-113-bc83193b8b59>:1: Sequential.predict_classes (from tensorflow.python.keras.engine.sequential) is deprecated and will be removed after 2021-01-01.\n",
            "Instructions for updating:\n",
            "Please use instead:* `np.argmax(model.predict(x), axis=-1)`,   if your model does multi-class classification   (e.g. if it uses a `softmax` last-layer activation).* `(model.predict(x) > 0.5).astype(\"int32\")`,   if your model does binary classification   (e.g. if it uses a `sigmoid` last-layer activation).\n"
          ],
          "name": "stdout"
        }
      ]
    },
    {
      "cell_type": "code",
      "metadata": {
        "colab": {
          "base_uri": "https://localhost:8080/"
        },
        "id": "5iTIpXKPKu8k",
        "outputId": "fec42a95-3f33-4a6e-a0cb-c064c0fa5737"
      },
      "source": [
        "print(classification_report(y_test,predictions))"
      ],
      "execution_count": 114,
      "outputs": [
        {
          "output_type": "stream",
          "text": [
            "              precision    recall  f1-score   support\n",
            "\n",
            "           0       0.84      0.89      0.87      1539\n",
            "           1       0.65      0.55      0.60       574\n",
            "\n",
            "    accuracy                           0.80      2113\n",
            "   macro avg       0.75      0.72      0.73      2113\n",
            "weighted avg       0.79      0.80      0.79      2113\n",
            "\n"
          ],
          "name": "stdout"
        }
      ]
    },
    {
      "cell_type": "code",
      "metadata": {
        "colab": {
          "base_uri": "https://localhost:8080/"
        },
        "id": "CX3mBwaeKu8k",
        "outputId": "cf601392-490b-4010-ebfe-dfe9f07c5adb"
      },
      "source": [
        "print(confusion_matrix(y_test,predictions))"
      ],
      "execution_count": 115,
      "outputs": [
        {
          "output_type": "stream",
          "text": [
            "[[1371  168]\n",
            " [ 256  318]]\n"
          ],
          "name": "stdout"
        }
      ]
    },
    {
      "cell_type": "code",
      "metadata": {
        "id": "H9sP0iH3Ku8k"
      },
      "source": [
        ""
      ],
      "execution_count": 115,
      "outputs": []
    }
  ]
}