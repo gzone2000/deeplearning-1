{
  "nbformat": 4,
  "nbformat_minor": 0,
  "metadata": {
    "kernelspec": {
      "display_name": "Python 3",
      "language": "python",
      "name": "python3"
    },
    "language_info": {
      "codemirror_mode": {
        "name": "ipython",
        "version": 3
      },
      "file_extension": ".py",
      "mimetype": "text/x-python",
      "name": "python",
      "nbconvert_exporter": "python",
      "pygments_lexer": "ipython3",
      "version": "3.8.3"
    },
    "colab": {
      "name": "03-Pandas.ipynb",
      "provenance": [],
      "include_colab_link": true
    }
  },
  "cells": [
    {
      "cell_type": "markdown",
      "metadata": {
        "id": "view-in-github",
        "colab_type": "text"
      },
      "source": [
        "<a href=\"https://colab.research.google.com/github/kgpark88/deeplearning/blob/master/03_Pandas.ipynb\" target=\"_parent\"><img src=\"https://colab.research.google.com/assets/colab-badge.svg\" alt=\"Open In Colab\"/></a>"
      ]
    },
    {
      "cell_type": "markdown",
      "metadata": {
        "collapsed": true,
        "id": "SFiKOmIHy_oA"
      },
      "source": [
        "# Pandas 정복"
      ]
    },
    {
      "cell_type": "code",
      "metadata": {
        "id": "zp25yvjZy_oA"
      },
      "source": [
        "import pandas as pd\n",
        "import numpy as np\n",
        "from numpy.random import randint"
      ],
      "execution_count": null,
      "outputs": []
    },
    {
      "cell_type": "code",
      "metadata": {
        "id": "Wm-bQvJwy_oB"
      },
      "source": [
        "columns= ['A', 'B', 'C', 'D', 'E'] # columns 5개\n",
        "index= [0, 1, 2, 3, 4, 5, 6, 7, 8, 9] # rows 10개"
      ],
      "execution_count": null,
      "outputs": []
    },
    {
      "cell_type": "code",
      "metadata": {
        "id": "m8L9vKpfy_oB"
      },
      "source": [
        "np.random.seed(42)\n",
        "data = randint(-100,100,(10,5))"
      ],
      "execution_count": null,
      "outputs": []
    },
    {
      "cell_type": "code",
      "metadata": {
        "id": "wBy5BJrzy_oB",
        "outputId": "386e59b4-57b6-46da-fb65-08a856c08c13"
      },
      "source": [
        "data"
      ],
      "execution_count": null,
      "outputs": [
        {
          "output_type": "execute_result",
          "data": {
            "text/plain": [
              "array([[  2,  79,  -8, -86,   6],\n",
              "       [-29,  88, -80,   2,  21],\n",
              "       [-26, -13,  16,  -1,   3],\n",
              "       [ 51,  30,  49, -48, -99],\n",
              "       [-13,  57, -63,  29,  91],\n",
              "       [ 87, -80,  60, -43, -79],\n",
              "       [-12, -52, -42,  69,  87],\n",
              "       [-86,  89,  89,  74,  89],\n",
              "       [-50,   7, -46, -37,  30],\n",
              "       [-50,  34, -80, -28,  66]])"
            ]
          },
          "metadata": {
            "tags": []
          },
          "execution_count": 6
        }
      ]
    },
    {
      "cell_type": "code",
      "metadata": {
        "id": "FtnGJM0wy_oB"
      },
      "source": [
        "df = pd.DataFrame(data, index, columns)"
      ],
      "execution_count": null,
      "outputs": []
    },
    {
      "cell_type": "code",
      "metadata": {
        "id": "cfz_d11yy_oC",
        "outputId": "507806db-2dad-4c44-e0ce-28fa434e23d1"
      },
      "source": [
        "df"
      ],
      "execution_count": null,
      "outputs": [
        {
          "output_type": "execute_result",
          "data": {
            "text/html": [
              "<div>\n",
              "<style scoped>\n",
              "    .dataframe tbody tr th:only-of-type {\n",
              "        vertical-align: middle;\n",
              "    }\n",
              "\n",
              "    .dataframe tbody tr th {\n",
              "        vertical-align: top;\n",
              "    }\n",
              "\n",
              "    .dataframe thead th {\n",
              "        text-align: right;\n",
              "    }\n",
              "</style>\n",
              "<table border=\"1\" class=\"dataframe\">\n",
              "  <thead>\n",
              "    <tr style=\"text-align: right;\">\n",
              "      <th></th>\n",
              "      <th>A</th>\n",
              "      <th>B</th>\n",
              "      <th>C</th>\n",
              "      <th>D</th>\n",
              "      <th>E</th>\n",
              "    </tr>\n",
              "  </thead>\n",
              "  <tbody>\n",
              "    <tr>\n",
              "      <th>0</th>\n",
              "      <td>2</td>\n",
              "      <td>79</td>\n",
              "      <td>-8</td>\n",
              "      <td>-86</td>\n",
              "      <td>6</td>\n",
              "    </tr>\n",
              "    <tr>\n",
              "      <th>1</th>\n",
              "      <td>-29</td>\n",
              "      <td>88</td>\n",
              "      <td>-80</td>\n",
              "      <td>2</td>\n",
              "      <td>21</td>\n",
              "    </tr>\n",
              "    <tr>\n",
              "      <th>2</th>\n",
              "      <td>-26</td>\n",
              "      <td>-13</td>\n",
              "      <td>16</td>\n",
              "      <td>-1</td>\n",
              "      <td>3</td>\n",
              "    </tr>\n",
              "    <tr>\n",
              "      <th>3</th>\n",
              "      <td>51</td>\n",
              "      <td>30</td>\n",
              "      <td>49</td>\n",
              "      <td>-48</td>\n",
              "      <td>-99</td>\n",
              "    </tr>\n",
              "    <tr>\n",
              "      <th>4</th>\n",
              "      <td>-13</td>\n",
              "      <td>57</td>\n",
              "      <td>-63</td>\n",
              "      <td>29</td>\n",
              "      <td>91</td>\n",
              "    </tr>\n",
              "    <tr>\n",
              "      <th>5</th>\n",
              "      <td>87</td>\n",
              "      <td>-80</td>\n",
              "      <td>60</td>\n",
              "      <td>-43</td>\n",
              "      <td>-79</td>\n",
              "    </tr>\n",
              "    <tr>\n",
              "      <th>6</th>\n",
              "      <td>-12</td>\n",
              "      <td>-52</td>\n",
              "      <td>-42</td>\n",
              "      <td>69</td>\n",
              "      <td>87</td>\n",
              "    </tr>\n",
              "    <tr>\n",
              "      <th>7</th>\n",
              "      <td>-86</td>\n",
              "      <td>89</td>\n",
              "      <td>89</td>\n",
              "      <td>74</td>\n",
              "      <td>89</td>\n",
              "    </tr>\n",
              "    <tr>\n",
              "      <th>8</th>\n",
              "      <td>-50</td>\n",
              "      <td>7</td>\n",
              "      <td>-46</td>\n",
              "      <td>-37</td>\n",
              "      <td>30</td>\n",
              "    </tr>\n",
              "    <tr>\n",
              "      <th>9</th>\n",
              "      <td>-50</td>\n",
              "      <td>34</td>\n",
              "      <td>-80</td>\n",
              "      <td>-28</td>\n",
              "      <td>66</td>\n",
              "    </tr>\n",
              "  </tbody>\n",
              "</table>\n",
              "</div>"
            ],
            "text/plain": [
              "    A   B   C   D   E\n",
              "0   2  79  -8 -86   6\n",
              "1 -29  88 -80   2  21\n",
              "2 -26 -13  16  -1   3\n",
              "3  51  30  49 -48 -99\n",
              "4 -13  57 -63  29  91\n",
              "5  87 -80  60 -43 -79\n",
              "6 -12 -52 -42  69  87\n",
              "7 -86  89  89  74  89\n",
              "8 -50   7 -46 -37  30\n",
              "9 -50  34 -80 -28  66"
            ]
          },
          "metadata": {
            "tags": []
          },
          "execution_count": 8
        }
      ]
    },
    {
      "cell_type": "code",
      "metadata": {
        "id": "URktCwm3y_oC",
        "outputId": "ed674ed9-48df-40a5-ce62-30a9b78cc85a"
      },
      "source": [
        "df.info()"
      ],
      "execution_count": null,
      "outputs": [
        {
          "output_type": "stream",
          "text": [
            "<class 'pandas.core.frame.DataFrame'>\n",
            "Int64Index: 10 entries, 0 to 9\n",
            "Data columns (total 5 columns):\n",
            " #   Column  Non-Null Count  Dtype\n",
            "---  ------  --------------  -----\n",
            " 0   A       10 non-null     int32\n",
            " 1   B       10 non-null     int32\n",
            " 2   C       10 non-null     int32\n",
            " 3   D       10 non-null     int32\n",
            " 4   E       10 non-null     int32\n",
            "dtypes: int32(5)\n",
            "memory usage: 280.0 bytes\n"
          ],
          "name": "stdout"
        }
      ]
    },
    {
      "cell_type": "code",
      "metadata": {
        "id": "7PKSbYwoy_oC",
        "outputId": "8273b128-1eae-4de8-ff5f-62d575411d79"
      },
      "source": [
        "df.dtypes"
      ],
      "execution_count": null,
      "outputs": [
        {
          "output_type": "execute_result",
          "data": {
            "text/plain": [
              "A    int32\n",
              "B    int32\n",
              "C    int32\n",
              "D    int32\n",
              "E    int32\n",
              "dtype: object"
            ]
          },
          "metadata": {
            "tags": []
          },
          "execution_count": 10
        }
      ]
    },
    {
      "cell_type": "code",
      "metadata": {
        "id": "IWpUjXVZy_oC",
        "outputId": "3186287a-c6cb-497d-b2e2-10bf7e7173b3"
      },
      "source": [
        "df.describe()"
      ],
      "execution_count": null,
      "outputs": [
        {
          "output_type": "execute_result",
          "data": {
            "text/html": [
              "<div>\n",
              "<style scoped>\n",
              "    .dataframe tbody tr th:only-of-type {\n",
              "        vertical-align: middle;\n",
              "    }\n",
              "\n",
              "    .dataframe tbody tr th {\n",
              "        vertical-align: top;\n",
              "    }\n",
              "\n",
              "    .dataframe thead th {\n",
              "        text-align: right;\n",
              "    }\n",
              "</style>\n",
              "<table border=\"1\" class=\"dataframe\">\n",
              "  <thead>\n",
              "    <tr style=\"text-align: right;\">\n",
              "      <th></th>\n",
              "      <th>A</th>\n",
              "      <th>B</th>\n",
              "      <th>C</th>\n",
              "      <th>D</th>\n",
              "      <th>E</th>\n",
              "    </tr>\n",
              "  </thead>\n",
              "  <tbody>\n",
              "    <tr>\n",
              "      <th>count</th>\n",
              "      <td>10.000000</td>\n",
              "      <td>10.000000</td>\n",
              "      <td>10.000000</td>\n",
              "      <td>10.000000</td>\n",
              "      <td>10.000000</td>\n",
              "    </tr>\n",
              "    <tr>\n",
              "      <th>mean</th>\n",
              "      <td>-12.600000</td>\n",
              "      <td>23.900000</td>\n",
              "      <td>-10.500000</td>\n",
              "      <td>-6.900000</td>\n",
              "      <td>21.500000</td>\n",
              "    </tr>\n",
              "    <tr>\n",
              "      <th>std</th>\n",
              "      <td>50.345915</td>\n",
              "      <td>58.519607</td>\n",
              "      <td>61.272162</td>\n",
              "      <td>51.971039</td>\n",
              "      <td>67.439273</td>\n",
              "    </tr>\n",
              "    <tr>\n",
              "      <th>min</th>\n",
              "      <td>-86.000000</td>\n",
              "      <td>-80.000000</td>\n",
              "      <td>-80.000000</td>\n",
              "      <td>-86.000000</td>\n",
              "      <td>-99.000000</td>\n",
              "    </tr>\n",
              "    <tr>\n",
              "      <th>25%</th>\n",
              "      <td>-44.750000</td>\n",
              "      <td>-8.000000</td>\n",
              "      <td>-58.750000</td>\n",
              "      <td>-41.500000</td>\n",
              "      <td>3.750000</td>\n",
              "    </tr>\n",
              "    <tr>\n",
              "      <th>50%</th>\n",
              "      <td>-19.500000</td>\n",
              "      <td>32.000000</td>\n",
              "      <td>-25.000000</td>\n",
              "      <td>-14.500000</td>\n",
              "      <td>25.500000</td>\n",
              "    </tr>\n",
              "    <tr>\n",
              "      <th>75%</th>\n",
              "      <td>-1.500000</td>\n",
              "      <td>73.500000</td>\n",
              "      <td>40.750000</td>\n",
              "      <td>22.250000</td>\n",
              "      <td>81.750000</td>\n",
              "    </tr>\n",
              "    <tr>\n",
              "      <th>max</th>\n",
              "      <td>87.000000</td>\n",
              "      <td>89.000000</td>\n",
              "      <td>89.000000</td>\n",
              "      <td>74.000000</td>\n",
              "      <td>91.000000</td>\n",
              "    </tr>\n",
              "  </tbody>\n",
              "</table>\n",
              "</div>"
            ],
            "text/plain": [
              "               A          B          C          D          E\n",
              "count  10.000000  10.000000  10.000000  10.000000  10.000000\n",
              "mean  -12.600000  23.900000 -10.500000  -6.900000  21.500000\n",
              "std    50.345915  58.519607  61.272162  51.971039  67.439273\n",
              "min   -86.000000 -80.000000 -80.000000 -86.000000 -99.000000\n",
              "25%   -44.750000  -8.000000 -58.750000 -41.500000   3.750000\n",
              "50%   -19.500000  32.000000 -25.000000 -14.500000  25.500000\n",
              "75%    -1.500000  73.500000  40.750000  22.250000  81.750000\n",
              "max    87.000000  89.000000  89.000000  74.000000  91.000000"
            ]
          },
          "metadata": {
            "tags": []
          },
          "execution_count": 11
        }
      ]
    },
    {
      "cell_type": "markdown",
      "metadata": {
        "id": "1OxL88tfy_oC"
      },
      "source": [
        "Column(열) 선택"
      ]
    },
    {
      "cell_type": "code",
      "metadata": {
        "id": "O9qCcFI7y_oC",
        "outputId": "2ed066a1-fcf2-405b-c5a6-d728fc924f66"
      },
      "source": [
        "df.dtypes"
      ],
      "execution_count": null,
      "outputs": [
        {
          "output_type": "execute_result",
          "data": {
            "text/plain": [
              "A    int32\n",
              "B    int32\n",
              "C    int32\n",
              "D    int32\n",
              "E    int32\n",
              "dtype: object"
            ]
          },
          "metadata": {
            "tags": []
          },
          "execution_count": 12
        }
      ]
    },
    {
      "cell_type": "code",
      "metadata": {
        "id": "yZvX-IF5y_oC",
        "outputId": "370e0f68-af45-48c0-9f5d-70d138161643"
      },
      "source": [
        "df['A']"
      ],
      "execution_count": null,
      "outputs": [
        {
          "output_type": "execute_result",
          "data": {
            "text/plain": [
              "0     2.0\n",
              "1   -29.0\n",
              "2   -26.0\n",
              "3    51.0\n",
              "4   -13.0\n",
              "5    87.0\n",
              "6   -12.0\n",
              "7   -86.0\n",
              "8   -50.0\n",
              "9   -50.0\n",
              "Name: A, dtype: float64"
            ]
          },
          "metadata": {
            "tags": []
          },
          "execution_count": 16
        }
      ]
    },
    {
      "cell_type": "code",
      "metadata": {
        "id": "Fg8ez9K5y_oC",
        "outputId": "6a4e2d3d-3b40-4932-e55f-86736979ed87"
      },
      "source": [
        "df[['A', 'B']]"
      ],
      "execution_count": null,
      "outputs": [
        {
          "output_type": "execute_result",
          "data": {
            "text/html": [
              "<div>\n",
              "<style scoped>\n",
              "    .dataframe tbody tr th:only-of-type {\n",
              "        vertical-align: middle;\n",
              "    }\n",
              "\n",
              "    .dataframe tbody tr th {\n",
              "        vertical-align: top;\n",
              "    }\n",
              "\n",
              "    .dataframe thead th {\n",
              "        text-align: right;\n",
              "    }\n",
              "</style>\n",
              "<table border=\"1\" class=\"dataframe\">\n",
              "  <thead>\n",
              "    <tr style=\"text-align: right;\">\n",
              "      <th></th>\n",
              "      <th>A</th>\n",
              "      <th>B</th>\n",
              "    </tr>\n",
              "  </thead>\n",
              "  <tbody>\n",
              "    <tr>\n",
              "      <th>0</th>\n",
              "      <td>2.0</td>\n",
              "      <td>79</td>\n",
              "    </tr>\n",
              "    <tr>\n",
              "      <th>1</th>\n",
              "      <td>-29.0</td>\n",
              "      <td>88</td>\n",
              "    </tr>\n",
              "    <tr>\n",
              "      <th>2</th>\n",
              "      <td>-26.0</td>\n",
              "      <td>-13</td>\n",
              "    </tr>\n",
              "    <tr>\n",
              "      <th>3</th>\n",
              "      <td>51.0</td>\n",
              "      <td>30</td>\n",
              "    </tr>\n",
              "    <tr>\n",
              "      <th>4</th>\n",
              "      <td>-13.0</td>\n",
              "      <td>57</td>\n",
              "    </tr>\n",
              "    <tr>\n",
              "      <th>5</th>\n",
              "      <td>87.0</td>\n",
              "      <td>-80</td>\n",
              "    </tr>\n",
              "    <tr>\n",
              "      <th>6</th>\n",
              "      <td>-12.0</td>\n",
              "      <td>-52</td>\n",
              "    </tr>\n",
              "    <tr>\n",
              "      <th>7</th>\n",
              "      <td>-86.0</td>\n",
              "      <td>89</td>\n",
              "    </tr>\n",
              "    <tr>\n",
              "      <th>8</th>\n",
              "      <td>-50.0</td>\n",
              "      <td>7</td>\n",
              "    </tr>\n",
              "    <tr>\n",
              "      <th>9</th>\n",
              "      <td>-50.0</td>\n",
              "      <td>34</td>\n",
              "    </tr>\n",
              "  </tbody>\n",
              "</table>\n",
              "</div>"
            ],
            "text/plain": [
              "      A   B\n",
              "0   2.0  79\n",
              "1 -29.0  88\n",
              "2 -26.0 -13\n",
              "3  51.0  30\n",
              "4 -13.0  57\n",
              "5  87.0 -80\n",
              "6 -12.0 -52\n",
              "7 -86.0  89\n",
              "8 -50.0   7\n",
              "9 -50.0  34"
            ]
          },
          "metadata": {
            "tags": []
          },
          "execution_count": 17
        }
      ]
    },
    {
      "cell_type": "markdown",
      "metadata": {
        "id": "YoWvzZi4y_oC"
      },
      "source": [
        "### 새 컬럼 생성하기"
      ]
    },
    {
      "cell_type": "code",
      "metadata": {
        "id": "nqQUq_Qny_oC"
      },
      "source": [
        "df['new'] = df['A'] + df['B']"
      ],
      "execution_count": null,
      "outputs": []
    },
    {
      "cell_type": "code",
      "metadata": {
        "id": "bh2qMXBFy_oC",
        "outputId": "61247c3d-d112-40d7-f080-564eaef3b5ee"
      },
      "source": [
        "df"
      ],
      "execution_count": null,
      "outputs": [
        {
          "output_type": "execute_result",
          "data": {
            "text/html": [
              "<div>\n",
              "<style scoped>\n",
              "    .dataframe tbody tr th:only-of-type {\n",
              "        vertical-align: middle;\n",
              "    }\n",
              "\n",
              "    .dataframe tbody tr th {\n",
              "        vertical-align: top;\n",
              "    }\n",
              "\n",
              "    .dataframe thead th {\n",
              "        text-align: right;\n",
              "    }\n",
              "</style>\n",
              "<table border=\"1\" class=\"dataframe\">\n",
              "  <thead>\n",
              "    <tr style=\"text-align: right;\">\n",
              "      <th></th>\n",
              "      <th>A</th>\n",
              "      <th>B</th>\n",
              "      <th>C</th>\n",
              "      <th>D</th>\n",
              "      <th>E</th>\n",
              "      <th>new</th>\n",
              "    </tr>\n",
              "  </thead>\n",
              "  <tbody>\n",
              "    <tr>\n",
              "      <th>0</th>\n",
              "      <td>2.0</td>\n",
              "      <td>79</td>\n",
              "      <td>-8</td>\n",
              "      <td>-86</td>\n",
              "      <td>6</td>\n",
              "      <td>81.0</td>\n",
              "    </tr>\n",
              "    <tr>\n",
              "      <th>1</th>\n",
              "      <td>-29.0</td>\n",
              "      <td>88</td>\n",
              "      <td>-80</td>\n",
              "      <td>2</td>\n",
              "      <td>21</td>\n",
              "      <td>59.0</td>\n",
              "    </tr>\n",
              "    <tr>\n",
              "      <th>2</th>\n",
              "      <td>-26.0</td>\n",
              "      <td>-13</td>\n",
              "      <td>16</td>\n",
              "      <td>-1</td>\n",
              "      <td>3</td>\n",
              "      <td>-39.0</td>\n",
              "    </tr>\n",
              "    <tr>\n",
              "      <th>3</th>\n",
              "      <td>51.0</td>\n",
              "      <td>30</td>\n",
              "      <td>49</td>\n",
              "      <td>-48</td>\n",
              "      <td>-99</td>\n",
              "      <td>81.0</td>\n",
              "    </tr>\n",
              "    <tr>\n",
              "      <th>4</th>\n",
              "      <td>-13.0</td>\n",
              "      <td>57</td>\n",
              "      <td>-63</td>\n",
              "      <td>29</td>\n",
              "      <td>91</td>\n",
              "      <td>44.0</td>\n",
              "    </tr>\n",
              "    <tr>\n",
              "      <th>5</th>\n",
              "      <td>87.0</td>\n",
              "      <td>-80</td>\n",
              "      <td>60</td>\n",
              "      <td>-43</td>\n",
              "      <td>-79</td>\n",
              "      <td>7.0</td>\n",
              "    </tr>\n",
              "    <tr>\n",
              "      <th>6</th>\n",
              "      <td>-12.0</td>\n",
              "      <td>-52</td>\n",
              "      <td>-42</td>\n",
              "      <td>69</td>\n",
              "      <td>87</td>\n",
              "      <td>-64.0</td>\n",
              "    </tr>\n",
              "    <tr>\n",
              "      <th>7</th>\n",
              "      <td>-86.0</td>\n",
              "      <td>89</td>\n",
              "      <td>89</td>\n",
              "      <td>74</td>\n",
              "      <td>89</td>\n",
              "      <td>3.0</td>\n",
              "    </tr>\n",
              "    <tr>\n",
              "      <th>8</th>\n",
              "      <td>-50.0</td>\n",
              "      <td>7</td>\n",
              "      <td>-46</td>\n",
              "      <td>-37</td>\n",
              "      <td>30</td>\n",
              "      <td>-43.0</td>\n",
              "    </tr>\n",
              "    <tr>\n",
              "      <th>9</th>\n",
              "      <td>-50.0</td>\n",
              "      <td>34</td>\n",
              "      <td>-80</td>\n",
              "      <td>-28</td>\n",
              "      <td>66</td>\n",
              "      <td>-16.0</td>\n",
              "    </tr>\n",
              "  </tbody>\n",
              "</table>\n",
              "</div>"
            ],
            "text/plain": [
              "      A   B   C   D   E   new\n",
              "0   2.0  79  -8 -86   6  81.0\n",
              "1 -29.0  88 -80   2  21  59.0\n",
              "2 -26.0 -13  16  -1   3 -39.0\n",
              "3  51.0  30  49 -48 -99  81.0\n",
              "4 -13.0  57 -63  29  91  44.0\n",
              "5  87.0 -80  60 -43 -79   7.0\n",
              "6 -12.0 -52 -42  69  87 -64.0\n",
              "7 -86.0  89  89  74  89   3.0\n",
              "8 -50.0   7 -46 -37  30 -43.0\n",
              "9 -50.0  34 -80 -28  66 -16.0"
            ]
          },
          "metadata": {
            "tags": []
          },
          "execution_count": 19
        }
      ]
    },
    {
      "cell_type": "markdown",
      "metadata": {
        "id": "3b1-tWlJy_oC"
      },
      "source": [
        "### 컬럼 삭제하기"
      ]
    },
    {
      "cell_type": "code",
      "metadata": {
        "id": "VoBvXOKvy_oC",
        "outputId": "8576a43b-c694-4490-e0d2-56e904d5ad9e"
      },
      "source": [
        "df.corr()"
      ],
      "execution_count": null,
      "outputs": [
        {
          "output_type": "execute_result",
          "data": {
            "text/html": [
              "<div>\n",
              "<style scoped>\n",
              "    .dataframe tbody tr th:only-of-type {\n",
              "        vertical-align: middle;\n",
              "    }\n",
              "\n",
              "    .dataframe tbody tr th {\n",
              "        vertical-align: top;\n",
              "    }\n",
              "\n",
              "    .dataframe thead th {\n",
              "        text-align: right;\n",
              "    }\n",
              "</style>\n",
              "<table border=\"1\" class=\"dataframe\">\n",
              "  <thead>\n",
              "    <tr style=\"text-align: right;\">\n",
              "      <th></th>\n",
              "      <th>A</th>\n",
              "      <th>B</th>\n",
              "      <th>C</th>\n",
              "      <th>D</th>\n",
              "      <th>E</th>\n",
              "      <th>new</th>\n",
              "    </tr>\n",
              "  </thead>\n",
              "  <tbody>\n",
              "    <tr>\n",
              "      <th>A</th>\n",
              "      <td>1.000000</td>\n",
              "      <td>-0.539131</td>\n",
              "      <td>0.297264</td>\n",
              "      <td>-0.491805</td>\n",
              "      <td>-0.804022</td>\n",
              "      <td>0.356333</td>\n",
              "    </tr>\n",
              "    <tr>\n",
              "      <th>B</th>\n",
              "      <td>-0.539131</td>\n",
              "      <td>1.000000</td>\n",
              "      <td>-0.162021</td>\n",
              "      <td>0.017686</td>\n",
              "      <td>0.324688</td>\n",
              "      <td>0.594828</td>\n",
              "    </tr>\n",
              "    <tr>\n",
              "      <th>C</th>\n",
              "      <td>0.297264</td>\n",
              "      <td>-0.162021</td>\n",
              "      <td>1.000000</td>\n",
              "      <td>0.022977</td>\n",
              "      <td>-0.460871</td>\n",
              "      <td>0.103976</td>\n",
              "    </tr>\n",
              "    <tr>\n",
              "      <th>D</th>\n",
              "      <td>-0.491805</td>\n",
              "      <td>0.017686</td>\n",
              "      <td>0.022977</td>\n",
              "      <td>1.000000</td>\n",
              "      <td>0.679226</td>\n",
              "      <td>-0.449779</td>\n",
              "    </tr>\n",
              "    <tr>\n",
              "      <th>E</th>\n",
              "      <td>-0.804022</td>\n",
              "      <td>0.324688</td>\n",
              "      <td>-0.460871</td>\n",
              "      <td>0.679226</td>\n",
              "      <td>1.000000</td>\n",
              "      <td>-0.407185</td>\n",
              "    </tr>\n",
              "    <tr>\n",
              "      <th>new</th>\n",
              "      <td>0.356333</td>\n",
              "      <td>0.594828</td>\n",
              "      <td>0.103976</td>\n",
              "      <td>-0.449779</td>\n",
              "      <td>-0.407185</td>\n",
              "      <td>1.000000</td>\n",
              "    </tr>\n",
              "  </tbody>\n",
              "</table>\n",
              "</div>"
            ],
            "text/plain": [
              "            A         B         C         D         E       new\n",
              "A    1.000000 -0.539131  0.297264 -0.491805 -0.804022  0.356333\n",
              "B   -0.539131  1.000000 -0.162021  0.017686  0.324688  0.594828\n",
              "C    0.297264 -0.162021  1.000000  0.022977 -0.460871  0.103976\n",
              "D   -0.491805  0.017686  0.022977  1.000000  0.679226 -0.449779\n",
              "E   -0.804022  0.324688 -0.460871  0.679226  1.000000 -0.407185\n",
              "new  0.356333  0.594828  0.103976 -0.449779 -0.407185  1.000000"
            ]
          },
          "metadata": {
            "tags": []
          },
          "execution_count": 20
        }
      ]
    },
    {
      "cell_type": "code",
      "metadata": {
        "id": "4l8_VRjRy_oC"
      },
      "source": [
        "import seaborn as sns"
      ],
      "execution_count": null,
      "outputs": []
    },
    {
      "cell_type": "code",
      "metadata": {
        "id": "GQv5GX5Qy_oC",
        "outputId": "180f4a95-c35c-4dc3-8b0d-1ccb868ff592"
      },
      "source": [
        "sns.heatmap(df.corr())"
      ],
      "execution_count": null,
      "outputs": [
        {
          "output_type": "execute_result",
          "data": {
            "text/plain": [
              "<matplotlib.axes._subplots.AxesSubplot at 0x18338821250>"
            ]
          },
          "metadata": {
            "tags": []
          },
          "execution_count": 22
        },
        {
          "output_type": "display_data",
          "data": {
            "image/png": "[encoded data removed]",
            "text/plain": [
              "<Figure size 432x288 with 2 Axes>"
            ]
          },
          "metadata": {
            "tags": [],
            "needs_background": "light"
          }
        }
      ]
    },
    {
      "cell_type": "code",
      "metadata": {
        "id": "TBQuP7B9y_oC",
        "outputId": "87660a87-b511-4b00-e199-f4506f6eac83"
      },
      "source": [
        "sns.distplot(df['A'])"
      ],
      "execution_count": null,
      "outputs": [
        {
          "output_type": "execute_result",
          "data": {
            "text/plain": [
              "<matplotlib.axes._subplots.AxesSubplot at 0x18338f39c40>"
            ]
          },
          "metadata": {
            "tags": []
          },
          "execution_count": 24
        },
        {
          "output_type": "display_data",
          "data": {
            "image/png": "[encoded data removed]",
            "text/plain": [
              "<Figure size 432x288 with 1 Axes>"
            ]
          },
          "metadata": {
            "tags": [],
            "needs_background": "light"
          }
        }
      ]
    },
    {
      "cell_type": "code",
      "metadata": {
        "id": "W1W_Ty1Py_oD",
        "outputId": "879e48c7-c811-4f21-dfff-789c152eecef"
      },
      "source": [
        "sns.countplot(x='A',data=df)"
      ],
      "execution_count": null,
      "outputs": [
        {
          "output_type": "execute_result",
          "data": {
            "text/plain": [
              "<matplotlib.axes._subplots.AxesSubplot at 0x18339077880>"
            ]
          },
          "metadata": {
            "tags": []
          },
          "execution_count": 25
        },
        {
          "output_type": "display_data",
          "data": {
            "image/png": "[encoded data removed]",
            "text/plain": [
              "<Figure size 432x288 with 1 Axes>"
            ]
          },
          "metadata": {
            "tags": [],
            "needs_background": "light"
          }
        }
      ]
    },
    {
      "cell_type": "code",
      "metadata": {
        "id": "ghrxYy6vy_oD"
      },
      "source": [
        "df = df.drop('new', axis=1)"
      ],
      "execution_count": null,
      "outputs": []
    },
    {
      "cell_type": "code",
      "metadata": {
        "id": "ZyLFXLEAy_oD",
        "outputId": "647e643b-1e47-4738-d428-a2f4d149fe73"
      },
      "source": [
        "df"
      ],
      "execution_count": null,
      "outputs": [
        {
          "output_type": "execute_result",
          "data": {
            "text/html": [
              "<div>\n",
              "<style scoped>\n",
              "    .dataframe tbody tr th:only-of-type {\n",
              "        vertical-align: middle;\n",
              "    }\n",
              "\n",
              "    .dataframe tbody tr th {\n",
              "        vertical-align: top;\n",
              "    }\n",
              "\n",
              "    .dataframe thead th {\n",
              "        text-align: right;\n",
              "    }\n",
              "</style>\n",
              "<table border=\"1\" class=\"dataframe\">\n",
              "  <thead>\n",
              "    <tr style=\"text-align: right;\">\n",
              "      <th></th>\n",
              "      <th>A</th>\n",
              "      <th>B</th>\n",
              "      <th>C</th>\n",
              "      <th>D</th>\n",
              "      <th>E</th>\n",
              "    </tr>\n",
              "  </thead>\n",
              "  <tbody>\n",
              "    <tr>\n",
              "      <th>0</th>\n",
              "      <td>2.0</td>\n",
              "      <td>79</td>\n",
              "      <td>-8</td>\n",
              "      <td>-86</td>\n",
              "      <td>6</td>\n",
              "    </tr>\n",
              "    <tr>\n",
              "      <th>1</th>\n",
              "      <td>-29.0</td>\n",
              "      <td>88</td>\n",
              "      <td>-80</td>\n",
              "      <td>2</td>\n",
              "      <td>21</td>\n",
              "    </tr>\n",
              "    <tr>\n",
              "      <th>2</th>\n",
              "      <td>-26.0</td>\n",
              "      <td>-13</td>\n",
              "      <td>16</td>\n",
              "      <td>-1</td>\n",
              "      <td>3</td>\n",
              "    </tr>\n",
              "    <tr>\n",
              "      <th>3</th>\n",
              "      <td>51.0</td>\n",
              "      <td>30</td>\n",
              "      <td>49</td>\n",
              "      <td>-48</td>\n",
              "      <td>-99</td>\n",
              "    </tr>\n",
              "    <tr>\n",
              "      <th>4</th>\n",
              "      <td>-13.0</td>\n",
              "      <td>57</td>\n",
              "      <td>-63</td>\n",
              "      <td>29</td>\n",
              "      <td>91</td>\n",
              "    </tr>\n",
              "    <tr>\n",
              "      <th>5</th>\n",
              "      <td>87.0</td>\n",
              "      <td>-80</td>\n",
              "      <td>60</td>\n",
              "      <td>-43</td>\n",
              "      <td>-79</td>\n",
              "    </tr>\n",
              "    <tr>\n",
              "      <th>6</th>\n",
              "      <td>-12.0</td>\n",
              "      <td>-52</td>\n",
              "      <td>-42</td>\n",
              "      <td>69</td>\n",
              "      <td>87</td>\n",
              "    </tr>\n",
              "    <tr>\n",
              "      <th>7</th>\n",
              "      <td>-86.0</td>\n",
              "      <td>89</td>\n",
              "      <td>89</td>\n",
              "      <td>74</td>\n",
              "      <td>89</td>\n",
              "    </tr>\n",
              "    <tr>\n",
              "      <th>8</th>\n",
              "      <td>-50.0</td>\n",
              "      <td>7</td>\n",
              "      <td>-46</td>\n",
              "      <td>-37</td>\n",
              "      <td>30</td>\n",
              "    </tr>\n",
              "    <tr>\n",
              "      <th>9</th>\n",
              "      <td>-50.0</td>\n",
              "      <td>34</td>\n",
              "      <td>-80</td>\n",
              "      <td>-28</td>\n",
              "      <td>66</td>\n",
              "    </tr>\n",
              "  </tbody>\n",
              "</table>\n",
              "</div>"
            ],
            "text/plain": [
              "      A   B   C   D   E\n",
              "0   2.0  79  -8 -86   6\n",
              "1 -29.0  88 -80   2  21\n",
              "2 -26.0 -13  16  -1   3\n",
              "3  51.0  30  49 -48 -99\n",
              "4 -13.0  57 -63  29  91\n",
              "5  87.0 -80  60 -43 -79\n",
              "6 -12.0 -52 -42  69  87\n",
              "7 -86.0  89  89  74  89\n",
              "8 -50.0   7 -46 -37  30\n",
              "9 -50.0  34 -80 -28  66"
            ]
          },
          "metadata": {
            "tags": []
          },
          "execution_count": 28
        }
      ]
    },
    {
      "cell_type": "markdown",
      "metadata": {
        "id": "l8GK_8K7y_oD"
      },
      "source": [
        "## Row(행) 선택"
      ]
    },
    {
      "cell_type": "code",
      "metadata": {
        "id": "umCqHLuQy_oD",
        "outputId": "c5edb727-f3dc-4036-c879-e4e864bc013e"
      },
      "source": [
        "df.loc['1']"
      ],
      "execution_count": null,
      "outputs": [
        {
          "output_type": "error",
          "ename": "KeyError",
          "evalue": "'1'",
          "traceback": [
            "\u001b[1;31m---------------------------------------------------------------------------\u001b[0m",
            "\u001b[1;31mKeyError\u001b[0m                                  Traceback (most recent call last)",
            "\u001b[1;32mC:\\ProgramData\\Anaconda3\\lib\\site-packages\\pandas\\core\\indexes\\base.py\u001b[0m in \u001b[0;36mget_loc\u001b[1;34m(self, key, method, tolerance)\u001b[0m\n\u001b[0;32m   2645\u001b[0m             \u001b[1;32mtry\u001b[0m\u001b[1;33m:\u001b[0m\u001b[1;33m\u001b[0m\u001b[1;33m\u001b[0m\u001b[0m\n\u001b[1;32m-> 2646\u001b[1;33m                 \u001b[1;32mreturn\u001b[0m \u001b[0mself\u001b[0m\u001b[1;33m.\u001b[0m\u001b[0m_engine\u001b[0m\u001b[1;33m.\u001b[0m\u001b[0mget_loc\u001b[0m\u001b[1;33m(\u001b[0m\u001b[0mkey\u001b[0m\u001b[1;33m)\u001b[0m\u001b[1;33m\u001b[0m\u001b[1;33m\u001b[0m\u001b[0m\n\u001b[0m\u001b[0;32m   2647\u001b[0m             \u001b[1;32mexcept\u001b[0m \u001b[0mKeyError\u001b[0m\u001b[1;33m:\u001b[0m\u001b[1;33m\u001b[0m\u001b[1;33m\u001b[0m\u001b[0m\n",
            "\u001b[1;32mpandas\\_libs\\index.pyx\u001b[0m in \u001b[0;36mpandas._libs.index.IndexEngine.get_loc\u001b[1;34m()\u001b[0m\n",
            "\u001b[1;32mpandas\\_libs\\index.pyx\u001b[0m in \u001b[0;36mpandas._libs.index.IndexEngine.get_loc\u001b[1;34m()\u001b[0m\n",
            "\u001b[1;32mpandas\\_libs\\index_class_helper.pxi\u001b[0m in \u001b[0;36mpandas._libs.index.Int64Engine._check_type\u001b[1;34m()\u001b[0m\n",
            "\u001b[1;31mKeyError\u001b[0m: '1'",
            "\nDuring handling of the above exception, another exception occurred:\n",
            "\u001b[1;31mKeyError\u001b[0m                                  Traceback (most recent call last)",
            "\u001b[1;32m<ipython-input-32-53634cf23324>\u001b[0m in \u001b[0;36m<module>\u001b[1;34m\u001b[0m\n\u001b[1;32m----> 1\u001b[1;33m \u001b[0mdf\u001b[0m\u001b[1;33m.\u001b[0m\u001b[0mloc\u001b[0m\u001b[1;33m[\u001b[0m\u001b[1;34m'1'\u001b[0m\u001b[1;33m]\u001b[0m\u001b[1;33m\u001b[0m\u001b[1;33m\u001b[0m\u001b[0m\n\u001b[0m",
            "\u001b[1;32mC:\\ProgramData\\Anaconda3\\lib\\site-packages\\pandas\\core\\indexing.py\u001b[0m in \u001b[0;36m__getitem__\u001b[1;34m(self, key)\u001b[0m\n\u001b[0;32m   1766\u001b[0m \u001b[1;33m\u001b[0m\u001b[0m\n\u001b[0;32m   1767\u001b[0m             \u001b[0mmaybe_callable\u001b[0m \u001b[1;33m=\u001b[0m \u001b[0mcom\u001b[0m\u001b[1;33m.\u001b[0m\u001b[0mapply_if_callable\u001b[0m\u001b[1;33m(\u001b[0m\u001b[0mkey\u001b[0m\u001b[1;33m,\u001b[0m \u001b[0mself\u001b[0m\u001b[1;33m.\u001b[0m\u001b[0mobj\u001b[0m\u001b[1;33m)\u001b[0m\u001b[1;33m\u001b[0m\u001b[1;33m\u001b[0m\u001b[0m\n\u001b[1;32m-> 1768\u001b[1;33m             \u001b[1;32mreturn\u001b[0m \u001b[0mself\u001b[0m\u001b[1;33m.\u001b[0m\u001b[0m_getitem_axis\u001b[0m\u001b[1;33m(\u001b[0m\u001b[0mmaybe_callable\u001b[0m\u001b[1;33m,\u001b[0m \u001b[0maxis\u001b[0m\u001b[1;33m=\u001b[0m\u001b[0maxis\u001b[0m\u001b[1;33m)\u001b[0m\u001b[1;33m\u001b[0m\u001b[1;33m\u001b[0m\u001b[0m\n\u001b[0m\u001b[0;32m   1769\u001b[0m \u001b[1;33m\u001b[0m\u001b[0m\n\u001b[0;32m   1770\u001b[0m     \u001b[1;32mdef\u001b[0m \u001b[0m_is_scalar_access\u001b[0m\u001b[1;33m(\u001b[0m\u001b[0mself\u001b[0m\u001b[1;33m,\u001b[0m \u001b[0mkey\u001b[0m\u001b[1;33m:\u001b[0m \u001b[0mTuple\u001b[0m\u001b[1;33m)\u001b[0m\u001b[1;33m:\u001b[0m\u001b[1;33m\u001b[0m\u001b[1;33m\u001b[0m\u001b[0m\n",
            "\u001b[1;32mC:\\ProgramData\\Anaconda3\\lib\\site-packages\\pandas\\core\\indexing.py\u001b[0m in \u001b[0;36m_getitem_axis\u001b[1;34m(self, key, axis)\u001b[0m\n\u001b[0;32m   1963\u001b[0m         \u001b[1;31m# fall thru to straight lookup\u001b[0m\u001b[1;33m\u001b[0m\u001b[1;33m\u001b[0m\u001b[1;33m\u001b[0m\u001b[0m\n\u001b[0;32m   1964\u001b[0m         \u001b[0mself\u001b[0m\u001b[1;33m.\u001b[0m\u001b[0m_validate_key\u001b[0m\u001b[1;33m(\u001b[0m\u001b[0mkey\u001b[0m\u001b[1;33m,\u001b[0m \u001b[0maxis\u001b[0m\u001b[1;33m)\u001b[0m\u001b[1;33m\u001b[0m\u001b[1;33m\u001b[0m\u001b[0m\n\u001b[1;32m-> 1965\u001b[1;33m         \u001b[1;32mreturn\u001b[0m \u001b[0mself\u001b[0m\u001b[1;33m.\u001b[0m\u001b[0m_get_label\u001b[0m\u001b[1;33m(\u001b[0m\u001b[0mkey\u001b[0m\u001b[1;33m,\u001b[0m \u001b[0maxis\u001b[0m\u001b[1;33m=\u001b[0m\u001b[0maxis\u001b[0m\u001b[1;33m)\u001b[0m\u001b[1;33m\u001b[0m\u001b[1;33m\u001b[0m\u001b[0m\n\u001b[0m\u001b[0;32m   1966\u001b[0m \u001b[1;33m\u001b[0m\u001b[0m\n\u001b[0;32m   1967\u001b[0m \u001b[1;33m\u001b[0m\u001b[0m\n",
            "\u001b[1;32mC:\\ProgramData\\Anaconda3\\lib\\site-packages\\pandas\\core\\indexing.py\u001b[0m in \u001b[0;36m_get_label\u001b[1;34m(self, label, axis)\u001b[0m\n\u001b[0;32m    623\u001b[0m             \u001b[1;32mraise\u001b[0m \u001b[0mIndexingError\u001b[0m\u001b[1;33m(\u001b[0m\u001b[1;34m\"no slices here, handle elsewhere\"\u001b[0m\u001b[1;33m)\u001b[0m\u001b[1;33m\u001b[0m\u001b[1;33m\u001b[0m\u001b[0m\n\u001b[0;32m    624\u001b[0m \u001b[1;33m\u001b[0m\u001b[0m\n\u001b[1;32m--> 625\u001b[1;33m         \u001b[1;32mreturn\u001b[0m \u001b[0mself\u001b[0m\u001b[1;33m.\u001b[0m\u001b[0mobj\u001b[0m\u001b[1;33m.\u001b[0m\u001b[0m_xs\u001b[0m\u001b[1;33m(\u001b[0m\u001b[0mlabel\u001b[0m\u001b[1;33m,\u001b[0m \u001b[0maxis\u001b[0m\u001b[1;33m=\u001b[0m\u001b[0maxis\u001b[0m\u001b[1;33m)\u001b[0m\u001b[1;33m\u001b[0m\u001b[1;33m\u001b[0m\u001b[0m\n\u001b[0m\u001b[0;32m    626\u001b[0m \u001b[1;33m\u001b[0m\u001b[0m\n\u001b[0;32m    627\u001b[0m     \u001b[1;32mdef\u001b[0m \u001b[0m_get_loc\u001b[0m\u001b[1;33m(\u001b[0m\u001b[0mself\u001b[0m\u001b[1;33m,\u001b[0m \u001b[0mkey\u001b[0m\u001b[1;33m:\u001b[0m \u001b[0mint\u001b[0m\u001b[1;33m,\u001b[0m \u001b[0maxis\u001b[0m\u001b[1;33m:\u001b[0m \u001b[0mint\u001b[0m\u001b[1;33m)\u001b[0m\u001b[1;33m:\u001b[0m\u001b[1;33m\u001b[0m\u001b[1;33m\u001b[0m\u001b[0m\n",
            "\u001b[1;32mC:\\ProgramData\\Anaconda3\\lib\\site-packages\\pandas\\core\\generic.py\u001b[0m in \u001b[0;36mxs\u001b[1;34m(self, key, axis, level, drop_level)\u001b[0m\n\u001b[0;32m   3535\u001b[0m             \u001b[0mloc\u001b[0m\u001b[1;33m,\u001b[0m \u001b[0mnew_index\u001b[0m \u001b[1;33m=\u001b[0m \u001b[0mself\u001b[0m\u001b[1;33m.\u001b[0m\u001b[0mindex\u001b[0m\u001b[1;33m.\u001b[0m\u001b[0mget_loc_level\u001b[0m\u001b[1;33m(\u001b[0m\u001b[0mkey\u001b[0m\u001b[1;33m,\u001b[0m \u001b[0mdrop_level\u001b[0m\u001b[1;33m=\u001b[0m\u001b[0mdrop_level\u001b[0m\u001b[1;33m)\u001b[0m\u001b[1;33m\u001b[0m\u001b[1;33m\u001b[0m\u001b[0m\n\u001b[0;32m   3536\u001b[0m         \u001b[1;32melse\u001b[0m\u001b[1;33m:\u001b[0m\u001b[1;33m\u001b[0m\u001b[1;33m\u001b[0m\u001b[0m\n\u001b[1;32m-> 3537\u001b[1;33m             \u001b[0mloc\u001b[0m \u001b[1;33m=\u001b[0m \u001b[0mself\u001b[0m\u001b[1;33m.\u001b[0m\u001b[0mindex\u001b[0m\u001b[1;33m.\u001b[0m\u001b[0mget_loc\u001b[0m\u001b[1;33m(\u001b[0m\u001b[0mkey\u001b[0m\u001b[1;33m)\u001b[0m\u001b[1;33m\u001b[0m\u001b[1;33m\u001b[0m\u001b[0m\n\u001b[0m\u001b[0;32m   3538\u001b[0m \u001b[1;33m\u001b[0m\u001b[0m\n\u001b[0;32m   3539\u001b[0m             \u001b[1;32mif\u001b[0m \u001b[0misinstance\u001b[0m\u001b[1;33m(\u001b[0m\u001b[0mloc\u001b[0m\u001b[1;33m,\u001b[0m \u001b[0mnp\u001b[0m\u001b[1;33m.\u001b[0m\u001b[0mndarray\u001b[0m\u001b[1;33m)\u001b[0m\u001b[1;33m:\u001b[0m\u001b[1;33m\u001b[0m\u001b[1;33m\u001b[0m\u001b[0m\n",
            "\u001b[1;32mC:\\ProgramData\\Anaconda3\\lib\\site-packages\\pandas\\core\\indexes\\base.py\u001b[0m in \u001b[0;36mget_loc\u001b[1;34m(self, key, method, tolerance)\u001b[0m\n\u001b[0;32m   2646\u001b[0m                 \u001b[1;32mreturn\u001b[0m \u001b[0mself\u001b[0m\u001b[1;33m.\u001b[0m\u001b[0m_engine\u001b[0m\u001b[1;33m.\u001b[0m\u001b[0mget_loc\u001b[0m\u001b[1;33m(\u001b[0m\u001b[0mkey\u001b[0m\u001b[1;33m)\u001b[0m\u001b[1;33m\u001b[0m\u001b[1;33m\u001b[0m\u001b[0m\n\u001b[0;32m   2647\u001b[0m             \u001b[1;32mexcept\u001b[0m \u001b[0mKeyError\u001b[0m\u001b[1;33m:\u001b[0m\u001b[1;33m\u001b[0m\u001b[1;33m\u001b[0m\u001b[0m\n\u001b[1;32m-> 2648\u001b[1;33m                 \u001b[1;32mreturn\u001b[0m \u001b[0mself\u001b[0m\u001b[1;33m.\u001b[0m\u001b[0m_engine\u001b[0m\u001b[1;33m.\u001b[0m\u001b[0mget_loc\u001b[0m\u001b[1;33m(\u001b[0m\u001b[0mself\u001b[0m\u001b[1;33m.\u001b[0m\u001b[0m_maybe_cast_indexer\u001b[0m\u001b[1;33m(\u001b[0m\u001b[0mkey\u001b[0m\u001b[1;33m)\u001b[0m\u001b[1;33m)\u001b[0m\u001b[1;33m\u001b[0m\u001b[1;33m\u001b[0m\u001b[0m\n\u001b[0m\u001b[0;32m   2649\u001b[0m         \u001b[0mindexer\u001b[0m \u001b[1;33m=\u001b[0m \u001b[0mself\u001b[0m\u001b[1;33m.\u001b[0m\u001b[0mget_indexer\u001b[0m\u001b[1;33m(\u001b[0m\u001b[1;33m[\u001b[0m\u001b[0mkey\u001b[0m\u001b[1;33m]\u001b[0m\u001b[1;33m,\u001b[0m \u001b[0mmethod\u001b[0m\u001b[1;33m=\u001b[0m\u001b[0mmethod\u001b[0m\u001b[1;33m,\u001b[0m \u001b[0mtolerance\u001b[0m\u001b[1;33m=\u001b[0m\u001b[0mtolerance\u001b[0m\u001b[1;33m)\u001b[0m\u001b[1;33m\u001b[0m\u001b[1;33m\u001b[0m\u001b[0m\n\u001b[0;32m   2650\u001b[0m         \u001b[1;32mif\u001b[0m \u001b[0mindexer\u001b[0m\u001b[1;33m.\u001b[0m\u001b[0mndim\u001b[0m \u001b[1;33m>\u001b[0m \u001b[1;36m1\u001b[0m \u001b[1;32mor\u001b[0m \u001b[0mindexer\u001b[0m\u001b[1;33m.\u001b[0m\u001b[0msize\u001b[0m \u001b[1;33m>\u001b[0m \u001b[1;36m1\u001b[0m\u001b[1;33m:\u001b[0m\u001b[1;33m\u001b[0m\u001b[1;33m\u001b[0m\u001b[0m\n",
            "\u001b[1;32mpandas\\_libs\\index.pyx\u001b[0m in \u001b[0;36mpandas._libs.index.IndexEngine.get_loc\u001b[1;34m()\u001b[0m\n",
            "\u001b[1;32mpandas\\_libs\\index.pyx\u001b[0m in \u001b[0;36mpandas._libs.index.IndexEngine.get_loc\u001b[1;34m()\u001b[0m\n",
            "\u001b[1;32mpandas\\_libs\\index_class_helper.pxi\u001b[0m in \u001b[0;36mpandas._libs.index.Int64Engine._check_type\u001b[1;34m()\u001b[0m\n",
            "\u001b[1;31mKeyError\u001b[0m: '1'"
          ]
        }
      ]
    },
    {
      "cell_type": "markdown",
      "metadata": {
        "id": "iP-k9ikty_oD"
      },
      "source": [
        "## 여러 행 선택"
      ]
    },
    {
      "cell_type": "code",
      "metadata": {
        "id": "6ctB1AtGy_oD",
        "outputId": "605f6e5e-95d2-4c17-ea72-7e537034f0ab"
      },
      "source": [
        "df.loc[[1,2,3]]"
      ],
      "execution_count": null,
      "outputs": [
        {
          "output_type": "execute_result",
          "data": {
            "text/html": [
              "<div>\n",
              "<style scoped>\n",
              "    .dataframe tbody tr th:only-of-type {\n",
              "        vertical-align: middle;\n",
              "    }\n",
              "\n",
              "    .dataframe tbody tr th {\n",
              "        vertical-align: top;\n",
              "    }\n",
              "\n",
              "    .dataframe thead th {\n",
              "        text-align: right;\n",
              "    }\n",
              "</style>\n",
              "<table border=\"1\" class=\"dataframe\">\n",
              "  <thead>\n",
              "    <tr style=\"text-align: right;\">\n",
              "      <th></th>\n",
              "      <th>A</th>\n",
              "      <th>B</th>\n",
              "      <th>C</th>\n",
              "      <th>D</th>\n",
              "      <th>E</th>\n",
              "    </tr>\n",
              "  </thead>\n",
              "  <tbody>\n",
              "    <tr>\n",
              "      <th>1</th>\n",
              "      <td>-29.0</td>\n",
              "      <td>88</td>\n",
              "      <td>-80</td>\n",
              "      <td>2</td>\n",
              "      <td>21</td>\n",
              "    </tr>\n",
              "    <tr>\n",
              "      <th>2</th>\n",
              "      <td>-26.0</td>\n",
              "      <td>-13</td>\n",
              "      <td>16</td>\n",
              "      <td>-1</td>\n",
              "      <td>3</td>\n",
              "    </tr>\n",
              "    <tr>\n",
              "      <th>3</th>\n",
              "      <td>51.0</td>\n",
              "      <td>30</td>\n",
              "      <td>49</td>\n",
              "      <td>-48</td>\n",
              "      <td>-99</td>\n",
              "    </tr>\n",
              "  </tbody>\n",
              "</table>\n",
              "</div>"
            ],
            "text/plain": [
              "      A   B   C   D   E\n",
              "1 -29.0  88 -80   2  21\n",
              "2 -26.0 -13  16  -1   3\n",
              "3  51.0  30  49 -48 -99"
            ]
          },
          "metadata": {
            "tags": []
          },
          "execution_count": 31
        }
      ]
    },
    {
      "cell_type": "markdown",
      "metadata": {
        "id": "oMBGsEyGy_oD"
      },
      "source": [
        "## 인덱스로 행 선택"
      ]
    },
    {
      "cell_type": "code",
      "metadata": {
        "id": "45lyT387y_oD",
        "outputId": "4e14d3f3-afe5-46d0-8cb2-3f4432502273"
      },
      "source": [
        "df.iloc[0]"
      ],
      "execution_count": null,
      "outputs": [
        {
          "output_type": "execute_result",
          "data": {
            "text/plain": [
              "W     2\n",
              "X    79\n",
              "Y    -8\n",
              "Z   -86\n",
              "Name: A, dtype: int32"
            ]
          },
          "metadata": {
            "tags": []
          },
          "execution_count": 17
        }
      ]
    },
    {
      "cell_type": "markdown",
      "metadata": {
        "id": "UKOX66j5y_oD"
      },
      "source": [
        "## 인덱스로 여러 행 선택"
      ]
    },
    {
      "cell_type": "code",
      "metadata": {
        "id": "7zAUbDbty_oD",
        "outputId": "85e6b089-e882-46e3-af8c-43abc00e729c"
      },
      "source": [
        "df.iloc[0:2]"
      ],
      "execution_count": null,
      "outputs": [
        {
          "output_type": "execute_result",
          "data": {
            "text/html": [
              "<div>\n",
              "<style scoped>\n",
              "    .dataframe tbody tr th:only-of-type {\n",
              "        vertical-align: middle;\n",
              "    }\n",
              "\n",
              "    .dataframe tbody tr th {\n",
              "        vertical-align: top;\n",
              "    }\n",
              "\n",
              "    .dataframe thead th {\n",
              "        text-align: right;\n",
              "    }\n",
              "</style>\n",
              "<table border=\"1\" class=\"dataframe\">\n",
              "  <thead>\n",
              "    <tr style=\"text-align: right;\">\n",
              "      <th></th>\n",
              "      <th>W</th>\n",
              "      <th>X</th>\n",
              "      <th>Y</th>\n",
              "      <th>Z</th>\n",
              "    </tr>\n",
              "  </thead>\n",
              "  <tbody>\n",
              "    <tr>\n",
              "      <th>A</th>\n",
              "      <td>2</td>\n",
              "      <td>79</td>\n",
              "      <td>-8</td>\n",
              "      <td>-86</td>\n",
              "    </tr>\n",
              "    <tr>\n",
              "      <th>B</th>\n",
              "      <td>6</td>\n",
              "      <td>-29</td>\n",
              "      <td>88</td>\n",
              "      <td>-80</td>\n",
              "    </tr>\n",
              "  </tbody>\n",
              "</table>\n",
              "</div>"
            ],
            "text/plain": [
              "   W   X   Y   Z\n",
              "A  2  79  -8 -86\n",
              "B  6 -29  88 -80"
            ]
          },
          "metadata": {
            "tags": []
          },
          "execution_count": 18
        }
      ]
    },
    {
      "cell_type": "markdown",
      "metadata": {
        "id": "2eEVKKeiy_oD"
      },
      "source": [
        "## 행 삭제"
      ]
    },
    {
      "cell_type": "code",
      "metadata": {
        "id": "Y4akwvcwy_oD",
        "outputId": "a6294685-814f-4207-9f9f-5fb12f2f285d"
      },
      "source": [
        "df.drop('C',axis=0)"
      ],
      "execution_count": null,
      "outputs": [
        {
          "output_type": "execute_result",
          "data": {
            "text/html": [
              "<div>\n",
              "<style scoped>\n",
              "    .dataframe tbody tr th:only-of-type {\n",
              "        vertical-align: middle;\n",
              "    }\n",
              "\n",
              "    .dataframe tbody tr th {\n",
              "        vertical-align: top;\n",
              "    }\n",
              "\n",
              "    .dataframe thead th {\n",
              "        text-align: right;\n",
              "    }\n",
              "</style>\n",
              "<table border=\"1\" class=\"dataframe\">\n",
              "  <thead>\n",
              "    <tr style=\"text-align: right;\">\n",
              "      <th></th>\n",
              "      <th>W</th>\n",
              "      <th>X</th>\n",
              "      <th>Y</th>\n",
              "      <th>Z</th>\n",
              "    </tr>\n",
              "  </thead>\n",
              "  <tbody>\n",
              "    <tr>\n",
              "      <th>A</th>\n",
              "      <td>2</td>\n",
              "      <td>79</td>\n",
              "      <td>-8</td>\n",
              "      <td>-86</td>\n",
              "    </tr>\n",
              "    <tr>\n",
              "      <th>B</th>\n",
              "      <td>6</td>\n",
              "      <td>-29</td>\n",
              "      <td>88</td>\n",
              "      <td>-80</td>\n",
              "    </tr>\n",
              "    <tr>\n",
              "      <th>D</th>\n",
              "      <td>16</td>\n",
              "      <td>-1</td>\n",
              "      <td>3</td>\n",
              "      <td>51</td>\n",
              "    </tr>\n",
              "    <tr>\n",
              "      <th>E</th>\n",
              "      <td>30</td>\n",
              "      <td>49</td>\n",
              "      <td>-48</td>\n",
              "      <td>-99</td>\n",
              "    </tr>\n",
              "  </tbody>\n",
              "</table>\n",
              "</div>"
            ],
            "text/plain": [
              "    W   X   Y   Z\n",
              "A   2  79  -8 -86\n",
              "B   6 -29  88 -80\n",
              "D  16  -1   3  51\n",
              "E  30  49 -48 -99"
            ]
          },
          "metadata": {
            "tags": []
          },
          "execution_count": 19
        }
      ]
    },
    {
      "cell_type": "code",
      "metadata": {
        "id": "JQBD7FNZy_oD",
        "outputId": "95bd91d5-d595-44a3-beac-509c39cc4475"
      },
      "source": [
        "# NOT IN PLACE!\n",
        "df "
      ],
      "execution_count": null,
      "outputs": [
        {
          "output_type": "execute_result",
          "data": {
            "text/html": [
              "<div>\n",
              "<style scoped>\n",
              "    .dataframe tbody tr th:only-of-type {\n",
              "        vertical-align: middle;\n",
              "    }\n",
              "\n",
              "    .dataframe tbody tr th {\n",
              "        vertical-align: top;\n",
              "    }\n",
              "\n",
              "    .dataframe thead th {\n",
              "        text-align: right;\n",
              "    }\n",
              "</style>\n",
              "<table border=\"1\" class=\"dataframe\">\n",
              "  <thead>\n",
              "    <tr style=\"text-align: right;\">\n",
              "      <th></th>\n",
              "      <th>W</th>\n",
              "      <th>X</th>\n",
              "      <th>Y</th>\n",
              "      <th>Z</th>\n",
              "    </tr>\n",
              "  </thead>\n",
              "  <tbody>\n",
              "    <tr>\n",
              "      <th>A</th>\n",
              "      <td>2</td>\n",
              "      <td>79</td>\n",
              "      <td>-8</td>\n",
              "      <td>-86</td>\n",
              "    </tr>\n",
              "    <tr>\n",
              "      <th>B</th>\n",
              "      <td>6</td>\n",
              "      <td>-29</td>\n",
              "      <td>88</td>\n",
              "      <td>-80</td>\n",
              "    </tr>\n",
              "    <tr>\n",
              "      <th>C</th>\n",
              "      <td>2</td>\n",
              "      <td>21</td>\n",
              "      <td>-26</td>\n",
              "      <td>-13</td>\n",
              "    </tr>\n",
              "    <tr>\n",
              "      <th>D</th>\n",
              "      <td>16</td>\n",
              "      <td>-1</td>\n",
              "      <td>3</td>\n",
              "      <td>51</td>\n",
              "    </tr>\n",
              "    <tr>\n",
              "      <th>E</th>\n",
              "      <td>30</td>\n",
              "      <td>49</td>\n",
              "      <td>-48</td>\n",
              "      <td>-99</td>\n",
              "    </tr>\n",
              "  </tbody>\n",
              "</table>\n",
              "</div>"
            ],
            "text/plain": [
              "    W   X   Y   Z\n",
              "A   2  79  -8 -86\n",
              "B   6 -29  88 -80\n",
              "C   2  21 -26 -13\n",
              "D  16  -1   3  51\n",
              "E  30  49 -48 -99"
            ]
          },
          "metadata": {
            "tags": []
          },
          "execution_count": 20
        }
      ]
    },
    {
      "cell_type": "markdown",
      "metadata": {
        "id": "Wxa90M9Ty_oD"
      },
      "source": [
        "### 서브셋 선택"
      ]
    },
    {
      "cell_type": "code",
      "metadata": {
        "id": "BjGM0gNdy_oD",
        "outputId": "cfd22b70-1184-4d0b-e836-fb3079e25ab5"
      },
      "source": [
        "df.loc[['A','C'],['W','Y']]"
      ],
      "execution_count": null,
      "outputs": [
        {
          "output_type": "execute_result",
          "data": {
            "text/html": [
              "<div>\n",
              "<style scoped>\n",
              "    .dataframe tbody tr th:only-of-type {\n",
              "        vertical-align: middle;\n",
              "    }\n",
              "\n",
              "    .dataframe tbody tr th {\n",
              "        vertical-align: top;\n",
              "    }\n",
              "\n",
              "    .dataframe thead th {\n",
              "        text-align: right;\n",
              "    }\n",
              "</style>\n",
              "<table border=\"1\" class=\"dataframe\">\n",
              "  <thead>\n",
              "    <tr style=\"text-align: right;\">\n",
              "      <th></th>\n",
              "      <th>W</th>\n",
              "      <th>Y</th>\n",
              "    </tr>\n",
              "  </thead>\n",
              "  <tbody>\n",
              "    <tr>\n",
              "      <th>A</th>\n",
              "      <td>2</td>\n",
              "      <td>-8</td>\n",
              "    </tr>\n",
              "    <tr>\n",
              "      <th>C</th>\n",
              "      <td>2</td>\n",
              "      <td>-26</td>\n",
              "    </tr>\n",
              "  </tbody>\n",
              "</table>\n",
              "</div>"
            ],
            "text/plain": [
              "   W   Y\n",
              "A  2  -8\n",
              "C  2 -26"
            ]
          },
          "metadata": {
            "tags": []
          },
          "execution_count": 21
        }
      ]
    },
    {
      "cell_type": "markdown",
      "metadata": {
        "id": "9Pl7X3Uqy_oD"
      },
      "source": [
        "# 조건부 선택"
      ]
    },
    {
      "cell_type": "code",
      "metadata": {
        "id": "YiqNVD1iy_oD",
        "outputId": "c022e617-848a-48d6-9891-23dcef33e264"
      },
      "source": [
        "df"
      ],
      "execution_count": null,
      "outputs": [
        {
          "output_type": "execute_result",
          "data": {
            "text/html": [
              "<div>\n",
              "<style scoped>\n",
              "    .dataframe tbody tr th:only-of-type {\n",
              "        vertical-align: middle;\n",
              "    }\n",
              "\n",
              "    .dataframe tbody tr th {\n",
              "        vertical-align: top;\n",
              "    }\n",
              "\n",
              "    .dataframe thead th {\n",
              "        text-align: right;\n",
              "    }\n",
              "</style>\n",
              "<table border=\"1\" class=\"dataframe\">\n",
              "  <thead>\n",
              "    <tr style=\"text-align: right;\">\n",
              "      <th></th>\n",
              "      <th>W</th>\n",
              "      <th>X</th>\n",
              "      <th>Y</th>\n",
              "      <th>Z</th>\n",
              "    </tr>\n",
              "  </thead>\n",
              "  <tbody>\n",
              "    <tr>\n",
              "      <th>A</th>\n",
              "      <td>2</td>\n",
              "      <td>79</td>\n",
              "      <td>-8</td>\n",
              "      <td>-86</td>\n",
              "    </tr>\n",
              "    <tr>\n",
              "      <th>B</th>\n",
              "      <td>6</td>\n",
              "      <td>-29</td>\n",
              "      <td>88</td>\n",
              "      <td>-80</td>\n",
              "    </tr>\n",
              "    <tr>\n",
              "      <th>C</th>\n",
              "      <td>2</td>\n",
              "      <td>21</td>\n",
              "      <td>-26</td>\n",
              "      <td>-13</td>\n",
              "    </tr>\n",
              "    <tr>\n",
              "      <th>D</th>\n",
              "      <td>16</td>\n",
              "      <td>-1</td>\n",
              "      <td>3</td>\n",
              "      <td>51</td>\n",
              "    </tr>\n",
              "    <tr>\n",
              "      <th>E</th>\n",
              "      <td>30</td>\n",
              "      <td>49</td>\n",
              "      <td>-48</td>\n",
              "      <td>-99</td>\n",
              "    </tr>\n",
              "  </tbody>\n",
              "</table>\n",
              "</div>"
            ],
            "text/plain": [
              "    W   X   Y   Z\n",
              "A   2  79  -8 -86\n",
              "B   6 -29  88 -80\n",
              "C   2  21 -26 -13\n",
              "D  16  -1   3  51\n",
              "E  30  49 -48 -99"
            ]
          },
          "metadata": {
            "tags": []
          },
          "execution_count": 22
        }
      ]
    },
    {
      "cell_type": "code",
      "metadata": {
        "id": "TF83vhTVy_oD",
        "outputId": "535f8e3a-fbc8-45dd-d242-2c7d878d3e40"
      },
      "source": [
        "df>0"
      ],
      "execution_count": null,
      "outputs": [
        {
          "output_type": "execute_result",
          "data": {
            "text/html": [
              "<div>\n",
              "<style scoped>\n",
              "    .dataframe tbody tr th:only-of-type {\n",
              "        vertical-align: middle;\n",
              "    }\n",
              "\n",
              "    .dataframe tbody tr th {\n",
              "        vertical-align: top;\n",
              "    }\n",
              "\n",
              "    .dataframe thead th {\n",
              "        text-align: right;\n",
              "    }\n",
              "</style>\n",
              "<table border=\"1\" class=\"dataframe\">\n",
              "  <thead>\n",
              "    <tr style=\"text-align: right;\">\n",
              "      <th></th>\n",
              "      <th>W</th>\n",
              "      <th>X</th>\n",
              "      <th>Y</th>\n",
              "      <th>Z</th>\n",
              "    </tr>\n",
              "  </thead>\n",
              "  <tbody>\n",
              "    <tr>\n",
              "      <th>A</th>\n",
              "      <td>True</td>\n",
              "      <td>True</td>\n",
              "      <td>False</td>\n",
              "      <td>False</td>\n",
              "    </tr>\n",
              "    <tr>\n",
              "      <th>B</th>\n",
              "      <td>True</td>\n",
              "      <td>False</td>\n",
              "      <td>True</td>\n",
              "      <td>False</td>\n",
              "    </tr>\n",
              "    <tr>\n",
              "      <th>C</th>\n",
              "      <td>True</td>\n",
              "      <td>True</td>\n",
              "      <td>False</td>\n",
              "      <td>False</td>\n",
              "    </tr>\n",
              "    <tr>\n",
              "      <th>D</th>\n",
              "      <td>True</td>\n",
              "      <td>False</td>\n",
              "      <td>True</td>\n",
              "      <td>True</td>\n",
              "    </tr>\n",
              "    <tr>\n",
              "      <th>E</th>\n",
              "      <td>True</td>\n",
              "      <td>True</td>\n",
              "      <td>False</td>\n",
              "      <td>False</td>\n",
              "    </tr>\n",
              "  </tbody>\n",
              "</table>\n",
              "</div>"
            ],
            "text/plain": [
              "      W      X      Y      Z\n",
              "A  True   True  False  False\n",
              "B  True  False   True  False\n",
              "C  True   True  False  False\n",
              "D  True  False   True   True\n",
              "E  True   True  False  False"
            ]
          },
          "metadata": {
            "tags": []
          },
          "execution_count": 23
        }
      ]
    },
    {
      "cell_type": "code",
      "metadata": {
        "id": "T6HgzHyny_oD",
        "outputId": "189ce879-5ca3-4e16-ed03-34441ef676c4"
      },
      "source": [
        "df[df>0]"
      ],
      "execution_count": null,
      "outputs": [
        {
          "output_type": "execute_result",
          "data": {
            "text/html": [
              "<div>\n",
              "<style scoped>\n",
              "    .dataframe tbody tr th:only-of-type {\n",
              "        vertical-align: middle;\n",
              "    }\n",
              "\n",
              "    .dataframe tbody tr th {\n",
              "        vertical-align: top;\n",
              "    }\n",
              "\n",
              "    .dataframe thead th {\n",
              "        text-align: right;\n",
              "    }\n",
              "</style>\n",
              "<table border=\"1\" class=\"dataframe\">\n",
              "  <thead>\n",
              "    <tr style=\"text-align: right;\">\n",
              "      <th></th>\n",
              "      <th>W</th>\n",
              "      <th>X</th>\n",
              "      <th>Y</th>\n",
              "      <th>Z</th>\n",
              "    </tr>\n",
              "  </thead>\n",
              "  <tbody>\n",
              "    <tr>\n",
              "      <th>A</th>\n",
              "      <td>2</td>\n",
              "      <td>79.0</td>\n",
              "      <td>NaN</td>\n",
              "      <td>NaN</td>\n",
              "    </tr>\n",
              "    <tr>\n",
              "      <th>B</th>\n",
              "      <td>6</td>\n",
              "      <td>NaN</td>\n",
              "      <td>88.0</td>\n",
              "      <td>NaN</td>\n",
              "    </tr>\n",
              "    <tr>\n",
              "      <th>C</th>\n",
              "      <td>2</td>\n",
              "      <td>21.0</td>\n",
              "      <td>NaN</td>\n",
              "      <td>NaN</td>\n",
              "    </tr>\n",
              "    <tr>\n",
              "      <th>D</th>\n",
              "      <td>16</td>\n",
              "      <td>NaN</td>\n",
              "      <td>3.0</td>\n",
              "      <td>51.0</td>\n",
              "    </tr>\n",
              "    <tr>\n",
              "      <th>E</th>\n",
              "      <td>30</td>\n",
              "      <td>49.0</td>\n",
              "      <td>NaN</td>\n",
              "      <td>NaN</td>\n",
              "    </tr>\n",
              "  </tbody>\n",
              "</table>\n",
              "</div>"
            ],
            "text/plain": [
              "    W     X     Y     Z\n",
              "A   2  79.0   NaN   NaN\n",
              "B   6   NaN  88.0   NaN\n",
              "C   2  21.0   NaN   NaN\n",
              "D  16   NaN   3.0  51.0\n",
              "E  30  49.0   NaN   NaN"
            ]
          },
          "metadata": {
            "tags": []
          },
          "execution_count": 24
        }
      ]
    },
    {
      "cell_type": "code",
      "metadata": {
        "id": "ADr1qJPSy_oD",
        "outputId": "b4550c04-a770-4e7e-9804-dddf1bb0d88b"
      },
      "source": [
        "df['X']>0"
      ],
      "execution_count": null,
      "outputs": [
        {
          "output_type": "execute_result",
          "data": {
            "text/plain": [
              "A     True\n",
              "B    False\n",
              "C     True\n",
              "D    False\n",
              "E     True\n",
              "Name: X, dtype: bool"
            ]
          },
          "metadata": {
            "tags": []
          },
          "execution_count": 25
        }
      ]
    },
    {
      "cell_type": "code",
      "metadata": {
        "id": "8IylvbB7y_oD",
        "outputId": "0653ab05-93c3-4418-f6de-8098b3f13e2e"
      },
      "source": [
        "df[df['X']>0]"
      ],
      "execution_count": null,
      "outputs": [
        {
          "output_type": "execute_result",
          "data": {
            "text/html": [
              "<div>\n",
              "<style scoped>\n",
              "    .dataframe tbody tr th:only-of-type {\n",
              "        vertical-align: middle;\n",
              "    }\n",
              "\n",
              "    .dataframe tbody tr th {\n",
              "        vertical-align: top;\n",
              "    }\n",
              "\n",
              "    .dataframe thead th {\n",
              "        text-align: right;\n",
              "    }\n",
              "</style>\n",
              "<table border=\"1\" class=\"dataframe\">\n",
              "  <thead>\n",
              "    <tr style=\"text-align: right;\">\n",
              "      <th></th>\n",
              "      <th>W</th>\n",
              "      <th>X</th>\n",
              "      <th>Y</th>\n",
              "      <th>Z</th>\n",
              "    </tr>\n",
              "  </thead>\n",
              "  <tbody>\n",
              "    <tr>\n",
              "      <th>A</th>\n",
              "      <td>2</td>\n",
              "      <td>79</td>\n",
              "      <td>-8</td>\n",
              "      <td>-86</td>\n",
              "    </tr>\n",
              "    <tr>\n",
              "      <th>C</th>\n",
              "      <td>2</td>\n",
              "      <td>21</td>\n",
              "      <td>-26</td>\n",
              "      <td>-13</td>\n",
              "    </tr>\n",
              "    <tr>\n",
              "      <th>E</th>\n",
              "      <td>30</td>\n",
              "      <td>49</td>\n",
              "      <td>-48</td>\n",
              "      <td>-99</td>\n",
              "    </tr>\n",
              "  </tbody>\n",
              "</table>\n",
              "</div>"
            ],
            "text/plain": [
              "    W   X   Y   Z\n",
              "A   2  79  -8 -86\n",
              "C   2  21 -26 -13\n",
              "E  30  49 -48 -99"
            ]
          },
          "metadata": {
            "tags": []
          },
          "execution_count": 26
        }
      ]
    },
    {
      "cell_type": "code",
      "metadata": {
        "id": "AtHuie1zy_oD",
        "outputId": "5fa8fcf6-dfba-488f-a54a-9ffed7f97bff"
      },
      "source": [
        "df[df['X']>0]['Y']"
      ],
      "execution_count": null,
      "outputs": [
        {
          "output_type": "execute_result",
          "data": {
            "text/plain": [
              "A    -8\n",
              "C   -26\n",
              "E   -48\n",
              "Name: Y, dtype: int32"
            ]
          },
          "metadata": {
            "tags": []
          },
          "execution_count": 27
        }
      ]
    },
    {
      "cell_type": "code",
      "metadata": {
        "id": "HZi7jizzy_oD",
        "outputId": "f1c1e0d1-eb75-4666-9596-ec09abb1c0bd"
      },
      "source": [
        "df[df['X']>0][['Y','Z']]"
      ],
      "execution_count": null,
      "outputs": [
        {
          "output_type": "execute_result",
          "data": {
            "text/html": [
              "<div>\n",
              "<style scoped>\n",
              "    .dataframe tbody tr th:only-of-type {\n",
              "        vertical-align: middle;\n",
              "    }\n",
              "\n",
              "    .dataframe tbody tr th {\n",
              "        vertical-align: top;\n",
              "    }\n",
              "\n",
              "    .dataframe thead th {\n",
              "        text-align: right;\n",
              "    }\n",
              "</style>\n",
              "<table border=\"1\" class=\"dataframe\">\n",
              "  <thead>\n",
              "    <tr style=\"text-align: right;\">\n",
              "      <th></th>\n",
              "      <th>Y</th>\n",
              "      <th>Z</th>\n",
              "    </tr>\n",
              "  </thead>\n",
              "  <tbody>\n",
              "    <tr>\n",
              "      <th>A</th>\n",
              "      <td>-8</td>\n",
              "      <td>-86</td>\n",
              "    </tr>\n",
              "    <tr>\n",
              "      <th>C</th>\n",
              "      <td>-26</td>\n",
              "      <td>-13</td>\n",
              "    </tr>\n",
              "    <tr>\n",
              "      <th>E</th>\n",
              "      <td>-48</td>\n",
              "      <td>-99</td>\n",
              "    </tr>\n",
              "  </tbody>\n",
              "</table>\n",
              "</div>"
            ],
            "text/plain": [
              "    Y   Z\n",
              "A  -8 -86\n",
              "C -26 -13\n",
              "E -48 -99"
            ]
          },
          "metadata": {
            "tags": []
          },
          "execution_count": 28
        }
      ]
    },
    {
      "cell_type": "markdown",
      "metadata": {
        "id": "gYnKEcH1y_oD"
      },
      "source": [
        "2개의 조건은  | 와 & 를 사용합니다."
      ]
    },
    {
      "cell_type": "code",
      "metadata": {
        "id": "x2B66fBHy_oD",
        "outputId": "5ef8b76b-1319-4cb0-c7c3-f6b022c8b678"
      },
      "source": [
        "df[(df['W']>0) & (df['Y'] > 1)]"
      ],
      "execution_count": null,
      "outputs": [
        {
          "output_type": "execute_result",
          "data": {
            "text/html": [
              "<div>\n",
              "<style scoped>\n",
              "    .dataframe tbody tr th:only-of-type {\n",
              "        vertical-align: middle;\n",
              "    }\n",
              "\n",
              "    .dataframe tbody tr th {\n",
              "        vertical-align: top;\n",
              "    }\n",
              "\n",
              "    .dataframe thead th {\n",
              "        text-align: right;\n",
              "    }\n",
              "</style>\n",
              "<table border=\"1\" class=\"dataframe\">\n",
              "  <thead>\n",
              "    <tr style=\"text-align: right;\">\n",
              "      <th></th>\n",
              "      <th>W</th>\n",
              "      <th>X</th>\n",
              "      <th>Y</th>\n",
              "      <th>Z</th>\n",
              "    </tr>\n",
              "  </thead>\n",
              "  <tbody>\n",
              "    <tr>\n",
              "      <th>B</th>\n",
              "      <td>6</td>\n",
              "      <td>-29</td>\n",
              "      <td>88</td>\n",
              "      <td>-80</td>\n",
              "    </tr>\n",
              "    <tr>\n",
              "      <th>D</th>\n",
              "      <td>16</td>\n",
              "      <td>-1</td>\n",
              "      <td>3</td>\n",
              "      <td>51</td>\n",
              "    </tr>\n",
              "  </tbody>\n",
              "</table>\n",
              "</div>"
            ],
            "text/plain": [
              "    W   X   Y   Z\n",
              "B   6 -29  88 -80\n",
              "D  16  -1   3  51"
            ]
          },
          "metadata": {
            "tags": []
          },
          "execution_count": 29
        }
      ]
    },
    {
      "cell_type": "markdown",
      "metadata": {
        "id": "QeH_M-0Iy_oE"
      },
      "source": [
        "## 데이터프레임 요약 정보"
      ]
    },
    {
      "cell_type": "code",
      "metadata": {
        "id": "nAAHfiTay_oE",
        "outputId": "405e8069-6de6-47fe-a4e1-2c6bb9cea64b"
      },
      "source": [
        "df.describe()"
      ],
      "execution_count": null,
      "outputs": [
        {
          "output_type": "execute_result",
          "data": {
            "text/html": [
              "<div>\n",
              "<style scoped>\n",
              "    .dataframe tbody tr th:only-of-type {\n",
              "        vertical-align: middle;\n",
              "    }\n",
              "\n",
              "    .dataframe tbody tr th {\n",
              "        vertical-align: top;\n",
              "    }\n",
              "\n",
              "    .dataframe thead th {\n",
              "        text-align: right;\n",
              "    }\n",
              "</style>\n",
              "<table border=\"1\" class=\"dataframe\">\n",
              "  <thead>\n",
              "    <tr style=\"text-align: right;\">\n",
              "      <th></th>\n",
              "      <th>W</th>\n",
              "      <th>X</th>\n",
              "      <th>Y</th>\n",
              "      <th>Z</th>\n",
              "    </tr>\n",
              "  </thead>\n",
              "  <tbody>\n",
              "    <tr>\n",
              "      <th>count</th>\n",
              "      <td>5.00000</td>\n",
              "      <td>5.000000</td>\n",
              "      <td>5.000000</td>\n",
              "      <td>5.000000</td>\n",
              "    </tr>\n",
              "    <tr>\n",
              "      <th>mean</th>\n",
              "      <td>11.20000</td>\n",
              "      <td>23.800000</td>\n",
              "      <td>1.800000</td>\n",
              "      <td>-45.400000</td>\n",
              "    </tr>\n",
              "    <tr>\n",
              "      <th>std</th>\n",
              "      <td>11.96662</td>\n",
              "      <td>42.109381</td>\n",
              "      <td>51.915316</td>\n",
              "      <td>63.366395</td>\n",
              "    </tr>\n",
              "    <tr>\n",
              "      <th>min</th>\n",
              "      <td>2.00000</td>\n",
              "      <td>-29.000000</td>\n",
              "      <td>-48.000000</td>\n",
              "      <td>-99.000000</td>\n",
              "    </tr>\n",
              "    <tr>\n",
              "      <th>25%</th>\n",
              "      <td>2.00000</td>\n",
              "      <td>-1.000000</td>\n",
              "      <td>-26.000000</td>\n",
              "      <td>-86.000000</td>\n",
              "    </tr>\n",
              "    <tr>\n",
              "      <th>50%</th>\n",
              "      <td>6.00000</td>\n",
              "      <td>21.000000</td>\n",
              "      <td>-8.000000</td>\n",
              "      <td>-80.000000</td>\n",
              "    </tr>\n",
              "    <tr>\n",
              "      <th>75%</th>\n",
              "      <td>16.00000</td>\n",
              "      <td>49.000000</td>\n",
              "      <td>3.000000</td>\n",
              "      <td>-13.000000</td>\n",
              "    </tr>\n",
              "    <tr>\n",
              "      <th>max</th>\n",
              "      <td>30.00000</td>\n",
              "      <td>79.000000</td>\n",
              "      <td>88.000000</td>\n",
              "      <td>51.000000</td>\n",
              "    </tr>\n",
              "  </tbody>\n",
              "</table>\n",
              "</div>"
            ],
            "text/plain": [
              "              W          X          Y          Z\n",
              "count   5.00000   5.000000   5.000000   5.000000\n",
              "mean   11.20000  23.800000   1.800000 -45.400000\n",
              "std    11.96662  42.109381  51.915316  63.366395\n",
              "min     2.00000 -29.000000 -48.000000 -99.000000\n",
              "25%     2.00000  -1.000000 -26.000000 -86.000000\n",
              "50%     6.00000  21.000000  -8.000000 -80.000000\n",
              "75%    16.00000  49.000000   3.000000 -13.000000\n",
              "max    30.00000  79.000000  88.000000  51.000000"
            ]
          },
          "metadata": {
            "tags": []
          },
          "execution_count": 30
        }
      ]
    },
    {
      "cell_type": "code",
      "metadata": {
        "id": "91O1sDhDy_oE",
        "outputId": "7bbc4cdd-ba7d-4338-f22e-71d9a2b0b881"
      },
      "source": [
        "df.dtypes"
      ],
      "execution_count": null,
      "outputs": [
        {
          "output_type": "execute_result",
          "data": {
            "text/plain": [
              "W    int32\n",
              "X    int32\n",
              "Y    int32\n",
              "Z    int32\n",
              "dtype: object"
            ]
          },
          "metadata": {
            "tags": []
          },
          "execution_count": 31
        }
      ]
    },
    {
      "cell_type": "code",
      "metadata": {
        "id": "G9FD6X1Ky_oE",
        "outputId": "d3bdedc2-181c-40c4-a5cd-71a00d104db7"
      },
      "source": [
        "df.info()"
      ],
      "execution_count": null,
      "outputs": [
        {
          "output_type": "stream",
          "text": [
            "<class 'pandas.core.frame.DataFrame'>\n",
            "Index: 5 entries, A to E\n",
            "Data columns (total 4 columns):\n",
            " #   Column  Non-Null Count  Dtype\n",
            "---  ------  --------------  -----\n",
            " 0   W       5 non-null      int32\n",
            " 1   X       5 non-null      int32\n",
            " 2   Y       5 non-null      int32\n",
            " 3   Z       5 non-null      int32\n",
            "dtypes: int32(4)\n",
            "memory usage: 280.0+ bytes\n"
          ],
          "name": "stdout"
        }
      ]
    },
    {
      "cell_type": "markdown",
      "metadata": {
        "id": "lq3hoyVay_oE"
      },
      "source": [
        "# 누락 데이터(Missing Data)"
      ]
    },
    {
      "cell_type": "code",
      "metadata": {
        "id": "Ua_WlGGxy_oE"
      },
      "source": [
        "df = pd.DataFrame({'A':[1,2,np.nan,4],\n",
        "                  'B':[5,np.nan,np.nan,8],\n",
        "                  'C':[10,20,30,40]})"
      ],
      "execution_count": null,
      "outputs": []
    },
    {
      "cell_type": "code",
      "metadata": {
        "id": "zkPO5rNMy_oE",
        "outputId": "1bd225cd-ed67-4d94-cc7c-e7278df778cd"
      },
      "source": [
        "df"
      ],
      "execution_count": null,
      "outputs": [
        {
          "output_type": "execute_result",
          "data": {
            "text/html": [
              "<div>\n",
              "<style scoped>\n",
              "    .dataframe tbody tr th:only-of-type {\n",
              "        vertical-align: middle;\n",
              "    }\n",
              "\n",
              "    .dataframe tbody tr th {\n",
              "        vertical-align: top;\n",
              "    }\n",
              "\n",
              "    .dataframe thead th {\n",
              "        text-align: right;\n",
              "    }\n",
              "</style>\n",
              "<table border=\"1\" class=\"dataframe\">\n",
              "  <thead>\n",
              "    <tr style=\"text-align: right;\">\n",
              "      <th></th>\n",
              "      <th>A</th>\n",
              "      <th>B</th>\n",
              "      <th>C</th>\n",
              "    </tr>\n",
              "  </thead>\n",
              "  <tbody>\n",
              "    <tr>\n",
              "      <th>0</th>\n",
              "      <td>1.0</td>\n",
              "      <td>5.0</td>\n",
              "      <td>10</td>\n",
              "    </tr>\n",
              "    <tr>\n",
              "      <th>1</th>\n",
              "      <td>2.0</td>\n",
              "      <td>NaN</td>\n",
              "      <td>20</td>\n",
              "    </tr>\n",
              "    <tr>\n",
              "      <th>2</th>\n",
              "      <td>NaN</td>\n",
              "      <td>NaN</td>\n",
              "      <td>30</td>\n",
              "    </tr>\n",
              "    <tr>\n",
              "      <th>3</th>\n",
              "      <td>4.0</td>\n",
              "      <td>8.0</td>\n",
              "      <td>40</td>\n",
              "    </tr>\n",
              "  </tbody>\n",
              "</table>\n",
              "</div>"
            ],
            "text/plain": [
              "     A    B   C\n",
              "0  1.0  5.0  10\n",
              "1  2.0  NaN  20\n",
              "2  NaN  NaN  30\n",
              "3  4.0  8.0  40"
            ]
          },
          "metadata": {
            "tags": []
          },
          "execution_count": 34
        }
      ]
    },
    {
      "cell_type": "markdown",
      "metadata": {
        "id": "O24CfaH0y_oE"
      },
      "source": [
        "## 누락 데이터 제거"
      ]
    },
    {
      "cell_type": "code",
      "metadata": {
        "id": "5R1VQtYJy_oE",
        "outputId": "24b9593f-ac0a-4a90-ee6d-7f2e4c8323c6"
      },
      "source": [
        "df.dropna()"
      ],
      "execution_count": null,
      "outputs": [
        {
          "output_type": "execute_result",
          "data": {
            "text/html": [
              "<div>\n",
              "<style scoped>\n",
              "    .dataframe tbody tr th:only-of-type {\n",
              "        vertical-align: middle;\n",
              "    }\n",
              "\n",
              "    .dataframe tbody tr th {\n",
              "        vertical-align: top;\n",
              "    }\n",
              "\n",
              "    .dataframe thead th {\n",
              "        text-align: right;\n",
              "    }\n",
              "</style>\n",
              "<table border=\"1\" class=\"dataframe\">\n",
              "  <thead>\n",
              "    <tr style=\"text-align: right;\">\n",
              "      <th></th>\n",
              "      <th>A</th>\n",
              "      <th>B</th>\n",
              "      <th>C</th>\n",
              "    </tr>\n",
              "  </thead>\n",
              "  <tbody>\n",
              "    <tr>\n",
              "      <th>0</th>\n",
              "      <td>1.0</td>\n",
              "      <td>5.0</td>\n",
              "      <td>10</td>\n",
              "    </tr>\n",
              "    <tr>\n",
              "      <th>3</th>\n",
              "      <td>4.0</td>\n",
              "      <td>8.0</td>\n",
              "      <td>40</td>\n",
              "    </tr>\n",
              "  </tbody>\n",
              "</table>\n",
              "</div>"
            ],
            "text/plain": [
              "     A    B   C\n",
              "0  1.0  5.0  10\n",
              "3  4.0  8.0  40"
            ]
          },
          "metadata": {
            "tags": []
          },
          "execution_count": 35
        }
      ]
    },
    {
      "cell_type": "code",
      "metadata": {
        "id": "62g_EY8Ky_oE",
        "outputId": "46c28ce5-de0b-421f-e5f3-2a58974229fc"
      },
      "source": [
        "df.dropna(axis=1)"
      ],
      "execution_count": null,
      "outputs": [
        {
          "output_type": "execute_result",
          "data": {
            "text/html": [
              "<div>\n",
              "<style scoped>\n",
              "    .dataframe tbody tr th:only-of-type {\n",
              "        vertical-align: middle;\n",
              "    }\n",
              "\n",
              "    .dataframe tbody tr th {\n",
              "        vertical-align: top;\n",
              "    }\n",
              "\n",
              "    .dataframe thead th {\n",
              "        text-align: right;\n",
              "    }\n",
              "</style>\n",
              "<table border=\"1\" class=\"dataframe\">\n",
              "  <thead>\n",
              "    <tr style=\"text-align: right;\">\n",
              "      <th></th>\n",
              "      <th>C</th>\n",
              "    </tr>\n",
              "  </thead>\n",
              "  <tbody>\n",
              "    <tr>\n",
              "      <th>0</th>\n",
              "      <td>10</td>\n",
              "    </tr>\n",
              "    <tr>\n",
              "      <th>1</th>\n",
              "      <td>20</td>\n",
              "    </tr>\n",
              "    <tr>\n",
              "      <th>2</th>\n",
              "      <td>30</td>\n",
              "    </tr>\n",
              "    <tr>\n",
              "      <th>3</th>\n",
              "      <td>40</td>\n",
              "    </tr>\n",
              "  </tbody>\n",
              "</table>\n",
              "</div>"
            ],
            "text/plain": [
              "    C\n",
              "0  10\n",
              "1  20\n",
              "2  30\n",
              "3  40"
            ]
          },
          "metadata": {
            "tags": []
          },
          "execution_count": 36
        }
      ]
    },
    {
      "cell_type": "markdown",
      "metadata": {
        "id": "VBqwI3m0y_oE"
      },
      "source": [
        "### Threshold"
      ]
    },
    {
      "cell_type": "code",
      "metadata": {
        "id": "8gTgH1VKy_oE",
        "outputId": "32da4d81-0dd0-4c49-a616-8fb1686ce94b"
      },
      "source": [
        "df.dropna(thresh=2)"
      ],
      "execution_count": null,
      "outputs": [
        {
          "output_type": "execute_result",
          "data": {
            "text/html": [
              "<div>\n",
              "<style scoped>\n",
              "    .dataframe tbody tr th:only-of-type {\n",
              "        vertical-align: middle;\n",
              "    }\n",
              "\n",
              "    .dataframe tbody tr th {\n",
              "        vertical-align: top;\n",
              "    }\n",
              "\n",
              "    .dataframe thead th {\n",
              "        text-align: right;\n",
              "    }\n",
              "</style>\n",
              "<table border=\"1\" class=\"dataframe\">\n",
              "  <thead>\n",
              "    <tr style=\"text-align: right;\">\n",
              "      <th></th>\n",
              "      <th>A</th>\n",
              "      <th>B</th>\n",
              "      <th>C</th>\n",
              "    </tr>\n",
              "  </thead>\n",
              "  <tbody>\n",
              "    <tr>\n",
              "      <th>0</th>\n",
              "      <td>1.0</td>\n",
              "      <td>5.0</td>\n",
              "      <td>10</td>\n",
              "    </tr>\n",
              "    <tr>\n",
              "      <th>1</th>\n",
              "      <td>2.0</td>\n",
              "      <td>NaN</td>\n",
              "      <td>20</td>\n",
              "    </tr>\n",
              "    <tr>\n",
              "      <th>3</th>\n",
              "      <td>4.0</td>\n",
              "      <td>8.0</td>\n",
              "      <td>40</td>\n",
              "    </tr>\n",
              "  </tbody>\n",
              "</table>\n",
              "</div>"
            ],
            "text/plain": [
              "     A    B   C\n",
              "0  1.0  5.0  10\n",
              "1  2.0  NaN  20\n",
              "3  4.0  8.0  40"
            ]
          },
          "metadata": {
            "tags": []
          },
          "execution_count": 37
        }
      ]
    },
    {
      "cell_type": "markdown",
      "metadata": {
        "id": "v26H5ys2y_oE"
      },
      "source": [
        "## 누락 데이터 채우기"
      ]
    },
    {
      "cell_type": "code",
      "metadata": {
        "id": "sBOqBOl2y_oE",
        "outputId": "af491b04-b7ee-4177-a57c-a5ddb6f76c38"
      },
      "source": [
        "df.fillna(value='FILL VALUE')"
      ],
      "execution_count": null,
      "outputs": [
        {
          "output_type": "execute_result",
          "data": {
            "text/html": [
              "<div>\n",
              "<style scoped>\n",
              "    .dataframe tbody tr th:only-of-type {\n",
              "        vertical-align: middle;\n",
              "    }\n",
              "\n",
              "    .dataframe tbody tr th {\n",
              "        vertical-align: top;\n",
              "    }\n",
              "\n",
              "    .dataframe thead th {\n",
              "        text-align: right;\n",
              "    }\n",
              "</style>\n",
              "<table border=\"1\" class=\"dataframe\">\n",
              "  <thead>\n",
              "    <tr style=\"text-align: right;\">\n",
              "      <th></th>\n",
              "      <th>A</th>\n",
              "      <th>B</th>\n",
              "      <th>C</th>\n",
              "    </tr>\n",
              "  </thead>\n",
              "  <tbody>\n",
              "    <tr>\n",
              "      <th>0</th>\n",
              "      <td>1</td>\n",
              "      <td>5</td>\n",
              "      <td>10</td>\n",
              "    </tr>\n",
              "    <tr>\n",
              "      <th>1</th>\n",
              "      <td>2</td>\n",
              "      <td>FILL VALUE</td>\n",
              "      <td>20</td>\n",
              "    </tr>\n",
              "    <tr>\n",
              "      <th>2</th>\n",
              "      <td>FILL VALUE</td>\n",
              "      <td>FILL VALUE</td>\n",
              "      <td>30</td>\n",
              "    </tr>\n",
              "    <tr>\n",
              "      <th>3</th>\n",
              "      <td>4</td>\n",
              "      <td>8</td>\n",
              "      <td>40</td>\n",
              "    </tr>\n",
              "  </tbody>\n",
              "</table>\n",
              "</div>"
            ],
            "text/plain": [
              "            A           B   C\n",
              "0           1           5  10\n",
              "1           2  FILL VALUE  20\n",
              "2  FILL VALUE  FILL VALUE  30\n",
              "3           4           8  40"
            ]
          },
          "metadata": {
            "tags": []
          },
          "execution_count": 38
        }
      ]
    },
    {
      "cell_type": "code",
      "metadata": {
        "id": "JsOseqF3y_oE",
        "outputId": "7f59c82a-c536-4d12-e292-9d0c25192bb7"
      },
      "source": [
        "df"
      ],
      "execution_count": null,
      "outputs": [
        {
          "output_type": "execute_result",
          "data": {
            "text/html": [
              "<div>\n",
              "<style scoped>\n",
              "    .dataframe tbody tr th:only-of-type {\n",
              "        vertical-align: middle;\n",
              "    }\n",
              "\n",
              "    .dataframe tbody tr th {\n",
              "        vertical-align: top;\n",
              "    }\n",
              "\n",
              "    .dataframe thead th {\n",
              "        text-align: right;\n",
              "    }\n",
              "</style>\n",
              "<table border=\"1\" class=\"dataframe\">\n",
              "  <thead>\n",
              "    <tr style=\"text-align: right;\">\n",
              "      <th></th>\n",
              "      <th>A</th>\n",
              "      <th>B</th>\n",
              "      <th>C</th>\n",
              "    </tr>\n",
              "  </thead>\n",
              "  <tbody>\n",
              "    <tr>\n",
              "      <th>0</th>\n",
              "      <td>1.0</td>\n",
              "      <td>5.0</td>\n",
              "      <td>10</td>\n",
              "    </tr>\n",
              "    <tr>\n",
              "      <th>1</th>\n",
              "      <td>2.0</td>\n",
              "      <td>NaN</td>\n",
              "      <td>20</td>\n",
              "    </tr>\n",
              "    <tr>\n",
              "      <th>2</th>\n",
              "      <td>NaN</td>\n",
              "      <td>NaN</td>\n",
              "      <td>30</td>\n",
              "    </tr>\n",
              "    <tr>\n",
              "      <th>3</th>\n",
              "      <td>4.0</td>\n",
              "      <td>8.0</td>\n",
              "      <td>40</td>\n",
              "    </tr>\n",
              "  </tbody>\n",
              "</table>\n",
              "</div>"
            ],
            "text/plain": [
              "     A    B   C\n",
              "0  1.0  5.0  10\n",
              "1  2.0  NaN  20\n",
              "2  NaN  NaN  30\n",
              "3  4.0  8.0  40"
            ]
          },
          "metadata": {
            "tags": []
          },
          "execution_count": 39
        }
      ]
    },
    {
      "cell_type": "code",
      "metadata": {
        "id": "5na_FwZZy_oE",
        "outputId": "e9f733f9-eb98-4c3e-c36f-e82b86f04391"
      },
      "source": [
        "df['A'].fillna(value=0)"
      ],
      "execution_count": null,
      "outputs": [
        {
          "output_type": "execute_result",
          "data": {
            "text/plain": [
              "0    1.0\n",
              "1    2.0\n",
              "2    0.0\n",
              "3    4.0\n",
              "Name: A, dtype: float64"
            ]
          },
          "metadata": {
            "tags": []
          },
          "execution_count": 40
        }
      ]
    },
    {
      "cell_type": "code",
      "metadata": {
        "id": "o1W0KJk_y_oE",
        "outputId": "59b40c0d-7355-4f66-c88e-93771ce9f979"
      },
      "source": [
        "df['A'].fillna(df['A'].mean())"
      ],
      "execution_count": null,
      "outputs": [
        {
          "output_type": "execute_result",
          "data": {
            "text/plain": [
              "0    1.000000\n",
              "1    2.000000\n",
              "2    2.333333\n",
              "3    4.000000\n",
              "Name: A, dtype: float64"
            ]
          },
          "metadata": {
            "tags": []
          },
          "execution_count": 41
        }
      ]
    },
    {
      "cell_type": "markdown",
      "metadata": {
        "id": "Bx7eRLvVy_oE"
      },
      "source": [
        "# 그룹별 집계"
      ]
    },
    {
      "cell_type": "code",
      "metadata": {
        "id": "MyIVzYTNy_oE"
      },
      "source": [
        "df = pd.read_csv('universities.csv')"
      ],
      "execution_count": null,
      "outputs": []
    },
    {
      "cell_type": "code",
      "metadata": {
        "id": "SXIyEP6iy_oE",
        "outputId": "fc584ac7-c16d-41fb-86d8-42296699b1e6"
      },
      "source": [
        "df.head()"
      ],
      "execution_count": null,
      "outputs": [
        {
          "output_type": "execute_result",
          "data": {
            "text/html": [
              "<div>\n",
              "<style scoped>\n",
              "    .dataframe tbody tr th:only-of-type {\n",
              "        vertical-align: middle;\n",
              "    }\n",
              "\n",
              "    .dataframe tbody tr th {\n",
              "        vertical-align: top;\n",
              "    }\n",
              "\n",
              "    .dataframe thead th {\n",
              "        text-align: right;\n",
              "    }\n",
              "</style>\n",
              "<table border=\"1\" class=\"dataframe\">\n",
              "  <thead>\n",
              "    <tr style=\"text-align: right;\">\n",
              "      <th></th>\n",
              "      <th>Sector</th>\n",
              "      <th>University</th>\n",
              "      <th>Year</th>\n",
              "      <th>Completions</th>\n",
              "      <th>Geography</th>\n",
              "    </tr>\n",
              "  </thead>\n",
              "  <tbody>\n",
              "    <tr>\n",
              "      <th>0</th>\n",
              "      <td>Private for-profit, 2-year</td>\n",
              "      <td>Pima Medical Institute-Las Vegas</td>\n",
              "      <td>2016</td>\n",
              "      <td>591</td>\n",
              "      <td>Nevada</td>\n",
              "    </tr>\n",
              "    <tr>\n",
              "      <th>1</th>\n",
              "      <td>Private for-profit, less-than 2-year</td>\n",
              "      <td>Healthcare Preparatory Institute</td>\n",
              "      <td>2016</td>\n",
              "      <td>28</td>\n",
              "      <td>Nevada</td>\n",
              "    </tr>\n",
              "    <tr>\n",
              "      <th>2</th>\n",
              "      <td>Private for-profit, less-than 2-year</td>\n",
              "      <td>Milan Institute-Las Vegas</td>\n",
              "      <td>2016</td>\n",
              "      <td>408</td>\n",
              "      <td>Nevada</td>\n",
              "    </tr>\n",
              "    <tr>\n",
              "      <th>3</th>\n",
              "      <td>Private for-profit, less-than 2-year</td>\n",
              "      <td>Utah College of Massage Therapy-Vegas</td>\n",
              "      <td>2016</td>\n",
              "      <td>240</td>\n",
              "      <td>Nevada</td>\n",
              "    </tr>\n",
              "    <tr>\n",
              "      <th>4</th>\n",
              "      <td>Public, 4-year or above</td>\n",
              "      <td>Western Nevada College</td>\n",
              "      <td>2016</td>\n",
              "      <td>960</td>\n",
              "      <td>Nevada</td>\n",
              "    </tr>\n",
              "  </tbody>\n",
              "</table>\n",
              "</div>"
            ],
            "text/plain": [
              "                                 Sector  \\\n",
              "0            Private for-profit, 2-year   \n",
              "1  Private for-profit, less-than 2-year   \n",
              "2  Private for-profit, less-than 2-year   \n",
              "3  Private for-profit, less-than 2-year   \n",
              "4               Public, 4-year or above   \n",
              "\n",
              "                              University  Year  Completions Geography  \n",
              "0       Pima Medical Institute-Las Vegas  2016          591    Nevada  \n",
              "1       Healthcare Preparatory Institute  2016           28    Nevada  \n",
              "2              Milan Institute-Las Vegas  2016          408    Nevada  \n",
              "3  Utah College of Massage Therapy-Vegas  2016          240    Nevada  \n",
              "4                 Western Nevada College  2016          960    Nevada  "
            ]
          },
          "metadata": {
            "tags": []
          },
          "execution_count": 46
        }
      ]
    },
    {
      "cell_type": "code",
      "metadata": {
        "id": "WXBDTQnPy_oE"
      },
      "source": [
        "a = df.groupby('Year')"
      ],
      "execution_count": null,
      "outputs": []
    },
    {
      "cell_type": "code",
      "metadata": {
        "id": "_7K8KbXQy_oE",
        "outputId": "f70472ef-145a-4a10-a95f-ccf6204bf9e1"
      },
      "source": [
        "df.groupby('Year').mean()"
      ],
      "execution_count": null,
      "outputs": [
        {
          "output_type": "execute_result",
          "data": {
            "text/html": [
              "<div>\n",
              "<style scoped>\n",
              "    .dataframe tbody tr th:only-of-type {\n",
              "        vertical-align: middle;\n",
              "    }\n",
              "\n",
              "    .dataframe tbody tr th {\n",
              "        vertical-align: top;\n",
              "    }\n",
              "\n",
              "    .dataframe thead th {\n",
              "        text-align: right;\n",
              "    }\n",
              "</style>\n",
              "<table border=\"1\" class=\"dataframe\">\n",
              "  <thead>\n",
              "    <tr style=\"text-align: right;\">\n",
              "      <th></th>\n",
              "      <th>Completions</th>\n",
              "    </tr>\n",
              "    <tr>\n",
              "      <th>Year</th>\n",
              "      <th></th>\n",
              "    </tr>\n",
              "  </thead>\n",
              "  <tbody>\n",
              "    <tr>\n",
              "      <th>2012</th>\n",
              "      <td>535.078947</td>\n",
              "    </tr>\n",
              "    <tr>\n",
              "      <th>2013</th>\n",
              "      <td>526.150000</td>\n",
              "    </tr>\n",
              "    <tr>\n",
              "      <th>2014</th>\n",
              "      <td>588.809524</td>\n",
              "    </tr>\n",
              "    <tr>\n",
              "      <th>2015</th>\n",
              "      <td>597.250000</td>\n",
              "    </tr>\n",
              "    <tr>\n",
              "      <th>2016</th>\n",
              "      <td>609.860465</td>\n",
              "    </tr>\n",
              "  </tbody>\n",
              "</table>\n",
              "</div>"
            ],
            "text/plain": [
              "      Completions\n",
              "Year             \n",
              "2012   535.078947\n",
              "2013   526.150000\n",
              "2014   588.809524\n",
              "2015   597.250000\n",
              "2016   609.860465"
            ]
          },
          "metadata": {
            "tags": []
          },
          "execution_count": 48
        }
      ]
    },
    {
      "cell_type": "code",
      "metadata": {
        "id": "Fd1zrTXIy_oE",
        "outputId": "0ced8366-7385-4ad6-b9cf-08f7818d39a1"
      },
      "source": [
        "df.groupby('Year').mean().sort_index(ascending=False)"
      ],
      "execution_count": null,
      "outputs": [
        {
          "output_type": "execute_result",
          "data": {
            "text/html": [
              "<div>\n",
              "<style scoped>\n",
              "    .dataframe tbody tr th:only-of-type {\n",
              "        vertical-align: middle;\n",
              "    }\n",
              "\n",
              "    .dataframe tbody tr th {\n",
              "        vertical-align: top;\n",
              "    }\n",
              "\n",
              "    .dataframe thead th {\n",
              "        text-align: right;\n",
              "    }\n",
              "</style>\n",
              "<table border=\"1\" class=\"dataframe\">\n",
              "  <thead>\n",
              "    <tr style=\"text-align: right;\">\n",
              "      <th></th>\n",
              "      <th>Completions</th>\n",
              "    </tr>\n",
              "    <tr>\n",
              "      <th>Year</th>\n",
              "      <th></th>\n",
              "    </tr>\n",
              "  </thead>\n",
              "  <tbody>\n",
              "    <tr>\n",
              "      <th>2016</th>\n",
              "      <td>609.860465</td>\n",
              "    </tr>\n",
              "    <tr>\n",
              "      <th>2015</th>\n",
              "      <td>597.250000</td>\n",
              "    </tr>\n",
              "    <tr>\n",
              "      <th>2014</th>\n",
              "      <td>588.809524</td>\n",
              "    </tr>\n",
              "    <tr>\n",
              "      <th>2013</th>\n",
              "      <td>526.150000</td>\n",
              "    </tr>\n",
              "    <tr>\n",
              "      <th>2012</th>\n",
              "      <td>535.078947</td>\n",
              "    </tr>\n",
              "  </tbody>\n",
              "</table>\n",
              "</div>"
            ],
            "text/plain": [
              "      Completions\n",
              "Year             \n",
              "2016   609.860465\n",
              "2015   597.250000\n",
              "2014   588.809524\n",
              "2013   526.150000\n",
              "2012   535.078947"
            ]
          },
          "metadata": {
            "tags": []
          },
          "execution_count": 49
        }
      ]
    },
    {
      "cell_type": "markdown",
      "metadata": {
        "id": "EXmfOj5Py_oE"
      },
      "source": [
        "## 여러 컬럼 집계하기"
      ]
    },
    {
      "cell_type": "code",
      "metadata": {
        "id": "7GelrikOy_oE",
        "outputId": "b88ffe5e-d6fc-42dd-81bb-92b8245f5783"
      },
      "source": [
        "df.head()"
      ],
      "execution_count": null,
      "outputs": [
        {
          "output_type": "execute_result",
          "data": {
            "text/html": [
              "<div>\n",
              "<style scoped>\n",
              "    .dataframe tbody tr th:only-of-type {\n",
              "        vertical-align: middle;\n",
              "    }\n",
              "\n",
              "    .dataframe tbody tr th {\n",
              "        vertical-align: top;\n",
              "    }\n",
              "\n",
              "    .dataframe thead th {\n",
              "        text-align: right;\n",
              "    }\n",
              "</style>\n",
              "<table border=\"1\" class=\"dataframe\">\n",
              "  <thead>\n",
              "    <tr style=\"text-align: right;\">\n",
              "      <th></th>\n",
              "      <th>Sector</th>\n",
              "      <th>University</th>\n",
              "      <th>Year</th>\n",
              "      <th>Completions</th>\n",
              "      <th>Geography</th>\n",
              "    </tr>\n",
              "  </thead>\n",
              "  <tbody>\n",
              "    <tr>\n",
              "      <th>0</th>\n",
              "      <td>Private for-profit, 2-year</td>\n",
              "      <td>Pima Medical Institute-Las Vegas</td>\n",
              "      <td>2016</td>\n",
              "      <td>591</td>\n",
              "      <td>Nevada</td>\n",
              "    </tr>\n",
              "    <tr>\n",
              "      <th>1</th>\n",
              "      <td>Private for-profit, less-than 2-year</td>\n",
              "      <td>Healthcare Preparatory Institute</td>\n",
              "      <td>2016</td>\n",
              "      <td>28</td>\n",
              "      <td>Nevada</td>\n",
              "    </tr>\n",
              "    <tr>\n",
              "      <th>2</th>\n",
              "      <td>Private for-profit, less-than 2-year</td>\n",
              "      <td>Milan Institute-Las Vegas</td>\n",
              "      <td>2016</td>\n",
              "      <td>408</td>\n",
              "      <td>Nevada</td>\n",
              "    </tr>\n",
              "    <tr>\n",
              "      <th>3</th>\n",
              "      <td>Private for-profit, less-than 2-year</td>\n",
              "      <td>Utah College of Massage Therapy-Vegas</td>\n",
              "      <td>2016</td>\n",
              "      <td>240</td>\n",
              "      <td>Nevada</td>\n",
              "    </tr>\n",
              "    <tr>\n",
              "      <th>4</th>\n",
              "      <td>Public, 4-year or above</td>\n",
              "      <td>Western Nevada College</td>\n",
              "      <td>2016</td>\n",
              "      <td>960</td>\n",
              "      <td>Nevada</td>\n",
              "    </tr>\n",
              "  </tbody>\n",
              "</table>\n",
              "</div>"
            ],
            "text/plain": [
              "                                 Sector  \\\n",
              "0            Private for-profit, 2-year   \n",
              "1  Private for-profit, less-than 2-year   \n",
              "2  Private for-profit, less-than 2-year   \n",
              "3  Private for-profit, less-than 2-year   \n",
              "4               Public, 4-year or above   \n",
              "\n",
              "                              University  Year  Completions Geography  \n",
              "0       Pima Medical Institute-Las Vegas  2016          591    Nevada  \n",
              "1       Healthcare Preparatory Institute  2016           28    Nevada  \n",
              "2              Milan Institute-Las Vegas  2016          408    Nevada  \n",
              "3  Utah College of Massage Therapy-Vegas  2016          240    Nevada  \n",
              "4                 Western Nevada College  2016          960    Nevada  "
            ]
          },
          "metadata": {
            "tags": []
          },
          "execution_count": 50
        }
      ]
    },
    {
      "cell_type": "code",
      "metadata": {
        "id": "CYX8wIisy_oE",
        "outputId": "f8164f0c-d35e-4464-c083-542fdbbf07fc"
      },
      "source": [
        "df.groupby(['Year','Sector']).mean()"
      ],
      "execution_count": null,
      "outputs": [
        {
          "output_type": "execute_result",
          "data": {
            "text/html": [
              "<div>\n",
              "<style scoped>\n",
              "    .dataframe tbody tr th:only-of-type {\n",
              "        vertical-align: middle;\n",
              "    }\n",
              "\n",
              "    .dataframe tbody tr th {\n",
              "        vertical-align: top;\n",
              "    }\n",
              "\n",
              "    .dataframe thead th {\n",
              "        text-align: right;\n",
              "    }\n",
              "</style>\n",
              "<table border=\"1\" class=\"dataframe\">\n",
              "  <thead>\n",
              "    <tr style=\"text-align: right;\">\n",
              "      <th></th>\n",
              "      <th></th>\n",
              "      <th>Completions</th>\n",
              "    </tr>\n",
              "    <tr>\n",
              "      <th>Year</th>\n",
              "      <th>Sector</th>\n",
              "      <th></th>\n",
              "    </tr>\n",
              "  </thead>\n",
              "  <tbody>\n",
              "    <tr>\n",
              "      <th rowspan=\"7\" valign=\"top\">2012</th>\n",
              "      <th>Private for-profit, 2-year</th>\n",
              "      <td>204.800000</td>\n",
              "    </tr>\n",
              "    <tr>\n",
              "      <th>Private for-profit, 4-year or above</th>\n",
              "      <td>158.000000</td>\n",
              "    </tr>\n",
              "    <tr>\n",
              "      <th>Private for-profit, less-than 2-year</th>\n",
              "      <td>189.571429</td>\n",
              "    </tr>\n",
              "    <tr>\n",
              "      <th>Private not-for-profit, 2-year</th>\n",
              "      <td>332.500000</td>\n",
              "    </tr>\n",
              "    <tr>\n",
              "      <th>Private not-for-profit, 4-year or above</th>\n",
              "      <td>353.000000</td>\n",
              "    </tr>\n",
              "    <tr>\n",
              "      <th>Public, 2-year</th>\n",
              "      <td>1170.000000</td>\n",
              "    </tr>\n",
              "    <tr>\n",
              "      <th>Public, 4-year or above</th>\n",
              "      <td>2068.000000</td>\n",
              "    </tr>\n",
              "    <tr>\n",
              "      <th rowspan=\"7\" valign=\"top\">2013</th>\n",
              "      <th>Private for-profit, 2-year</th>\n",
              "      <td>190.812500</td>\n",
              "    </tr>\n",
              "    <tr>\n",
              "      <th>Private for-profit, 4-year or above</th>\n",
              "      <td>155.000000</td>\n",
              "    </tr>\n",
              "    <tr>\n",
              "      <th>Private for-profit, less-than 2-year</th>\n",
              "      <td>183.000000</td>\n",
              "    </tr>\n",
              "    <tr>\n",
              "      <th>Private not-for-profit, 2-year</th>\n",
              "      <td>235.500000</td>\n",
              "    </tr>\n",
              "    <tr>\n",
              "      <th>Private not-for-profit, 4-year or above</th>\n",
              "      <td>338.666667</td>\n",
              "    </tr>\n",
              "    <tr>\n",
              "      <th>Public, 2-year</th>\n",
              "      <td>1633.000000</td>\n",
              "    </tr>\n",
              "    <tr>\n",
              "      <th>Public, 4-year or above</th>\n",
              "      <td>2136.166667</td>\n",
              "    </tr>\n",
              "    <tr>\n",
              "      <th rowspan=\"7\" valign=\"top\">2014</th>\n",
              "      <th>Private for-profit, 2-year</th>\n",
              "      <td>184.812500</td>\n",
              "    </tr>\n",
              "    <tr>\n",
              "      <th>Private for-profit, 4-year or above</th>\n",
              "      <td>251.000000</td>\n",
              "    </tr>\n",
              "    <tr>\n",
              "      <th>Private for-profit, less-than 2-year</th>\n",
              "      <td>166.000000</td>\n",
              "    </tr>\n",
              "    <tr>\n",
              "      <th>Private not-for-profit, 2-year</th>\n",
              "      <td>224.500000</td>\n",
              "    </tr>\n",
              "    <tr>\n",
              "      <th>Private not-for-profit, 4-year or above</th>\n",
              "      <td>347.333333</td>\n",
              "    </tr>\n",
              "    <tr>\n",
              "      <th>Public, 2-year</th>\n",
              "      <td>2286.000000</td>\n",
              "    </tr>\n",
              "    <tr>\n",
              "      <th>Public, 4-year or above</th>\n",
              "      <td>2527.000000</td>\n",
              "    </tr>\n",
              "    <tr>\n",
              "      <th rowspan=\"7\" valign=\"top\">2015</th>\n",
              "      <th>Private for-profit, 2-year</th>\n",
              "      <td>205.000000</td>\n",
              "    </tr>\n",
              "    <tr>\n",
              "      <th>Private for-profit, 4-year or above</th>\n",
              "      <td>163.250000</td>\n",
              "    </tr>\n",
              "    <tr>\n",
              "      <th>Private for-profit, less-than 2-year</th>\n",
              "      <td>203.625000</td>\n",
              "    </tr>\n",
              "    <tr>\n",
              "      <th>Private not-for-profit, 2-year</th>\n",
              "      <td>212.500000</td>\n",
              "    </tr>\n",
              "    <tr>\n",
              "      <th>Private not-for-profit, 4-year or above</th>\n",
              "      <td>409.333333</td>\n",
              "    </tr>\n",
              "    <tr>\n",
              "      <th>Public, 2-year</th>\n",
              "      <td>2355.000000</td>\n",
              "    </tr>\n",
              "    <tr>\n",
              "      <th>Public, 4-year or above</th>\n",
              "      <td>2676.000000</td>\n",
              "    </tr>\n",
              "    <tr>\n",
              "      <th rowspan=\"7\" valign=\"top\">2016</th>\n",
              "      <th>Private for-profit, 2-year</th>\n",
              "      <td>205.375000</td>\n",
              "    </tr>\n",
              "    <tr>\n",
              "      <th>Private for-profit, 4-year or above</th>\n",
              "      <td>124.666667</td>\n",
              "    </tr>\n",
              "    <tr>\n",
              "      <th>Private for-profit, less-than 2-year</th>\n",
              "      <td>194.000000</td>\n",
              "    </tr>\n",
              "    <tr>\n",
              "      <th>Private not-for-profit, 2-year</th>\n",
              "      <td>161.000000</td>\n",
              "    </tr>\n",
              "    <tr>\n",
              "      <th>Private not-for-profit, 4-year or above</th>\n",
              "      <td>302.000000</td>\n",
              "    </tr>\n",
              "    <tr>\n",
              "      <th>Public, 2-year</th>\n",
              "      <td>2431.000000</td>\n",
              "    </tr>\n",
              "    <tr>\n",
              "      <th>Public, 4-year or above</th>\n",
              "      <td>2779.500000</td>\n",
              "    </tr>\n",
              "  </tbody>\n",
              "</table>\n",
              "</div>"
            ],
            "text/plain": [
              "                                              Completions\n",
              "Year Sector                                              \n",
              "2012 Private for-profit, 2-year                204.800000\n",
              "     Private for-profit, 4-year or above       158.000000\n",
              "     Private for-profit, less-than 2-year      189.571429\n",
              "     Private not-for-profit, 2-year            332.500000\n",
              "     Private not-for-profit, 4-year or above   353.000000\n",
              "     Public, 2-year                           1170.000000\n",
              "     Public, 4-year or above                  2068.000000\n",
              "2013 Private for-profit, 2-year                190.812500\n",
              "     Private for-profit, 4-year or above       155.000000\n",
              "     Private for-profit, less-than 2-year      183.000000\n",
              "     Private not-for-profit, 2-year            235.500000\n",
              "     Private not-for-profit, 4-year or above   338.666667\n",
              "     Public, 2-year                           1633.000000\n",
              "     Public, 4-year or above                  2136.166667\n",
              "2014 Private for-profit, 2-year                184.812500\n",
              "     Private for-profit, 4-year or above       251.000000\n",
              "     Private for-profit, less-than 2-year      166.000000\n",
              "     Private not-for-profit, 2-year            224.500000\n",
              "     Private not-for-profit, 4-year or above   347.333333\n",
              "     Public, 2-year                           2286.000000\n",
              "     Public, 4-year or above                  2527.000000\n",
              "2015 Private for-profit, 2-year                205.000000\n",
              "     Private for-profit, 4-year or above       163.250000\n",
              "     Private for-profit, less-than 2-year      203.625000\n",
              "     Private not-for-profit, 2-year            212.500000\n",
              "     Private not-for-profit, 4-year or above   409.333333\n",
              "     Public, 2-year                           2355.000000\n",
              "     Public, 4-year or above                  2676.000000\n",
              "2016 Private for-profit, 2-year                205.375000\n",
              "     Private for-profit, 4-year or above       124.666667\n",
              "     Private for-profit, less-than 2-year      194.000000\n",
              "     Private not-for-profit, 2-year            161.000000\n",
              "     Private not-for-profit, 4-year or above   302.000000\n",
              "     Public, 2-year                           2431.000000\n",
              "     Public, 4-year or above                  2779.500000"
            ]
          },
          "metadata": {
            "tags": []
          },
          "execution_count": 51
        }
      ]
    },
    {
      "cell_type": "code",
      "metadata": {
        "id": "RUeMy_i4y_oE",
        "outputId": "f6a849f7-d1a9-466f-e2ca-5e8fb4875d4d"
      },
      "source": [
        "df.groupby('Year').describe()"
      ],
      "execution_count": null,
      "outputs": [
        {
          "output_type": "execute_result",
          "data": {
            "text/html": [
              "<div>\n",
              "<style scoped>\n",
              "    .dataframe tbody tr th:only-of-type {\n",
              "        vertical-align: middle;\n",
              "    }\n",
              "\n",
              "    .dataframe tbody tr th {\n",
              "        vertical-align: top;\n",
              "    }\n",
              "\n",
              "    .dataframe thead tr th {\n",
              "        text-align: left;\n",
              "    }\n",
              "\n",
              "    .dataframe thead tr:last-of-type th {\n",
              "        text-align: right;\n",
              "    }\n",
              "</style>\n",
              "<table border=\"1\" class=\"dataframe\">\n",
              "  <thead>\n",
              "    <tr>\n",
              "      <th></th>\n",
              "      <th colspan=\"8\" halign=\"left\">Completions</th>\n",
              "    </tr>\n",
              "    <tr>\n",
              "      <th></th>\n",
              "      <th>count</th>\n",
              "      <th>mean</th>\n",
              "      <th>std</th>\n",
              "      <th>min</th>\n",
              "      <th>25%</th>\n",
              "      <th>50%</th>\n",
              "      <th>75%</th>\n",
              "      <th>max</th>\n",
              "    </tr>\n",
              "    <tr>\n",
              "      <th>Year</th>\n",
              "      <th></th>\n",
              "      <th></th>\n",
              "      <th></th>\n",
              "      <th></th>\n",
              "      <th></th>\n",
              "      <th></th>\n",
              "      <th></th>\n",
              "      <th></th>\n",
              "    </tr>\n",
              "  </thead>\n",
              "  <tbody>\n",
              "    <tr>\n",
              "      <th>2012</th>\n",
              "      <td>38.0</td>\n",
              "      <td>535.078947</td>\n",
              "      <td>1036.433239</td>\n",
              "      <td>13.0</td>\n",
              "      <td>114.25</td>\n",
              "      <td>229.5</td>\n",
              "      <td>420.50</td>\n",
              "      <td>5388.0</td>\n",
              "    </tr>\n",
              "    <tr>\n",
              "      <th>2013</th>\n",
              "      <td>40.0</td>\n",
              "      <td>526.150000</td>\n",
              "      <td>1040.474782</td>\n",
              "      <td>0.0</td>\n",
              "      <td>98.50</td>\n",
              "      <td>189.0</td>\n",
              "      <td>413.00</td>\n",
              "      <td>5278.0</td>\n",
              "    </tr>\n",
              "    <tr>\n",
              "      <th>2014</th>\n",
              "      <td>42.0</td>\n",
              "      <td>588.809524</td>\n",
              "      <td>1150.355857</td>\n",
              "      <td>0.0</td>\n",
              "      <td>104.50</td>\n",
              "      <td>203.5</td>\n",
              "      <td>371.75</td>\n",
              "      <td>5093.0</td>\n",
              "    </tr>\n",
              "    <tr>\n",
              "      <th>2015</th>\n",
              "      <td>44.0</td>\n",
              "      <td>597.250000</td>\n",
              "      <td>1183.371791</td>\n",
              "      <td>0.0</td>\n",
              "      <td>87.75</td>\n",
              "      <td>191.0</td>\n",
              "      <td>405.75</td>\n",
              "      <td>5335.0</td>\n",
              "    </tr>\n",
              "    <tr>\n",
              "      <th>2016</th>\n",
              "      <td>43.0</td>\n",
              "      <td>609.860465</td>\n",
              "      <td>1235.952796</td>\n",
              "      <td>0.0</td>\n",
              "      <td>90.00</td>\n",
              "      <td>208.0</td>\n",
              "      <td>414.00</td>\n",
              "      <td>5367.0</td>\n",
              "    </tr>\n",
              "  </tbody>\n",
              "</table>\n",
              "</div>"
            ],
            "text/plain": [
              "     Completions                                                              \n",
              "           count        mean          std   min     25%    50%     75%     max\n",
              "Year                                                                          \n",
              "2012        38.0  535.078947  1036.433239  13.0  114.25  229.5  420.50  5388.0\n",
              "2013        40.0  526.150000  1040.474782   0.0   98.50  189.0  413.00  5278.0\n",
              "2014        42.0  588.809524  1150.355857   0.0  104.50  203.5  371.75  5093.0\n",
              "2015        44.0  597.250000  1183.371791   0.0   87.75  191.0  405.75  5335.0\n",
              "2016        43.0  609.860465  1235.952796   0.0   90.00  208.0  414.00  5367.0"
            ]
          },
          "metadata": {
            "tags": []
          },
          "execution_count": 52
        }
      ]
    },
    {
      "cell_type": "code",
      "metadata": {
        "id": "ztbBiKMCy_oE",
        "outputId": "182bccb8-7224-40ed-ebe8-081eaaa78c15"
      },
      "source": [
        "df.groupby('Year').describe().transpose()"
      ],
      "execution_count": null,
      "outputs": [
        {
          "output_type": "execute_result",
          "data": {
            "text/html": [
              "<div>\n",
              "<style scoped>\n",
              "    .dataframe tbody tr th:only-of-type {\n",
              "        vertical-align: middle;\n",
              "    }\n",
              "\n",
              "    .dataframe tbody tr th {\n",
              "        vertical-align: top;\n",
              "    }\n",
              "\n",
              "    .dataframe thead th {\n",
              "        text-align: right;\n",
              "    }\n",
              "</style>\n",
              "<table border=\"1\" class=\"dataframe\">\n",
              "  <thead>\n",
              "    <tr style=\"text-align: right;\">\n",
              "      <th></th>\n",
              "      <th>Year</th>\n",
              "      <th>2012</th>\n",
              "      <th>2013</th>\n",
              "      <th>2014</th>\n",
              "      <th>2015</th>\n",
              "      <th>2016</th>\n",
              "    </tr>\n",
              "  </thead>\n",
              "  <tbody>\n",
              "    <tr>\n",
              "      <th rowspan=\"8\" valign=\"top\">Completions</th>\n",
              "      <th>count</th>\n",
              "      <td>38.000000</td>\n",
              "      <td>40.000000</td>\n",
              "      <td>42.000000</td>\n",
              "      <td>44.000000</td>\n",
              "      <td>43.000000</td>\n",
              "    </tr>\n",
              "    <tr>\n",
              "      <th>mean</th>\n",
              "      <td>535.078947</td>\n",
              "      <td>526.150000</td>\n",
              "      <td>588.809524</td>\n",
              "      <td>597.250000</td>\n",
              "      <td>609.860465</td>\n",
              "    </tr>\n",
              "    <tr>\n",
              "      <th>std</th>\n",
              "      <td>1036.433239</td>\n",
              "      <td>1040.474782</td>\n",
              "      <td>1150.355857</td>\n",
              "      <td>1183.371791</td>\n",
              "      <td>1235.952796</td>\n",
              "    </tr>\n",
              "    <tr>\n",
              "      <th>min</th>\n",
              "      <td>13.000000</td>\n",
              "      <td>0.000000</td>\n",
              "      <td>0.000000</td>\n",
              "      <td>0.000000</td>\n",
              "      <td>0.000000</td>\n",
              "    </tr>\n",
              "    <tr>\n",
              "      <th>25%</th>\n",
              "      <td>114.250000</td>\n",
              "      <td>98.500000</td>\n",
              "      <td>104.500000</td>\n",
              "      <td>87.750000</td>\n",
              "      <td>90.000000</td>\n",
              "    </tr>\n",
              "    <tr>\n",
              "      <th>50%</th>\n",
              "      <td>229.500000</td>\n",
              "      <td>189.000000</td>\n",
              "      <td>203.500000</td>\n",
              "      <td>191.000000</td>\n",
              "      <td>208.000000</td>\n",
              "    </tr>\n",
              "    <tr>\n",
              "      <th>75%</th>\n",
              "      <td>420.500000</td>\n",
              "      <td>413.000000</td>\n",
              "      <td>371.750000</td>\n",
              "      <td>405.750000</td>\n",
              "      <td>414.000000</td>\n",
              "    </tr>\n",
              "    <tr>\n",
              "      <th>max</th>\n",
              "      <td>5388.000000</td>\n",
              "      <td>5278.000000</td>\n",
              "      <td>5093.000000</td>\n",
              "      <td>5335.000000</td>\n",
              "      <td>5367.000000</td>\n",
              "    </tr>\n",
              "  </tbody>\n",
              "</table>\n",
              "</div>"
            ],
            "text/plain": [
              "Year                      2012         2013         2014         2015  \\\n",
              "Completions count    38.000000    40.000000    42.000000    44.000000   \n",
              "            mean    535.078947   526.150000   588.809524   597.250000   \n",
              "            std    1036.433239  1040.474782  1150.355857  1183.371791   \n",
              "            min      13.000000     0.000000     0.000000     0.000000   \n",
              "            25%     114.250000    98.500000   104.500000    87.750000   \n",
              "            50%     229.500000   189.000000   203.500000   191.000000   \n",
              "            75%     420.500000   413.000000   371.750000   405.750000   \n",
              "            max    5388.000000  5278.000000  5093.000000  5335.000000   \n",
              "\n",
              "Year                      2016  \n",
              "Completions count    43.000000  \n",
              "            mean    609.860465  \n",
              "            std    1235.952796  \n",
              "            min       0.000000  \n",
              "            25%      90.000000  \n",
              "            50%     208.000000  \n",
              "            75%     414.000000  \n",
              "            max    5367.000000  "
            ]
          },
          "metadata": {
            "tags": []
          },
          "execution_count": 53
        }
      ]
    },
    {
      "cell_type": "markdown",
      "metadata": {
        "id": "f8LXBac6y_oF"
      },
      "source": [
        "# 연산"
      ]
    },
    {
      "cell_type": "code",
      "metadata": {
        "id": "GugWw8dAy_oF"
      },
      "source": [
        "df_one = pd.DataFrame({'k1':['A','A','B','B','C','C'],\n",
        "                      'col1':[100,200,300,300,400,500],\n",
        "                      'col2':['NY','CA','WA','WA','AK','NV']})"
      ],
      "execution_count": null,
      "outputs": []
    },
    {
      "cell_type": "code",
      "metadata": {
        "id": "r-twm2mjy_oF",
        "outputId": "a754581f-c6fc-4c22-e350-c520c70653df"
      },
      "source": [
        "df_one"
      ],
      "execution_count": null,
      "outputs": [
        {
          "output_type": "execute_result",
          "data": {
            "text/html": [
              "<div>\n",
              "<style scoped>\n",
              "    .dataframe tbody tr th:only-of-type {\n",
              "        vertical-align: middle;\n",
              "    }\n",
              "\n",
              "    .dataframe tbody tr th {\n",
              "        vertical-align: top;\n",
              "    }\n",
              "\n",
              "    .dataframe thead th {\n",
              "        text-align: right;\n",
              "    }\n",
              "</style>\n",
              "<table border=\"1\" class=\"dataframe\">\n",
              "  <thead>\n",
              "    <tr style=\"text-align: right;\">\n",
              "      <th></th>\n",
              "      <th>k1</th>\n",
              "      <th>col1</th>\n",
              "      <th>col2</th>\n",
              "    </tr>\n",
              "  </thead>\n",
              "  <tbody>\n",
              "    <tr>\n",
              "      <th>0</th>\n",
              "      <td>A</td>\n",
              "      <td>100</td>\n",
              "      <td>NY</td>\n",
              "    </tr>\n",
              "    <tr>\n",
              "      <th>1</th>\n",
              "      <td>A</td>\n",
              "      <td>200</td>\n",
              "      <td>CA</td>\n",
              "    </tr>\n",
              "    <tr>\n",
              "      <th>2</th>\n",
              "      <td>B</td>\n",
              "      <td>300</td>\n",
              "      <td>WA</td>\n",
              "    </tr>\n",
              "    <tr>\n",
              "      <th>3</th>\n",
              "      <td>B</td>\n",
              "      <td>300</td>\n",
              "      <td>WA</td>\n",
              "    </tr>\n",
              "    <tr>\n",
              "      <th>4</th>\n",
              "      <td>C</td>\n",
              "      <td>400</td>\n",
              "      <td>AK</td>\n",
              "    </tr>\n",
              "    <tr>\n",
              "      <th>5</th>\n",
              "      <td>C</td>\n",
              "      <td>500</td>\n",
              "      <td>NV</td>\n",
              "    </tr>\n",
              "  </tbody>\n",
              "</table>\n",
              "</div>"
            ],
            "text/plain": [
              "  k1  col1 col2\n",
              "0  A   100   NY\n",
              "1  A   200   CA\n",
              "2  B   300   WA\n",
              "3  B   300   WA\n",
              "4  C   400   AK\n",
              "5  C   500   NV"
            ]
          },
          "metadata": {
            "tags": []
          },
          "execution_count": 55
        }
      ]
    },
    {
      "cell_type": "markdown",
      "metadata": {
        "id": "RRgBPzyly_oF"
      },
      "source": [
        "### 유일한 데이터 보기"
      ]
    },
    {
      "cell_type": "code",
      "metadata": {
        "id": "J-j67cRpy_oF",
        "outputId": "7c8211d5-6e24-4c24-c3e1-3da7e7b9c1a6"
      },
      "source": [
        "df_one['col2'].unique()"
      ],
      "execution_count": null,
      "outputs": [
        {
          "output_type": "execute_result",
          "data": {
            "text/plain": [
              "array(['NY', 'CA', 'WA', 'AK', 'NV'], dtype=object)"
            ]
          },
          "metadata": {
            "tags": []
          },
          "execution_count": 56
        }
      ]
    },
    {
      "cell_type": "code",
      "metadata": {
        "id": "DB3WRi7_y_oF",
        "outputId": "e72e962f-f578-4c71-b5f1-76570518b867"
      },
      "source": [
        "df_one['col2'].nunique()"
      ],
      "execution_count": null,
      "outputs": [
        {
          "output_type": "execute_result",
          "data": {
            "text/plain": [
              "5"
            ]
          },
          "metadata": {
            "tags": []
          },
          "execution_count": 57
        }
      ]
    },
    {
      "cell_type": "code",
      "metadata": {
        "id": "B_sFVy9Ay_oF",
        "outputId": "bdf8efaa-8492-460c-f2ed-30e4df5b4017"
      },
      "source": [
        "df_one['col2'].value_counts()"
      ],
      "execution_count": null,
      "outputs": [
        {
          "output_type": "execute_result",
          "data": {
            "text/plain": [
              "WA    2\n",
              "CA    1\n",
              "NV    1\n",
              "AK    1\n",
              "NY    1\n",
              "Name: col2, dtype: int64"
            ]
          },
          "metadata": {
            "tags": []
          },
          "execution_count": 58
        }
      ]
    },
    {
      "cell_type": "code",
      "metadata": {
        "id": "BfXg2hbZy_oH",
        "outputId": "e73bfb8c-f68a-4771-e2d7-9eae5c511071"
      },
      "source": [
        "df_one"
      ],
      "execution_count": null,
      "outputs": [
        {
          "output_type": "execute_result",
          "data": {
            "text/html": [
              "<div>\n",
              "<style scoped>\n",
              "    .dataframe tbody tr th:only-of-type {\n",
              "        vertical-align: middle;\n",
              "    }\n",
              "\n",
              "    .dataframe tbody tr th {\n",
              "        vertical-align: top;\n",
              "    }\n",
              "\n",
              "    .dataframe thead th {\n",
              "        text-align: right;\n",
              "    }\n",
              "</style>\n",
              "<table border=\"1\" class=\"dataframe\">\n",
              "  <thead>\n",
              "    <tr style=\"text-align: right;\">\n",
              "      <th></th>\n",
              "      <th>k1</th>\n",
              "      <th>col1</th>\n",
              "      <th>col2</th>\n",
              "    </tr>\n",
              "  </thead>\n",
              "  <tbody>\n",
              "    <tr>\n",
              "      <th>0</th>\n",
              "      <td>A</td>\n",
              "      <td>100</td>\n",
              "      <td>NY</td>\n",
              "    </tr>\n",
              "    <tr>\n",
              "      <th>1</th>\n",
              "      <td>A</td>\n",
              "      <td>200</td>\n",
              "      <td>CA</td>\n",
              "    </tr>\n",
              "    <tr>\n",
              "      <th>2</th>\n",
              "      <td>B</td>\n",
              "      <td>300</td>\n",
              "      <td>WA</td>\n",
              "    </tr>\n",
              "    <tr>\n",
              "      <th>3</th>\n",
              "      <td>B</td>\n",
              "      <td>300</td>\n",
              "      <td>WA</td>\n",
              "    </tr>\n",
              "    <tr>\n",
              "      <th>4</th>\n",
              "      <td>C</td>\n",
              "      <td>400</td>\n",
              "      <td>AK</td>\n",
              "    </tr>\n",
              "    <tr>\n",
              "      <th>5</th>\n",
              "      <td>C</td>\n",
              "      <td>500</td>\n",
              "      <td>NV</td>\n",
              "    </tr>\n",
              "  </tbody>\n",
              "</table>\n",
              "</div>"
            ],
            "text/plain": [
              "  k1  col1 col2\n",
              "0  A   100   NY\n",
              "1  A   200   CA\n",
              "2  B   300   WA\n",
              "3  B   300   WA\n",
              "4  C   400   AK\n",
              "5  C   500   NV"
            ]
          },
          "metadata": {
            "tags": []
          },
          "execution_count": 59
        }
      ]
    },
    {
      "cell_type": "code",
      "metadata": {
        "id": "jFaz5p9Qy_oH",
        "outputId": "337d580a-d1da-4b5b-d34c-fe9764286e9d"
      },
      "source": [
        "df_one.drop_duplicates()"
      ],
      "execution_count": null,
      "outputs": [
        {
          "output_type": "execute_result",
          "data": {
            "text/html": [
              "<div>\n",
              "<style scoped>\n",
              "    .dataframe tbody tr th:only-of-type {\n",
              "        vertical-align: middle;\n",
              "    }\n",
              "\n",
              "    .dataframe tbody tr th {\n",
              "        vertical-align: top;\n",
              "    }\n",
              "\n",
              "    .dataframe thead th {\n",
              "        text-align: right;\n",
              "    }\n",
              "</style>\n",
              "<table border=\"1\" class=\"dataframe\">\n",
              "  <thead>\n",
              "    <tr style=\"text-align: right;\">\n",
              "      <th></th>\n",
              "      <th>k1</th>\n",
              "      <th>col1</th>\n",
              "      <th>col2</th>\n",
              "    </tr>\n",
              "  </thead>\n",
              "  <tbody>\n",
              "    <tr>\n",
              "      <th>0</th>\n",
              "      <td>A</td>\n",
              "      <td>100</td>\n",
              "      <td>NY</td>\n",
              "    </tr>\n",
              "    <tr>\n",
              "      <th>1</th>\n",
              "      <td>A</td>\n",
              "      <td>200</td>\n",
              "      <td>CA</td>\n",
              "    </tr>\n",
              "    <tr>\n",
              "      <th>2</th>\n",
              "      <td>B</td>\n",
              "      <td>300</td>\n",
              "      <td>WA</td>\n",
              "    </tr>\n",
              "    <tr>\n",
              "      <th>4</th>\n",
              "      <td>C</td>\n",
              "      <td>400</td>\n",
              "      <td>AK</td>\n",
              "    </tr>\n",
              "    <tr>\n",
              "      <th>5</th>\n",
              "      <td>C</td>\n",
              "      <td>500</td>\n",
              "      <td>NV</td>\n",
              "    </tr>\n",
              "  </tbody>\n",
              "</table>\n",
              "</div>"
            ],
            "text/plain": [
              "  k1  col1 col2\n",
              "0  A   100   NY\n",
              "1  A   200   CA\n",
              "2  B   300   WA\n",
              "4  C   400   AK\n",
              "5  C   500   NV"
            ]
          },
          "metadata": {
            "tags": []
          },
          "execution_count": 60
        }
      ]
    },
    {
      "cell_type": "markdown",
      "metadata": {
        "id": "EePFy93Oy_oH"
      },
      "source": [
        "### 컬럼 이름과 인덱스 이름 보기"
      ]
    },
    {
      "cell_type": "code",
      "metadata": {
        "id": "HS1D6vBCy_oH",
        "outputId": "7328408a-9f4e-4838-d4c9-18e3438ec6be"
      },
      "source": [
        "df_one.columns"
      ],
      "execution_count": null,
      "outputs": [
        {
          "output_type": "execute_result",
          "data": {
            "text/plain": [
              "Index(['k1', 'col1', 'col2'], dtype='object')"
            ]
          },
          "metadata": {
            "tags": []
          },
          "execution_count": 61
        }
      ]
    },
    {
      "cell_type": "code",
      "metadata": {
        "id": "Qir3Owb2y_oH",
        "outputId": "806ce2fe-1f00-4298-bd29-d491d73a3b77"
      },
      "source": [
        "df_one.index"
      ],
      "execution_count": null,
      "outputs": [
        {
          "output_type": "execute_result",
          "data": {
            "text/plain": [
              "RangeIndex(start=0, stop=6, step=1)"
            ]
          },
          "metadata": {
            "tags": []
          },
          "execution_count": 62
        }
      ]
    },
    {
      "cell_type": "code",
      "metadata": {
        "id": "xDIQukaoy_oH"
      },
      "source": [
        "df_one.columns = ['C1','C2','C3']"
      ],
      "execution_count": null,
      "outputs": []
    },
    {
      "cell_type": "code",
      "metadata": {
        "id": "879huhKvy_oH",
        "outputId": "095723e3-3e30-49ca-a42f-d2e35e59f7a2"
      },
      "source": [
        "df_one"
      ],
      "execution_count": null,
      "outputs": [
        {
          "output_type": "execute_result",
          "data": {
            "text/html": [
              "<div>\n",
              "<style scoped>\n",
              "    .dataframe tbody tr th:only-of-type {\n",
              "        vertical-align: middle;\n",
              "    }\n",
              "\n",
              "    .dataframe tbody tr th {\n",
              "        vertical-align: top;\n",
              "    }\n",
              "\n",
              "    .dataframe thead th {\n",
              "        text-align: right;\n",
              "    }\n",
              "</style>\n",
              "<table border=\"1\" class=\"dataframe\">\n",
              "  <thead>\n",
              "    <tr style=\"text-align: right;\">\n",
              "      <th></th>\n",
              "      <th>C1</th>\n",
              "      <th>C2</th>\n",
              "      <th>C3</th>\n",
              "    </tr>\n",
              "  </thead>\n",
              "  <tbody>\n",
              "    <tr>\n",
              "      <th>0</th>\n",
              "      <td>A</td>\n",
              "      <td>100</td>\n",
              "      <td>NY</td>\n",
              "    </tr>\n",
              "    <tr>\n",
              "      <th>1</th>\n",
              "      <td>A</td>\n",
              "      <td>200</td>\n",
              "      <td>CA</td>\n",
              "    </tr>\n",
              "    <tr>\n",
              "      <th>2</th>\n",
              "      <td>B</td>\n",
              "      <td>300</td>\n",
              "      <td>WA</td>\n",
              "    </tr>\n",
              "    <tr>\n",
              "      <th>3</th>\n",
              "      <td>B</td>\n",
              "      <td>300</td>\n",
              "      <td>WA</td>\n",
              "    </tr>\n",
              "    <tr>\n",
              "      <th>4</th>\n",
              "      <td>C</td>\n",
              "      <td>400</td>\n",
              "      <td>AK</td>\n",
              "    </tr>\n",
              "    <tr>\n",
              "      <th>5</th>\n",
              "      <td>C</td>\n",
              "      <td>500</td>\n",
              "      <td>NV</td>\n",
              "    </tr>\n",
              "  </tbody>\n",
              "</table>\n",
              "</div>"
            ],
            "text/plain": [
              "  C1   C2  C3\n",
              "0  A  100  NY\n",
              "1  A  200  CA\n",
              "2  B  300  WA\n",
              "3  B  300  WA\n",
              "4  C  400  AK\n",
              "5  C  500  NV"
            ]
          },
          "metadata": {
            "tags": []
          },
          "execution_count": 64
        }
      ]
    },
    {
      "cell_type": "markdown",
      "metadata": {
        "id": "Ql9fVPvmy_oH"
      },
      "source": [
        "### 데이터프레임 정렬"
      ]
    },
    {
      "cell_type": "code",
      "metadata": {
        "id": "2jPIDNh7y_oH",
        "outputId": "40709a1a-1068-46c9-e8b9-d944c8dcf601"
      },
      "source": [
        "df_one"
      ],
      "execution_count": null,
      "outputs": [
        {
          "output_type": "execute_result",
          "data": {
            "text/html": [
              "<div>\n",
              "<style scoped>\n",
              "    .dataframe tbody tr th:only-of-type {\n",
              "        vertical-align: middle;\n",
              "    }\n",
              "\n",
              "    .dataframe tbody tr th {\n",
              "        vertical-align: top;\n",
              "    }\n",
              "\n",
              "    .dataframe thead th {\n",
              "        text-align: right;\n",
              "    }\n",
              "</style>\n",
              "<table border=\"1\" class=\"dataframe\">\n",
              "  <thead>\n",
              "    <tr style=\"text-align: right;\">\n",
              "      <th></th>\n",
              "      <th>C1</th>\n",
              "      <th>C2</th>\n",
              "      <th>C3</th>\n",
              "    </tr>\n",
              "  </thead>\n",
              "  <tbody>\n",
              "    <tr>\n",
              "      <th>0</th>\n",
              "      <td>A</td>\n",
              "      <td>100</td>\n",
              "      <td>NY</td>\n",
              "    </tr>\n",
              "    <tr>\n",
              "      <th>1</th>\n",
              "      <td>A</td>\n",
              "      <td>200</td>\n",
              "      <td>CA</td>\n",
              "    </tr>\n",
              "    <tr>\n",
              "      <th>2</th>\n",
              "      <td>B</td>\n",
              "      <td>300</td>\n",
              "      <td>WA</td>\n",
              "    </tr>\n",
              "    <tr>\n",
              "      <th>3</th>\n",
              "      <td>B</td>\n",
              "      <td>300</td>\n",
              "      <td>WA</td>\n",
              "    </tr>\n",
              "    <tr>\n",
              "      <th>4</th>\n",
              "      <td>C</td>\n",
              "      <td>400</td>\n",
              "      <td>AK</td>\n",
              "    </tr>\n",
              "    <tr>\n",
              "      <th>5</th>\n",
              "      <td>C</td>\n",
              "      <td>500</td>\n",
              "      <td>NV</td>\n",
              "    </tr>\n",
              "  </tbody>\n",
              "</table>\n",
              "</div>"
            ],
            "text/plain": [
              "  C1   C2  C3\n",
              "0  A  100  NY\n",
              "1  A  200  CA\n",
              "2  B  300  WA\n",
              "3  B  300  WA\n",
              "4  C  400  AK\n",
              "5  C  500  NV"
            ]
          },
          "metadata": {
            "tags": []
          },
          "execution_count": 65
        }
      ]
    },
    {
      "cell_type": "code",
      "metadata": {
        "id": "NhGOjILqy_oH",
        "outputId": "894e1324-7201-4773-c30a-1438eeeb45a0"
      },
      "source": [
        "df_one.sort_values('C3')"
      ],
      "execution_count": null,
      "outputs": [
        {
          "output_type": "execute_result",
          "data": {
            "text/html": [
              "<div>\n",
              "<style scoped>\n",
              "    .dataframe tbody tr th:only-of-type {\n",
              "        vertical-align: middle;\n",
              "    }\n",
              "\n",
              "    .dataframe tbody tr th {\n",
              "        vertical-align: top;\n",
              "    }\n",
              "\n",
              "    .dataframe thead th {\n",
              "        text-align: right;\n",
              "    }\n",
              "</style>\n",
              "<table border=\"1\" class=\"dataframe\">\n",
              "  <thead>\n",
              "    <tr style=\"text-align: right;\">\n",
              "      <th></th>\n",
              "      <th>C1</th>\n",
              "      <th>C2</th>\n",
              "      <th>C3</th>\n",
              "    </tr>\n",
              "  </thead>\n",
              "  <tbody>\n",
              "    <tr>\n",
              "      <th>4</th>\n",
              "      <td>C</td>\n",
              "      <td>400</td>\n",
              "      <td>AK</td>\n",
              "    </tr>\n",
              "    <tr>\n",
              "      <th>1</th>\n",
              "      <td>A</td>\n",
              "      <td>200</td>\n",
              "      <td>CA</td>\n",
              "    </tr>\n",
              "    <tr>\n",
              "      <th>5</th>\n",
              "      <td>C</td>\n",
              "      <td>500</td>\n",
              "      <td>NV</td>\n",
              "    </tr>\n",
              "    <tr>\n",
              "      <th>0</th>\n",
              "      <td>A</td>\n",
              "      <td>100</td>\n",
              "      <td>NY</td>\n",
              "    </tr>\n",
              "    <tr>\n",
              "      <th>2</th>\n",
              "      <td>B</td>\n",
              "      <td>300</td>\n",
              "      <td>WA</td>\n",
              "    </tr>\n",
              "    <tr>\n",
              "      <th>3</th>\n",
              "      <td>B</td>\n",
              "      <td>300</td>\n",
              "      <td>WA</td>\n",
              "    </tr>\n",
              "  </tbody>\n",
              "</table>\n",
              "</div>"
            ],
            "text/plain": [
              "  C1   C2  C3\n",
              "4  C  400  AK\n",
              "1  A  200  CA\n",
              "5  C  500  NV\n",
              "0  A  100  NY\n",
              "2  B  300  WA\n",
              "3  B  300  WA"
            ]
          },
          "metadata": {
            "tags": []
          },
          "execution_count": 66
        }
      ]
    },
    {
      "cell_type": "markdown",
      "metadata": {
        "id": "zkTgmKley_oH"
      },
      "source": [
        "# 데이터프레임 병합"
      ]
    },
    {
      "cell_type": "code",
      "metadata": {
        "id": "lHpSqCY-y_oH"
      },
      "source": [
        "features = pd.DataFrame({'A':[100,200,300,400,500],\n",
        "                        'B':[12,13,14,15,16]})\n",
        "predictions = pd.DataFrame({'pred':[0,1,1,0,1]})"
      ],
      "execution_count": null,
      "outputs": []
    },
    {
      "cell_type": "code",
      "metadata": {
        "id": "IcrJhZq4y_oH",
        "outputId": "4d80a28b-e73c-4348-87df-747cb1b9cba6"
      },
      "source": [
        "features"
      ],
      "execution_count": null,
      "outputs": [
        {
          "output_type": "execute_result",
          "data": {
            "text/html": [
              "<div>\n",
              "<style scoped>\n",
              "    .dataframe tbody tr th:only-of-type {\n",
              "        vertical-align: middle;\n",
              "    }\n",
              "\n",
              "    .dataframe tbody tr th {\n",
              "        vertical-align: top;\n",
              "    }\n",
              "\n",
              "    .dataframe thead th {\n",
              "        text-align: right;\n",
              "    }\n",
              "</style>\n",
              "<table border=\"1\" class=\"dataframe\">\n",
              "  <thead>\n",
              "    <tr style=\"text-align: right;\">\n",
              "      <th></th>\n",
              "      <th>A</th>\n",
              "      <th>B</th>\n",
              "    </tr>\n",
              "  </thead>\n",
              "  <tbody>\n",
              "    <tr>\n",
              "      <th>0</th>\n",
              "      <td>100</td>\n",
              "      <td>12</td>\n",
              "    </tr>\n",
              "    <tr>\n",
              "      <th>1</th>\n",
              "      <td>200</td>\n",
              "      <td>13</td>\n",
              "    </tr>\n",
              "    <tr>\n",
              "      <th>2</th>\n",
              "      <td>300</td>\n",
              "      <td>14</td>\n",
              "    </tr>\n",
              "    <tr>\n",
              "      <th>3</th>\n",
              "      <td>400</td>\n",
              "      <td>15</td>\n",
              "    </tr>\n",
              "    <tr>\n",
              "      <th>4</th>\n",
              "      <td>500</td>\n",
              "      <td>16</td>\n",
              "    </tr>\n",
              "  </tbody>\n",
              "</table>\n",
              "</div>"
            ],
            "text/plain": [
              "     A   B\n",
              "0  100  12\n",
              "1  200  13\n",
              "2  300  14\n",
              "3  400  15\n",
              "4  500  16"
            ]
          },
          "metadata": {
            "tags": []
          },
          "execution_count": 68
        }
      ]
    },
    {
      "cell_type": "code",
      "metadata": {
        "id": "ldJCwd-Fy_oH",
        "outputId": "3a3c77f5-e21d-4d7e-b2c0-77173b6211be"
      },
      "source": [
        "predictions"
      ],
      "execution_count": null,
      "outputs": [
        {
          "output_type": "execute_result",
          "data": {
            "text/html": [
              "<div>\n",
              "<style scoped>\n",
              "    .dataframe tbody tr th:only-of-type {\n",
              "        vertical-align: middle;\n",
              "    }\n",
              "\n",
              "    .dataframe tbody tr th {\n",
              "        vertical-align: top;\n",
              "    }\n",
              "\n",
              "    .dataframe thead th {\n",
              "        text-align: right;\n",
              "    }\n",
              "</style>\n",
              "<table border=\"1\" class=\"dataframe\">\n",
              "  <thead>\n",
              "    <tr style=\"text-align: right;\">\n",
              "      <th></th>\n",
              "      <th>pred</th>\n",
              "    </tr>\n",
              "  </thead>\n",
              "  <tbody>\n",
              "    <tr>\n",
              "      <th>0</th>\n",
              "      <td>0</td>\n",
              "    </tr>\n",
              "    <tr>\n",
              "      <th>1</th>\n",
              "      <td>1</td>\n",
              "    </tr>\n",
              "    <tr>\n",
              "      <th>2</th>\n",
              "      <td>1</td>\n",
              "    </tr>\n",
              "    <tr>\n",
              "      <th>3</th>\n",
              "      <td>0</td>\n",
              "    </tr>\n",
              "    <tr>\n",
              "      <th>4</th>\n",
              "      <td>1</td>\n",
              "    </tr>\n",
              "  </tbody>\n",
              "</table>\n",
              "</div>"
            ],
            "text/plain": [
              "   pred\n",
              "0     0\n",
              "1     1\n",
              "2     1\n",
              "3     0\n",
              "4     1"
            ]
          },
          "metadata": {
            "tags": []
          },
          "execution_count": 69
        }
      ]
    },
    {
      "cell_type": "code",
      "metadata": {
        "id": "teBXRfuAy_oH",
        "outputId": "960a99dc-7fd7-4f58-cd42-bc924b035fde"
      },
      "source": [
        "# Pay careful attention to the axis parameter!\n",
        "pd.concat([features,predictions])"
      ],
      "execution_count": null,
      "outputs": [
        {
          "output_type": "execute_result",
          "data": {
            "text/html": [
              "<div>\n",
              "<style scoped>\n",
              "    .dataframe tbody tr th:only-of-type {\n",
              "        vertical-align: middle;\n",
              "    }\n",
              "\n",
              "    .dataframe tbody tr th {\n",
              "        vertical-align: top;\n",
              "    }\n",
              "\n",
              "    .dataframe thead th {\n",
              "        text-align: right;\n",
              "    }\n",
              "</style>\n",
              "<table border=\"1\" class=\"dataframe\">\n",
              "  <thead>\n",
              "    <tr style=\"text-align: right;\">\n",
              "      <th></th>\n",
              "      <th>A</th>\n",
              "      <th>B</th>\n",
              "      <th>pred</th>\n",
              "    </tr>\n",
              "  </thead>\n",
              "  <tbody>\n",
              "    <tr>\n",
              "      <th>0</th>\n",
              "      <td>100.0</td>\n",
              "      <td>12.0</td>\n",
              "      <td>NaN</td>\n",
              "    </tr>\n",
              "    <tr>\n",
              "      <th>1</th>\n",
              "      <td>200.0</td>\n",
              "      <td>13.0</td>\n",
              "      <td>NaN</td>\n",
              "    </tr>\n",
              "    <tr>\n",
              "      <th>2</th>\n",
              "      <td>300.0</td>\n",
              "      <td>14.0</td>\n",
              "      <td>NaN</td>\n",
              "    </tr>\n",
              "    <tr>\n",
              "      <th>3</th>\n",
              "      <td>400.0</td>\n",
              "      <td>15.0</td>\n",
              "      <td>NaN</td>\n",
              "    </tr>\n",
              "    <tr>\n",
              "      <th>4</th>\n",
              "      <td>500.0</td>\n",
              "      <td>16.0</td>\n",
              "      <td>NaN</td>\n",
              "    </tr>\n",
              "    <tr>\n",
              "      <th>0</th>\n",
              "      <td>NaN</td>\n",
              "      <td>NaN</td>\n",
              "      <td>0.0</td>\n",
              "    </tr>\n",
              "    <tr>\n",
              "      <th>1</th>\n",
              "      <td>NaN</td>\n",
              "      <td>NaN</td>\n",
              "      <td>1.0</td>\n",
              "    </tr>\n",
              "    <tr>\n",
              "      <th>2</th>\n",
              "      <td>NaN</td>\n",
              "      <td>NaN</td>\n",
              "      <td>1.0</td>\n",
              "    </tr>\n",
              "    <tr>\n",
              "      <th>3</th>\n",
              "      <td>NaN</td>\n",
              "      <td>NaN</td>\n",
              "      <td>0.0</td>\n",
              "    </tr>\n",
              "    <tr>\n",
              "      <th>4</th>\n",
              "      <td>NaN</td>\n",
              "      <td>NaN</td>\n",
              "      <td>1.0</td>\n",
              "    </tr>\n",
              "  </tbody>\n",
              "</table>\n",
              "</div>"
            ],
            "text/plain": [
              "       A     B  pred\n",
              "0  100.0  12.0   NaN\n",
              "1  200.0  13.0   NaN\n",
              "2  300.0  14.0   NaN\n",
              "3  400.0  15.0   NaN\n",
              "4  500.0  16.0   NaN\n",
              "0    NaN   NaN   0.0\n",
              "1    NaN   NaN   1.0\n",
              "2    NaN   NaN   1.0\n",
              "3    NaN   NaN   0.0\n",
              "4    NaN   NaN   1.0"
            ]
          },
          "metadata": {
            "tags": []
          },
          "execution_count": 70
        }
      ]
    },
    {
      "cell_type": "code",
      "metadata": {
        "id": "xrjMWyMEy_oH",
        "outputId": "d0219778-58ca-4d41-9481-e3fdca29bb43"
      },
      "source": [
        "pd.concat([features,predictions],axis=1)"
      ],
      "execution_count": null,
      "outputs": [
        {
          "output_type": "execute_result",
          "data": {
            "text/html": [
              "<div>\n",
              "<style scoped>\n",
              "    .dataframe tbody tr th:only-of-type {\n",
              "        vertical-align: middle;\n",
              "    }\n",
              "\n",
              "    .dataframe tbody tr th {\n",
              "        vertical-align: top;\n",
              "    }\n",
              "\n",
              "    .dataframe thead th {\n",
              "        text-align: right;\n",
              "    }\n",
              "</style>\n",
              "<table border=\"1\" class=\"dataframe\">\n",
              "  <thead>\n",
              "    <tr style=\"text-align: right;\">\n",
              "      <th></th>\n",
              "      <th>A</th>\n",
              "      <th>B</th>\n",
              "      <th>pred</th>\n",
              "    </tr>\n",
              "  </thead>\n",
              "  <tbody>\n",
              "    <tr>\n",
              "      <th>0</th>\n",
              "      <td>100</td>\n",
              "      <td>12</td>\n",
              "      <td>0</td>\n",
              "    </tr>\n",
              "    <tr>\n",
              "      <th>1</th>\n",
              "      <td>200</td>\n",
              "      <td>13</td>\n",
              "      <td>1</td>\n",
              "    </tr>\n",
              "    <tr>\n",
              "      <th>2</th>\n",
              "      <td>300</td>\n",
              "      <td>14</td>\n",
              "      <td>1</td>\n",
              "    </tr>\n",
              "    <tr>\n",
              "      <th>3</th>\n",
              "      <td>400</td>\n",
              "      <td>15</td>\n",
              "      <td>0</td>\n",
              "    </tr>\n",
              "    <tr>\n",
              "      <th>4</th>\n",
              "      <td>500</td>\n",
              "      <td>16</td>\n",
              "      <td>1</td>\n",
              "    </tr>\n",
              "  </tbody>\n",
              "</table>\n",
              "</div>"
            ],
            "text/plain": [
              "     A   B  pred\n",
              "0  100  12     0\n",
              "1  200  13     1\n",
              "2  300  14     1\n",
              "3  400  15     0\n",
              "4  500  16     1"
            ]
          },
          "metadata": {
            "tags": []
          },
          "execution_count": 71
        }
      ]
    },
    {
      "cell_type": "markdown",
      "metadata": {
        "id": "9KW-CCnsy_oH"
      },
      "source": [
        "# 파일에서 데이터를 데이터프레임으로 로드 및 저장"
      ]
    },
    {
      "cell_type": "code",
      "metadata": {
        "id": "_05kngF2y_oH",
        "outputId": "457af095-4b79-4d16-f3b5-ac3fbb003df7"
      },
      "source": [
        "df = pd.read_csv('example.csv')\n",
        "df"
      ],
      "execution_count": null,
      "outputs": [
        {
          "output_type": "execute_result",
          "data": {
            "text/html": [
              "<div>\n",
              "<style scoped>\n",
              "    .dataframe tbody tr th:only-of-type {\n",
              "        vertical-align: middle;\n",
              "    }\n",
              "\n",
              "    .dataframe tbody tr th {\n",
              "        vertical-align: top;\n",
              "    }\n",
              "\n",
              "    .dataframe thead th {\n",
              "        text-align: right;\n",
              "    }\n",
              "</style>\n",
              "<table border=\"1\" class=\"dataframe\">\n",
              "  <thead>\n",
              "    <tr style=\"text-align: right;\">\n",
              "      <th></th>\n",
              "      <th>a</th>\n",
              "      <th>b</th>\n",
              "      <th>c</th>\n",
              "      <th>d</th>\n",
              "    </tr>\n",
              "  </thead>\n",
              "  <tbody>\n",
              "    <tr>\n",
              "      <th>0</th>\n",
              "      <td>0</td>\n",
              "      <td>1</td>\n",
              "      <td>2</td>\n",
              "      <td>3</td>\n",
              "    </tr>\n",
              "    <tr>\n",
              "      <th>1</th>\n",
              "      <td>4</td>\n",
              "      <td>5</td>\n",
              "      <td>6</td>\n",
              "      <td>7</td>\n",
              "    </tr>\n",
              "    <tr>\n",
              "      <th>2</th>\n",
              "      <td>8</td>\n",
              "      <td>9</td>\n",
              "      <td>10</td>\n",
              "      <td>11</td>\n",
              "    </tr>\n",
              "    <tr>\n",
              "      <th>3</th>\n",
              "      <td>12</td>\n",
              "      <td>13</td>\n",
              "      <td>14</td>\n",
              "      <td>15</td>\n",
              "    </tr>\n",
              "  </tbody>\n",
              "</table>\n",
              "</div>"
            ],
            "text/plain": [
              "    a   b   c   d\n",
              "0   0   1   2   3\n",
              "1   4   5   6   7\n",
              "2   8   9  10  11\n",
              "3  12  13  14  15"
            ]
          },
          "metadata": {
            "tags": []
          },
          "execution_count": 73
        }
      ]
    },
    {
      "cell_type": "code",
      "metadata": {
        "id": "sYkJO5pTy_oH"
      },
      "source": [
        "df.to_csv('example.csv',index=False)"
      ],
      "execution_count": null,
      "outputs": []
    }
  ]
}