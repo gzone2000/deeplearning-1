{
  "nbformat": 4,
  "nbformat_minor": 0,
  "metadata": {
    "kernelspec": {
      "display_name": "Python 3",
      "language": "python",
      "name": "python3"
    },
    "language_info": {
      "codemirror_mode": {
        "name": "ipython",
        "version": 3
      },
      "file_extension": ".py",
      "mimetype": "text/x-python",
      "name": "python",
      "nbconvert_exporter": "python",
      "pygments_lexer": "ipython3",
      "version": "3.7.6"
    },
    "nav_menu": {},
    "toc": {
      "navigate_menu": true,
      "number_sections": true,
      "sideBar": true,
      "threshold": 6,
      "toc_cell": false,
      "toc_section_display": "block",
      "toc_window_display": false
    },
    "colab": {
      "name": "energy_prediction.ipynb",
      "provenance": [],
      "collapsed_sections": [],
      "toc_visible": true,
      "include_colab_link": true
    },
    "accelerator": "GPU"
  },
  "cells": [
    {
      "cell_type": "markdown",
      "metadata": {
        "id": "view-in-github",
        "colab_type": "text"
      },
      "source": [
        "<a href=\"https://colab.research.google.com/github/kgpark88/deeplearning/blob/master/energy_prediction.ipynb\" target=\"_parent\"><img src=\"https://colab.research.google.com/assets/colab-badge.svg\" alt=\"Open In Colab\"/></a>"
      ]
    },
    {
      "cell_type": "markdown",
      "metadata": {
        "id": "enmohzXupt-A"
      },
      "source": [
        "## 라이브러리 임포트"
      ]
    },
    {
      "cell_type": "code",
      "metadata": {
        "id": "aAkJFBoWpt-B"
      },
      "source": [
        "import os\n",
        "import numpy as np\n",
        "import pandas as pd\n",
        "import matplotlib.pyplot as plt\n",
        "\n",
        "import tensorflow as tf\n",
        "from tensorflow import keras\n",
        "from tensorflow.keras.models import Sequential, load_model\n",
        "from tensorflow.keras.layers import Dense, LSTM, Activation, Dropout\n",
        "from tensorflow.keras.callbacks import EarlyStopping, ModelCheckpoint"
      ],
      "execution_count": 1,
      "outputs": []
    },
    {
      "cell_type": "markdown",
      "metadata": {
        "id": "KZyNdLXQbX-S"
      },
      "source": [
        "## 데이터를 로드합니다. "
      ]
    },
    {
      "cell_type": "code",
      "metadata": {
        "id": "iw-NM54YVY-p"
      },
      "source": [
        "df = pd.read_csv('https://raw.githubusercontent.com/kgpark88/deeplearning/master/energy_data.csv', header = 0, delimiter = ',', quoting = 3)\n",
        "df.index = df['daq_time']\n",
        "series = df['power_usage'].values"
      ],
      "execution_count": 5,
      "outputs": []
    },
    {
      "cell_type": "markdown",
      "metadata": {
        "id": "gujCHp_LcWb2"
      },
      "source": [
        "### 데이터셋을 입력데이터와 타깃데이터로 분리하는 함수입니다."
      ]
    },
    {
      "cell_type": "code",
      "metadata": {
        "id": "g5Rj6jl7cZRt"
      },
      "source": [
        "def split_data_input_label(dataset, start_index, end_index, hist_data_size, target_size):\n",
        "    data = []\n",
        "    labels = []\n",
        "\n",
        "    start_index = start_index + hist_data_size\n",
        "    if end_index is None:\n",
        "        end_index = len(dataset) - target_size\n",
        "\n",
        "    for i in range(start_index, end_index):\n",
        "        indices = range(i-hist_data_size, i)\n",
        "        # Reshape data from (hist_data_size,) to (hist_data_size, 1)\n",
        "        data.append(np.reshape(dataset[indices], (hist_data_size, 1)))\n",
        "        labels.append([dataset[i+target_size]])\n",
        "    return np.array(data), np.array(labels)"
      ],
      "execution_count": 6,
      "outputs": []
    },
    {
      "cell_type": "markdown",
      "metadata": {
        "id": "NqjPWMC6g6H7"
      },
      "source": [
        "## 시계열 데이터값을 0과 1사이 값으로 정규화합니다.\n"
      ]
    },
    {
      "cell_type": "code",
      "metadata": {
        "id": "gnZ4kgXFgn3A"
      },
      "source": [
        "train_split = 70080 # 365일 * 2년 * 96개데이터\n",
        "test_split = 105120 # 365일 * 3년 * 96개데이터\n",
        "\n",
        "min = np.min(series[:test_split])\n",
        "max = np.max(series[:test_split])\n",
        "\n",
        "dataset = (series - min)/max"
      ],
      "execution_count": 7,
      "outputs": []
    },
    {
      "cell_type": "markdown",
      "metadata": {
        "id": "5EW7aFpBgpxM"
      },
      "source": [
        "## 훈련 데이터셋과 검증 데이터셋으로 데이터를 분할합니다."
      ]
    },
    {
      "cell_type": "code",
      "metadata": {
        "id": "VUqXWe4fXTtd"
      },
      "source": [
        "n_steps = 20\n",
        "future_target = 0\n",
        "\n",
        "X_train, y_train = split_data_input_label(dataset, 0,train_split, \n",
        "                                          n_steps, \n",
        "                                          future_target)\n",
        "X_valid, y_valid = split_data_input_label(dataset,train_split,test_split, \n",
        "                                          n_steps, \n",
        "                                          future_target)\n",
        "X_test, _ = split_data_input_label(dataset, test_split, test_split+1000, \n",
        "                                   n_steps, \n",
        "                                   future_target)"
      ],
      "execution_count": 8,
      "outputs": []
    },
    {
      "cell_type": "code",
      "metadata": {
        "id": "cJ25it-Jr0Ls",
        "colab": {
          "base_uri": "https://localhost:8080/"
        },
        "outputId": "e331ab53-6e85-4261-9ba2-958ec5466d3c"
      },
      "source": [
        "X_train.shape"
      ],
      "execution_count": 9,
      "outputs": [
        {
          "output_type": "execute_result",
          "data": {
            "text/plain": [
              "(70060, 20, 1)"
            ]
          },
          "metadata": {
            "tags": []
          },
          "execution_count": 9
        }
      ]
    },
    {
      "cell_type": "markdown",
      "metadata": {
        "id": "v6lsIm6hezKe"
      },
      "source": [
        "## 입력데이터, 타깃데이터, 예측데이터를 그래프로 출력하는 함수입니다."
      ]
    },
    {
      "cell_type": "code",
      "metadata": {
        "id": "RngUfpHRkiM9"
      },
      "source": [
        "def plot_series(series, y=None, y_pred=None, x_label='$t$', y_label='$x(t)$'):\n",
        "    plt.plot(series, '.-')\n",
        "    if y is not None:\n",
        "        plt.plot(n_steps, y, 'bx', markersize=10)\n",
        "    if y_pred is not None:\n",
        "        plt.plot(n_steps, y_pred, 'ro')\n",
        "    plt.grid(True)\n",
        "    if x_label:\n",
        "        plt.xlabel(x_label, fontsize=16)\n",
        "    if y_label:\n",
        "        plt.ylabel(y_label, fontsize=16, rotation=0)"
      ],
      "execution_count": 10,
      "outputs": []
    },
    {
      "cell_type": "code",
      "metadata": {
        "id": "ifJyjNRnjO6B",
        "colab": {
          "base_uri": "https://localhost:8080/",
          "height": 285
        },
        "outputId": "978ea817-9286-42af-e7a6-d88bc79180c7"
      },
      "source": [
        "fig, axes = plt.subplots(nrows=1, ncols=3, sharey=True, figsize=(12, 4))\n",
        "for col in range(3):\n",
        "    plt.sca(axes[col])\n",
        "    plot_series(X_valid[col, :, 0], y_valid[col, 0],\n",
        "                y_label=('$x(t)$' if col==0 else None))\n",
        "plt.show()"
      ],
      "execution_count": 11,
      "outputs": [
        {
          "output_type": "display_data",
          "data": {
            "image/png": "[encoded data removed]",
            "text/plain": [
              "<Figure size 864x288 with 3 Axes>"
            ]
          },
          "metadata": {
            "tags": [],
            "needs_background": "light"
          }
        }
      ]
    },
    {
      "cell_type": "markdown",
      "metadata": {
        "id": "akz9MbEhjm9x"
      },
      "source": [
        "## LSTM 모델 구성 "
      ]
    },
    {
      "cell_type": "code",
      "metadata": {
        "id": "XwyOUlSexc7h"
      },
      "source": [
        "model = Sequential()\n",
        "\n",
        "model.add(LSTM(20, input_shape=(None, 1), return_sequences=True))\n",
        "model.add(LSTM(20, return_sequences=True))\n",
        "model.add(Dense(20, activation='relu'))\n",
        "model.add(Dense(1))"
      ],
      "execution_count": 13,
      "outputs": []
    },
    {
      "cell_type": "markdown",
      "metadata": {
        "id": "_1ybPM1xtUTK"
      },
      "source": [
        "모델 구성 확인"
      ]
    },
    {
      "cell_type": "code",
      "metadata": {
        "id": "tHm6mlN6tOlc",
        "colab": {
          "base_uri": "https://localhost:8080/"
        },
        "outputId": "abf73388-211e-4c15-b0b1-7551f6027b33"
      },
      "source": [
        "model.summary()"
      ],
      "execution_count": 14,
      "outputs": [
        {
          "output_type": "stream",
          "text": [
            "Model: \"sequential_1\"\n",
            "_________________________________________________________________\n",
            "Layer (type)                 Output Shape              Param #   \n",
            "=================================================================\n",
            "lstm_2 (LSTM)                (None, None, 20)          1760      \n",
            "_________________________________________________________________\n",
            "lstm_3 (LSTM)                (None, None, 20)          3280      \n",
            "_________________________________________________________________\n",
            "dense (Dense)                (None, None, 20)          420       \n",
            "_________________________________________________________________\n",
            "dense_1 (Dense)              (None, None, 1)           21        \n",
            "=================================================================\n",
            "Total params: 5,481\n",
            "Trainable params: 5,481\n",
            "Non-trainable params: 0\n",
            "_________________________________________________________________\n"
          ],
          "name": "stdout"
        }
      ]
    },
    {
      "cell_type": "markdown",
      "metadata": {
        "id": "_RHgmVGKtafp"
      },
      "source": [
        "초기 가중치 설정 확인"
      ]
    },
    {
      "cell_type": "code",
      "metadata": {
        "id": "Ti4QOSZOtPDa",
        "colab": {
          "base_uri": "https://localhost:8080/"
        },
        "outputId": "482f3d5e-9a05-4b85-e7bf-5cc97e2fd2fc"
      },
      "source": [
        "hidden1 = model.layers[0]\n",
        "hidden1.get_weights()"
      ],
      "execution_count": 15,
      "outputs": [
        {
          "output_type": "execute_result",
          "data": {
            "text/plain": [
              "[array([[-0.1772536 ,  0.10962155,  0.06645051,  0.01408818, -0.04571447,\n",
              "         -0.06652537,  0.07471085, -0.08721974,  0.25336868,  0.20780319,\n",
              "         -0.17970267,  0.00073662,  0.2213993 , -0.20894873, -0.20645446,\n",
              "          0.11982176,  0.12665129, -0.0169934 ,  0.07657316, -0.07556821,\n",
              "         -0.16206524,  0.17828342, -0.11762169,  0.22540966, -0.01446804,\n",
              "         -0.16828896,  0.10957769,  0.07573569, -0.09167427,  0.16741881,\n",
              "         -0.23288907, -0.24774444,  0.21020675, -0.20674548, -0.20643596,\n",
              "          0.23513293, -0.25113368,  0.07263556, -0.09995168,  0.21346113,\n",
              "          0.18368167,  0.13897899,  0.06947538, -0.23838708,  0.25938463,\n",
              "          0.04993972, -0.07964574, -0.09470798,  0.15130594,  0.24114567,\n",
              "         -0.17825934, -0.10502668, -0.03687744,  0.14517987,  0.03758878,\n",
              "          0.12059259, -0.26154557, -0.1654592 ,  0.1624408 ,  0.06646386,\n",
              "          0.2608356 ,  0.00857103,  0.13270456, -0.23110163, -0.15459621,\n",
              "         -0.25527918, -0.02886821, -0.19054191, -0.17895684,  0.07061899,\n",
              "         -0.14691909, -0.1839404 ,  0.20269257,  0.10902354,  0.02462471,\n",
              "         -0.12770438,  0.1291511 ,  0.1624046 ,  0.02168107,  0.18893877]],\n",
              "       dtype=float32),\n",
              " array([[-0.01627624, -0.06222379,  0.01289399, ...,  0.10314352,\n",
              "         -0.09177235, -0.00710597],\n",
              "        [ 0.18053792,  0.06894437,  0.22540656, ..., -0.03400259,\n",
              "         -0.0804655 ,  0.17756762],\n",
              "        [ 0.08777434, -0.04848237,  0.01969744, ...,  0.06467898,\n",
              "         -0.06522172, -0.25010744],\n",
              "        ...,\n",
              "        [-0.04660156,  0.00792138,  0.09219917, ..., -0.01098328,\n",
              "         -0.05659455,  0.06257282],\n",
              "        [-0.02962229,  0.15105708, -0.04845027, ..., -0.00369135,\n",
              "          0.03237356, -0.08617068],\n",
              "        [ 0.11723305,  0.04733353,  0.07889162, ...,  0.01299946,\n",
              "          0.02417058, -0.02445024]], dtype=float32),\n",
              " array([0., 0., 0., 0., 0., 0., 0., 0., 0., 0., 0., 0., 0., 0., 0., 0., 0.,\n",
              "        0., 0., 0., 1., 1., 1., 1., 1., 1., 1., 1., 1., 1., 1., 1., 1., 1.,\n",
              "        1., 1., 1., 1., 1., 1., 0., 0., 0., 0., 0., 0., 0., 0., 0., 0., 0.,\n",
              "        0., 0., 0., 0., 0., 0., 0., 0., 0., 0., 0., 0., 0., 0., 0., 0., 0.,\n",
              "        0., 0., 0., 0., 0., 0., 0., 0., 0., 0., 0., 0.], dtype=float32)]"
            ]
          },
          "metadata": {
            "tags": []
          },
          "execution_count": 15
        }
      ]
    },
    {
      "cell_type": "markdown",
      "metadata": {
        "id": "BbOipfup6dnW"
      },
      "source": [
        "모델 컴파일"
      ]
    },
    {
      "cell_type": "code",
      "metadata": {
        "id": "-WDHEk4b6NqA"
      },
      "source": [
        "model.compile(optimizer='adam', loss='mse')"
      ],
      "execution_count": 16,
      "outputs": []
    },
    {
      "cell_type": "markdown",
      "metadata": {
        "id": "unE_Cax_uVW4"
      },
      "source": [
        "모델 훈련 조기종료, 체크포인트 설정"
      ]
    },
    {
      "cell_type": "code",
      "metadata": {
        "id": "BHQWlXc9uFeu"
      },
      "source": [
        "early_stop = EarlyStopping(monitor='val_loss', mode='min', \n",
        "                    verbose=1, patience=5)\n",
        "check_point = ModelCheckpoint('best_model.h5', verbose=1,\n",
        "            monitor='val_loss', mode='min', save_best_only=True)"
      ],
      "execution_count": 17,
      "outputs": []
    },
    {
      "cell_type": "markdown",
      "metadata": {
        "id": "5TZOm46Rtl-o"
      },
      "source": [
        "모델 학습"
      ]
    },
    {
      "cell_type": "code",
      "metadata": {
        "id": "nreG6uV1tObt",
        "colab": {
          "base_uri": "https://localhost:8080/"
        },
        "outputId": "bfd11bb0-aaa0-4e64-b7d3-6ab94b39e6fd"
      },
      "source": [
        "epochs=30\n",
        "batch_size=96\n",
        "\n",
        "history = model.fit(x=X_train, y=y_train, \n",
        "          epochs=epochs, \n",
        "          batch_size=batch_size,\n",
        "          verbose=1,                                     \n",
        "          validation_data=(X_valid, y_valid), \n",
        "          callbacks=[early_stop, check_point])"
      ],
      "execution_count": 18,
      "outputs": [
        {
          "output_type": "stream",
          "text": [
            "Epoch 1/30\n",
            "730/730 [==============================] - 15s 8ms/step - loss: 0.0406 - val_loss: 0.0116\n",
            "\n",
            "Epoch 00001: val_loss improved from inf to 0.01160, saving model to best_model.h5\n",
            "Epoch 2/30\n",
            "730/730 [==============================] - 5s 7ms/step - loss: 0.0114 - val_loss: 0.0096\n",
            "\n",
            "Epoch 00002: val_loss improved from 0.01160 to 0.00959, saving model to best_model.h5\n",
            "Epoch 3/30\n",
            "730/730 [==============================] - 6s 8ms/step - loss: 0.0105 - val_loss: 0.0095\n",
            "\n",
            "Epoch 00003: val_loss improved from 0.00959 to 0.00947, saving model to best_model.h5\n",
            "Epoch 4/30\n",
            "730/730 [==============================] - 6s 8ms/step - loss: 0.0098 - val_loss: 0.0087\n",
            "\n",
            "Epoch 00004: val_loss improved from 0.00947 to 0.00871, saving model to best_model.h5\n",
            "Epoch 5/30\n",
            "730/730 [==============================] - 6s 8ms/step - loss: 0.0089 - val_loss: 0.0081\n",
            "\n",
            "Epoch 00005: val_loss improved from 0.00871 to 0.00814, saving model to best_model.h5\n",
            "Epoch 6/30\n",
            "730/730 [==============================] - 6s 8ms/step - loss: 0.0086 - val_loss: 0.0086\n",
            "\n",
            "Epoch 00006: val_loss did not improve from 0.00814\n",
            "Epoch 7/30\n",
            "730/730 [==============================] - 6s 8ms/step - loss: 0.0084 - val_loss: 0.0075\n",
            "\n",
            "Epoch 00007: val_loss improved from 0.00814 to 0.00752, saving model to best_model.h5\n",
            "Epoch 8/30\n",
            "730/730 [==============================] - 5s 8ms/step - loss: 0.0083 - val_loss: 0.0087\n",
            "\n",
            "Epoch 00008: val_loss did not improve from 0.00752\n",
            "Epoch 9/30\n",
            "730/730 [==============================] - 5s 7ms/step - loss: 0.0082 - val_loss: 0.0079\n",
            "\n",
            "Epoch 00009: val_loss did not improve from 0.00752\n",
            "Epoch 10/30\n",
            "730/730 [==============================] - 5s 7ms/step - loss: 0.0081 - val_loss: 0.0081\n",
            "\n",
            "Epoch 00010: val_loss did not improve from 0.00752\n",
            "Epoch 11/30\n",
            "730/730 [==============================] - 6s 8ms/step - loss: 0.0081 - val_loss: 0.0082\n",
            "\n",
            "Epoch 00011: val_loss did not improve from 0.00752\n",
            "Epoch 12/30\n",
            "730/730 [==============================] - 6s 8ms/step - loss: 0.0081 - val_loss: 0.0079\n",
            "\n",
            "Epoch 00012: val_loss did not improve from 0.00752\n",
            "Epoch 00012: early stopping\n"
          ],
          "name": "stdout"
        }
      ]
    },
    {
      "cell_type": "markdown",
      "metadata": {
        "id": "955KwcDSkFiZ"
      },
      "source": [
        "신경망 모델의 학습상태를 출력하는 함수입니다."
      ]
    },
    {
      "cell_type": "code",
      "metadata": {
        "id": "tjpStVEhpt-I",
        "colab": {
          "base_uri": "https://localhost:8080/",
          "height": 283
        },
        "outputId": "de98d910-a8b7-4480-fbb5-cd1d1ba24326"
      },
      "source": [
        "def plot_learning_curves(loss, val_loss):\n",
        "    plt.plot(np.arange(len(loss)) + 0.5, loss, \"b.-\", label=\"Training loss\")\n",
        "    plt.plot(np.arange(len(val_loss)) + 1, val_loss, \"r.-\", label=\"Validation loss\")\n",
        "    plt.axis([1, 10, 0, 0.05])\n",
        "    plt.legend(fontsize=14)\n",
        "    plt.xlabel(\"Epochs\")\n",
        "    plt.ylabel(\"Loss\")\n",
        "    plt.grid(True)\n",
        "\n",
        "plot_learning_curves(history.history[\"loss\"], history.history[\"val_loss\"])\n",
        "plt.show()"
      ],
      "execution_count": 19,
      "outputs": [
        {
          "output_type": "display_data",
          "data": {
            "image/png": "[encoded data removed]",
            "text/plain": [
              "<Figure size 432x288 with 1 Axes>"
            ]
          },
          "metadata": {
            "tags": [],
            "needs_background": "light"
          }
        }
      ]
    },
    {
      "cell_type": "markdown",
      "metadata": {
        "id": "-ByU7qm9krul"
      },
      "source": [
        "## 검증 데이터셋으로 신경망 모델을 평가합니다."
      ]
    },
    {
      "cell_type": "code",
      "metadata": {
        "id": "igxMlk1Ept-0",
        "colab": {
          "base_uri": "https://localhost:8080/"
        },
        "outputId": "6b97f740-0c69-40eb-b1e9-be595802591e"
      },
      "source": [
        "model.evaluate(X_valid, y_valid)"
      ],
      "execution_count": 20,
      "outputs": [
        {
          "output_type": "stream",
          "text": [
            "1095/1095 [==============================] - 4s 3ms/step - loss: 0.0079\n"
          ],
          "name": "stdout"
        },
        {
          "output_type": "execute_result",
          "data": {
            "text/plain": [
              "0.007866745814681053"
            ]
          },
          "metadata": {
            "tags": []
          },
          "execution_count": 20
        }
      ]
    },
    {
      "cell_type": "markdown",
      "metadata": {
        "id": "2dDO7Yo3mfgs"
      },
      "source": [
        "## 예측 결과를 확인합니다."
      ]
    },
    {
      "cell_type": "code",
      "metadata": {
        "id": "k7riqZKkaORa",
        "colab": {
          "base_uri": "https://localhost:8080/",
          "height": 391
        },
        "outputId": "582c9786-6f86-445e-94b1-5cebf7ee251e"
      },
      "source": [
        "time_step = 200\n",
        "n_step = 20\n",
        "y_pred = model.predict(X_valid[time_step].reshape(1, n_step, 1))\n",
        "\n",
        "\n",
        "fig, axes = plt.subplots(nrows=1, ncols=1, sharey=True, figsize=(12, 4))\n",
        "plot_series(X_valid[time_step, :, 0]*max + min, \n",
        "            y_valid[time_step, 0]*max + min, \n",
        "            y_pred[0, 0]*max + min)\n",
        "\n",
        "input_data = X_valid[time_step, :, 0]*max + min\n",
        "print(\"입력 데이터 : {}\".format(np.round(input_data,2)))\n",
        "predict_value = y_pred[0, 0]*max + min\n",
        "print(\"예측값 : {}\".format(np.round(predict_value, 2)))\n",
        "real_value = y_valid[time_step, 0]*max + min\n",
        "print(\"실제값 : {}\".format(np.round(real_value)))\n",
        "error = abs(predict_value-real_value)\n",
        "error_rate = error/real_value*100\n",
        "print(\"오차 : {}\".format(np.round(error, 2)))\n",
        "print(\"오차율 : {}%\".format(np.round(error_rate, 2)))"
      ],
      "execution_count": 21,
      "outputs": [
        {
          "output_type": "stream",
          "text": [
            "입력 데이터 : [102.54 104.79  96.34  90.7  100.28  99.72  97.46  99.15  99.72  98.03\n",
            " 108.17 108.73 135.21 170.14 166.2  152.68 161.69 167.89 162.82 161.69]\n",
            "예측값 : [208.35]\n",
            "실제값 : 161.0\n",
            "오차 : [47.79]\n",
            "오차율 : [29.76]%\n"
          ],
          "name": "stdout"
        },
        {
          "output_type": "display_data",
          "data": {
            "image/png": "[encoded data removed]",
            "text/plain": [
              "<Figure size 864x288 with 1 Axes>"
            ]
          },
          "metadata": {
            "tags": [],
            "needs_background": "light"
          }
        }
      ]
    },
    {
      "cell_type": "markdown",
      "metadata": {
        "id": "JgOfPWLGlFv-"
      },
      "source": [
        "## 모델 저장"
      ]
    },
    {
      "cell_type": "code",
      "metadata": {
        "id": "h94CvnW5lYSq"
      },
      "source": [
        "model.save('my_model.h5')"
      ],
      "execution_count": 22,
      "outputs": []
    },
    {
      "cell_type": "markdown",
      "metadata": {
        "id": "1Li7wRZPla7D"
      },
      "source": [
        "## 저장한 모델 로드"
      ]
    },
    {
      "cell_type": "code",
      "metadata": {
        "id": "RVKXTmuSloz1"
      },
      "source": [
        "model = load_model('best_model.h5')\n",
        "# model = load_model('my_model.h5')"
      ],
      "execution_count": 23,
      "outputs": []
    },
    {
      "cell_type": "markdown",
      "metadata": {
        "id": "ApfDCSKJltFK"
      },
      "source": [
        "## 저장한 모델을 사용하여 예측"
      ]
    },
    {
      "cell_type": "code",
      "metadata": {
        "id": "ZhPArIawl02C",
        "colab": {
          "base_uri": "https://localhost:8080/",
          "height": 391
        },
        "outputId": "6be66959-1137-4ef6-817c-fbc70cb49883"
      },
      "source": [
        "time_step = 401\n",
        "y_pred = model.predict(X_valid[time_step].reshape(1, n_steps, 1))\n",
        "\n",
        "fig, axes = plt.subplots(nrows=1, ncols=1, sharey=True, figsize=(12, 4))\n",
        "plot_series(X_valid[time_step, :, 0]*max + min, \n",
        "            y_valid[time_step, 0]*max + min, \n",
        "            y_pred[0, 0]*max + min)\n",
        "\n",
        "input_data = X_valid[time_step, :, 0]*max + min\n",
        "print(\"입력 데이터 : {}\".format(np.round(input_data,2)))\n",
        "predict_value = y_pred[0, 0]*max + min\n",
        "print(\"예측값 : {}\".format(np.round(predict_value, 2)))\n",
        "real_value = y_valid[time_step, 0]*max + min\n",
        "print(\"실제값 : {}\".format(np.round(real_value)))\n",
        "error = abs(predict_value-real_value)\n",
        "error_rate = error/real_value*100\n",
        "print(\"오차 : {}\".format(np.round(error, 2)))\n",
        "print(\"오차율 : {}%\".format(np.round(error_rate, 2)))"
      ],
      "execution_count": 29,
      "outputs": [
        {
          "output_type": "stream",
          "text": [
            "입력 데이터 : [108.17 115.49 138.03 158.31 162.25 160.56 156.62 167.89 158.87 157.75\n",
            " 167.89 184.23 167.89 178.59 178.59 189.3  178.03 167.32 163.94 211.27]\n",
            "예측값 : [202.1]\n",
            "실제값 : 206.0\n",
            "오차 : [4.1]\n",
            "오차율 : [1.99]%\n"
          ],
          "name": "stdout"
        },
        {
          "output_type": "display_data",
          "data": {
            "image/png": "[encoded data removed]",
            "text/plain": [
              "<Figure size 864x288 with 1 Axes>"
            ]
          },
          "metadata": {
            "tags": [],
            "needs_background": "light"
          }
        }
      ]
    },
    {
      "cell_type": "code",
      "metadata": {
        "id": "Ry31nlr4WNFp"
      },
      "source": [
        ""
      ],
      "execution_count": null,
      "outputs": []
    }
  ]
}