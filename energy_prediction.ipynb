{
  "nbformat": 4,
  "nbformat_minor": 0,
  "metadata": {
    "kernelspec": {
      "display_name": "Python 3",
      "language": "python",
      "name": "python3"
    },
    "language_info": {
      "codemirror_mode": {
        "name": "ipython",
        "version": 3
      },
      "file_extension": ".py",
      "mimetype": "text/x-python",
      "name": "python",
      "nbconvert_exporter": "python",
      "pygments_lexer": "ipython3",
      "version": "3.7.6"
    },
    "nav_menu": {},
    "toc": {
      "navigate_menu": true,
      "number_sections": true,
      "sideBar": true,
      "threshold": 6,
      "toc_cell": false,
      "toc_section_display": "block",
      "toc_window_display": false
    },
    "colab": {
      "name": "energy_prediction.ipynb",
      "provenance": [],
      "collapsed_sections": [],
      "include_colab_link": true
    },
    "accelerator": "GPU"
  },
  "cells": [
    {
      "cell_type": "markdown",
      "metadata": {
        "id": "view-in-github",
        "colab_type": "text"
      },
      "source": [
        "<a href=\"https://colab.research.google.com/github/kgpark88/deeplearning/blob/master/energy_prediction.ipynb\" target=\"_parent\"><img src=\"https://colab.research.google.com/assets/colab-badge.svg\" alt=\"Open In Colab\"/></a>"
      ]
    },
    {
      "cell_type": "markdown",
      "metadata": {
        "id": "enmohzXupt-A"
      },
      "source": [
        "## 라이브러리 임포트"
      ]
    },
    {
      "cell_type": "code",
      "metadata": {
        "id": "aAkJFBoWpt-B"
      },
      "source": [
        "import os\n",
        "import numpy as np\n",
        "import pandas as pd\n",
        "import matplotlib.pyplot as plt\n",
        "\n",
        "import tensorflow as tf\n",
        "from tensorflow import keras\n",
        "from tensorflow.keras.models import Sequential, load_model\n",
        "from tensorflow.keras.layers import Dense, LSTM, Activation, Dropout\n",
        "from tensorflow.keras.callbacks import EarlyStopping, ModelCheckpoint\n",
        "\n",
        "from google.colab import auth\n",
        "from google.colab import drive"
      ],
      "execution_count": 7,
      "outputs": []
    },
    {
      "cell_type": "markdown",
      "metadata": {
        "id": "KZyNdLXQbX-S"
      },
      "source": [
        "## 데이터를 로드합니다. "
      ]
    },
    {
      "cell_type": "code",
      "metadata": {
        "id": "iw-NM54YVY-p"
      },
      "source": [
        "data_dir ='./'\n",
        "file_name = 'energy_data.csv'\n",
        "data_file = os.path.join(data_dir, file_name)\n",
        "df = pd.read_csv(data_file, header = 0, delimiter = ',', quoting = 3)\n",
        "df.index = df['daq_time']\n",
        "series = df['power_usage'].values"
      ],
      "execution_count": 11,
      "outputs": []
    },
    {
      "cell_type": "markdown",
      "metadata": {
        "id": "gujCHp_LcWb2"
      },
      "source": [
        "### 데이터셋을 입력데이터와 타깃데이터로 분리하는 함수입니다."
      ]
    },
    {
      "cell_type": "code",
      "metadata": {
        "id": "g5Rj6jl7cZRt"
      },
      "source": [
        "def split_data_input_label(dataset, start_index, end_index, hist_data_size, target_size):\n",
        "    data = []\n",
        "    labels = []\n",
        "\n",
        "    start_index = start_index + hist_data_size\n",
        "    if end_index is None:\n",
        "        end_index = len(dataset) - target_size\n",
        "\n",
        "    for i in range(start_index, end_index):\n",
        "        indices = range(i-hist_data_size, i)\n",
        "        # Reshape data from (hist_data_size,) to (hist_data_size, 1)\n",
        "        data.append(np.reshape(dataset[indices], (hist_data_size, 1)))\n",
        "        labels.append([dataset[i+target_size]])\n",
        "    return np.array(data), np.array(labels)"
      ],
      "execution_count": 12,
      "outputs": []
    },
    {
      "cell_type": "markdown",
      "metadata": {
        "id": "NqjPWMC6g6H7"
      },
      "source": [
        "## 시계열 데이터값을 0과 1사이 값으로 정규화합니다.\n"
      ]
    },
    {
      "cell_type": "code",
      "metadata": {
        "id": "gnZ4kgXFgn3A"
      },
      "source": [
        "train_split = 70080 # 365일 * 2년 * 96개데이터\n",
        "test_split = 105120 # 365일 * 3년 * 96개데이터\n",
        "\n",
        "min = np.min(series[:test_split])\n",
        "max = np.max(series[:test_split])\n",
        "\n",
        "dataset = (series - min)/max"
      ],
      "execution_count": 13,
      "outputs": []
    },
    {
      "cell_type": "markdown",
      "metadata": {
        "id": "5EW7aFpBgpxM"
      },
      "source": [
        "## 훈련 데이터셋과 검증 데이터셋으로 데이터를 분할합니다."
      ]
    },
    {
      "cell_type": "code",
      "metadata": {
        "id": "VUqXWe4fXTtd"
      },
      "source": [
        "n_steps = 20\n",
        "future_target = 0\n",
        "\n",
        "X_train, y_train = split_data_input_label(dataset, 0,train_split, \n",
        "                                          n_steps, \n",
        "                                          future_target)\n",
        "X_valid, y_valid = split_data_input_label(dataset,train_split,test_split, \n",
        "                                          n_steps, \n",
        "                                          future_target)\n",
        "X_test, _ = split_data_input_label(dataset, test_split, test_split+1000, \n",
        "                                   n_steps, \n",
        "                                   future_target)"
      ],
      "execution_count": 14,
      "outputs": []
    },
    {
      "cell_type": "code",
      "metadata": {
        "id": "cJ25it-Jr0Ls",
        "colab": {
          "base_uri": "https://localhost:8080/"
        },
        "outputId": "0d398157-eaf5-4c74-af7b-9d10c71cd827"
      },
      "source": [
        "X_train.shape"
      ],
      "execution_count": 15,
      "outputs": [
        {
          "output_type": "execute_result",
          "data": {
            "text/plain": [
              "(70060, 20, 1)"
            ]
          },
          "metadata": {
            "tags": []
          },
          "execution_count": 15
        }
      ]
    },
    {
      "cell_type": "markdown",
      "metadata": {
        "id": "v6lsIm6hezKe"
      },
      "source": [
        "## 입력데이터, 타깃데이터, 예측데이터를 그래프로 출력하는 함수입니다."
      ]
    },
    {
      "cell_type": "code",
      "metadata": {
        "id": "RngUfpHRkiM9"
      },
      "source": [
        "def plot_series(series, y=None, y_pred=None, x_label='$t$', y_label='$x(t)$'):\n",
        "    plt.plot(series, '.-')\n",
        "    if y is not None:\n",
        "        plt.plot(n_steps, y, 'bx', markersize=10)\n",
        "    if y_pred is not None:\n",
        "        plt.plot(n_steps, y_pred, 'ro')\n",
        "    plt.grid(True)\n",
        "    if x_label:\n",
        "        plt.xlabel(x_label, fontsize=16)\n",
        "    if y_label:\n",
        "        plt.ylabel(y_label, fontsize=16, rotation=0)"
      ],
      "execution_count": 16,
      "outputs": []
    },
    {
      "cell_type": "code",
      "metadata": {
        "id": "ifJyjNRnjO6B",
        "colab": {
          "base_uri": "https://localhost:8080/",
          "height": 285
        },
        "outputId": "6b005fc6-e522-4547-b4d2-f605c40b78b2"
      },
      "source": [
        "fig, axes = plt.subplots(nrows=1, ncols=3, sharey=True, figsize=(12, 4))\n",
        "for col in range(3):\n",
        "    plt.sca(axes[col])\n",
        "    plot_series(X_valid[col, :, 0], y_valid[col, 0],\n",
        "                y_label=('$x(t)$' if col==0 else None))\n",
        "plt.show()"
      ],
      "execution_count": 17,
      "outputs": [
        {
          "output_type": "display_data",
          "data": {
            "image/png": "[encoded data removed]",
            "text/plain": [
              "<Figure size 864x288 with 3 Axes>"
            ]
          },
          "metadata": {
            "tags": [],
            "needs_background": "light"
          }
        }
      ]
    },
    {
      "cell_type": "markdown",
      "metadata": {
        "id": "akz9MbEhjm9x"
      },
      "source": [
        "## LSTM 모델 구성 "
      ]
    },
    {
      "cell_type": "code",
      "metadata": {
        "id": "XwyOUlSexc7h"
      },
      "source": [
        "model = Sequential()\n",
        "\n",
        "model.add(LSTM(20, input_shape=(None, 1), return_sequences=True))\n",
        "model.add(LSTM(20))\n",
        "model.add(Dense(20, activation='relu'))\n",
        "model.add(Dense(1))"
      ],
      "execution_count": 18,
      "outputs": []
    },
    {
      "cell_type": "markdown",
      "metadata": {
        "id": "_1ybPM1xtUTK"
      },
      "source": [
        "모델 구성 확인"
      ]
    },
    {
      "cell_type": "code",
      "metadata": {
        "id": "tHm6mlN6tOlc",
        "colab": {
          "base_uri": "https://localhost:8080/"
        },
        "outputId": "dc7e3394-2c5b-4c9e-e05a-82a0ef9f3703"
      },
      "source": [
        "model.summary()"
      ],
      "execution_count": 19,
      "outputs": [
        {
          "output_type": "stream",
          "text": [
            "Model: \"sequential\"\n",
            "_________________________________________________________________\n",
            "Layer (type)                 Output Shape              Param #   \n",
            "=================================================================\n",
            "lstm (LSTM)                  (None, None, 20)          1760      \n",
            "_________________________________________________________________\n",
            "lstm_1 (LSTM)                (None, 20)                3280      \n",
            "_________________________________________________________________\n",
            "dense (Dense)                (None, 20)                420       \n",
            "_________________________________________________________________\n",
            "dense_1 (Dense)              (None, 1)                 21        \n",
            "=================================================================\n",
            "Total params: 5,481\n",
            "Trainable params: 5,481\n",
            "Non-trainable params: 0\n",
            "_________________________________________________________________\n"
          ],
          "name": "stdout"
        }
      ]
    },
    {
      "cell_type": "markdown",
      "metadata": {
        "id": "_RHgmVGKtafp"
      },
      "source": [
        "초기 가중치 설정 확인"
      ]
    },
    {
      "cell_type": "code",
      "metadata": {
        "id": "Ti4QOSZOtPDa",
        "colab": {
          "base_uri": "https://localhost:8080/"
        },
        "outputId": "2b5513d1-32f4-4ec1-9d68-55a31a4fb92a"
      },
      "source": [
        "hidden1 = model.layers[0]\n",
        "hidden1.get_weights()"
      ],
      "execution_count": 20,
      "outputs": [
        {
          "output_type": "execute_result",
          "data": {
            "text/plain": [
              "[array([[ 0.1981529 , -0.17206539, -0.17838651, -0.11490017,  0.14646485,\n",
              "         -0.2508344 , -0.23900956,  0.00631705,  0.18285507,  0.04944885,\n",
              "         -0.24697381,  0.15715927, -0.229922  ,  0.06618476,  0.17561015,\n",
              "          0.20302907,  0.07438976, -0.25508925,  0.10189161, -0.22858457,\n",
              "          0.26951283,  0.16680261, -0.0694973 ,  0.10402486, -0.01635042,\n",
              "         -0.1294106 , -0.16001187, -0.1779541 ,  0.13916495, -0.02139246,\n",
              "          0.06887352,  0.267774  ,  0.12109956, -0.24546124,  0.17112884,\n",
              "          0.02730575, -0.11714353,  0.20397815, -0.08298078, -0.0734577 ,\n",
              "          0.21746227,  0.05087024, -0.03377879,  0.0376671 , -0.15067384,\n",
              "          0.11788455, -0.15523991,  0.12238976,  0.09493268, -0.20046744,\n",
              "          0.25605762, -0.09405681,  0.2516688 , -0.02155811,  0.14112565,\n",
              "         -0.2010665 ,  0.05393076, -0.11829355, -0.06470847, -0.08701405,\n",
              "         -0.01488924, -0.24110763,  0.14823544, -0.22529222, -0.12696888,\n",
              "          0.265638  ,  0.22715104, -0.14201319,  0.02527127,  0.1026738 ,\n",
              "         -0.1604323 , -0.17155367, -0.12189667, -0.25503975,  0.06231463,\n",
              "         -0.14953431,  0.18760249, -0.08926733,  0.05247438, -0.25455996]],\n",
              "       dtype=float32),\n",
              " array([[-1.16002202e-01, -1.43440112e-01,  9.10602231e-03, ...,\n",
              "         -9.57100373e-03, -1.53527096e-01, -4.89174314e-02],\n",
              "        [-1.34289220e-01,  7.56638795e-02, -6.44825101e-02, ...,\n",
              "          4.49048318e-02, -8.33115876e-02, -6.94483370e-02],\n",
              "        [ 1.99640349e-01, -2.00858727e-01,  1.49708465e-01, ...,\n",
              "         -1.73528478e-01,  2.82067657e-01, -6.52201697e-02],\n",
              "        ...,\n",
              "        [ 5.24268150e-02, -2.10388806e-02, -6.30581453e-02, ...,\n",
              "          1.11110039e-01, -2.24984222e-04, -2.11541429e-02],\n",
              "        [-4.44057286e-02,  1.57896012e-01, -4.79883794e-03, ...,\n",
              "          1.14409536e-01,  7.88129121e-02,  8.73813331e-02],\n",
              "        [-6.49072751e-02,  1.11412421e-01,  1.30376682e-01, ...,\n",
              "         -3.46176960e-02,  1.67313199e-02, -8.56726915e-02]], dtype=float32),\n",
              " array([0., 0., 0., 0., 0., 0., 0., 0., 0., 0., 0., 0., 0., 0., 0., 0., 0.,\n",
              "        0., 0., 0., 1., 1., 1., 1., 1., 1., 1., 1., 1., 1., 1., 1., 1., 1.,\n",
              "        1., 1., 1., 1., 1., 1., 0., 0., 0., 0., 0., 0., 0., 0., 0., 0., 0.,\n",
              "        0., 0., 0., 0., 0., 0., 0., 0., 0., 0., 0., 0., 0., 0., 0., 0., 0.,\n",
              "        0., 0., 0., 0., 0., 0., 0., 0., 0., 0., 0., 0.], dtype=float32)]"
            ]
          },
          "metadata": {
            "tags": []
          },
          "execution_count": 20
        }
      ]
    },
    {
      "cell_type": "markdown",
      "metadata": {
        "id": "BbOipfup6dnW"
      },
      "source": [
        "모델 컴파일"
      ]
    },
    {
      "cell_type": "code",
      "metadata": {
        "id": "-WDHEk4b6NqA"
      },
      "source": [
        "model.compile(optimizer='adam', loss='mse')"
      ],
      "execution_count": 21,
      "outputs": []
    },
    {
      "cell_type": "markdown",
      "metadata": {
        "id": "unE_Cax_uVW4"
      },
      "source": [
        "모델 훈련 조기종료, 체크포인트 설정"
      ]
    },
    {
      "cell_type": "code",
      "metadata": {
        "id": "BHQWlXc9uFeu"
      },
      "source": [
        "early_stop = EarlyStopping(monitor='val_loss', mode='min', \n",
        "                    verbose=1, patience=5)\n",
        "check_point = ModelCheckpoint('best_model.h5', verbose=1,\n",
        "            monitor='val_loss', mode='min', save_best_only=True)"
      ],
      "execution_count": 22,
      "outputs": []
    },
    {
      "cell_type": "markdown",
      "metadata": {
        "id": "5TZOm46Rtl-o"
      },
      "source": [
        "모델 컴파일"
      ]
    },
    {
      "cell_type": "code",
      "metadata": {
        "id": "nreG6uV1tObt",
        "colab": {
          "base_uri": "https://localhost:8080/"
        },
        "outputId": "4357527d-2fa8-439c-8011-4d7aa5b0ede5"
      },
      "source": [
        "epochs=30\n",
        "batch_size=96\n",
        "\n",
        "history = model.fit(x=X_train, y=y_train, \n",
        "          epochs=epochs, \n",
        "          batch_size=batch_size,\n",
        "          verbose=1,                                     \n",
        "          validation_data=(X_valid, y_valid), \n",
        "          callbacks=[early_stop, check_point])"
      ],
      "execution_count": null,
      "outputs": [
        {
          "output_type": "stream",
          "text": [
            "Epoch 1/30\n",
            "730/730 [==============================] - 15s 8ms/step - loss: 0.0206 - val_loss: 0.0016\n",
            "\n",
            "Epoch 00001: val_loss improved from inf to 0.00157, saving model to best_model.h5\n",
            "Epoch 2/30\n",
            "730/730 [==============================] - 5s 7ms/step - loss: 0.0016 - val_loss: 0.0011\n",
            "\n",
            "Epoch 00002: val_loss improved from 0.00157 to 0.00111, saving model to best_model.h5\n",
            "Epoch 3/30\n",
            "730/730 [==============================] - 5s 7ms/step - loss: 0.0012 - val_loss: 8.7151e-04\n",
            "\n",
            "Epoch 00003: val_loss improved from 0.00111 to 0.00087, saving model to best_model.h5\n",
            "Epoch 4/30\n",
            "730/730 [==============================] - 5s 7ms/step - loss: 9.6626e-04 - val_loss: 0.0011\n",
            "\n",
            "Epoch 00004: val_loss did not improve from 0.00087\n",
            "Epoch 5/30\n",
            "730/730 [==============================] - 5s 7ms/step - loss: 9.0480e-04 - val_loss: 7.4082e-04\n",
            "\n",
            "Epoch 00005: val_loss improved from 0.00087 to 0.00074, saving model to best_model.h5\n",
            "Epoch 6/30\n",
            "730/730 [==============================] - 5s 7ms/step - loss: 8.5672e-04 - val_loss: 7.6785e-04\n",
            "\n",
            "Epoch 00006: val_loss did not improve from 0.00074\n",
            "Epoch 7/30\n",
            "730/730 [==============================] - 5s 7ms/step - loss: 8.2834e-04 - val_loss: 7.7732e-04\n",
            "\n",
            "Epoch 00007: val_loss did not improve from 0.00074\n",
            "Epoch 8/30\n",
            " 95/730 [==>...........................] - ETA: 3s - loss: 8.8626e-04"
          ],
          "name": "stdout"
        }
      ]
    },
    {
      "cell_type": "markdown",
      "metadata": {
        "id": "955KwcDSkFiZ"
      },
      "source": [
        "신경망 모델의 학습상태를 출력하는 함수입니다."
      ]
    },
    {
      "cell_type": "code",
      "metadata": {
        "id": "tjpStVEhpt-I"
      },
      "source": [
        "def plot_learning_curves(loss, val_loss):\n",
        "    plt.plot(np.arange(len(loss)) + 0.5, loss, \"b.-\", label=\"Training loss\")\n",
        "    plt.plot(np.arange(len(val_loss)) + 1, val_loss, \"r.-\", label=\"Validation loss\")\n",
        "    plt.axis([1, 10, 0, 0.05])\n",
        "    plt.legend(fontsize=14)\n",
        "    plt.xlabel(\"Epochs\")\n",
        "    plt.ylabel(\"Loss\")\n",
        "    plt.grid(True)\n",
        "\n",
        "plot_learning_curves(history.history[\"loss\"], history.history[\"val_loss\"])\n",
        "plt.show()"
      ],
      "execution_count": null,
      "outputs": []
    },
    {
      "cell_type": "markdown",
      "metadata": {
        "id": "-ByU7qm9krul"
      },
      "source": [
        "## 검증 데이터셋으로 신경망 모델을 평가합니다."
      ]
    },
    {
      "cell_type": "code",
      "metadata": {
        "id": "igxMlk1Ept-0"
      },
      "source": [
        "model.evaluate(X_valid, y_valid)"
      ],
      "execution_count": null,
      "outputs": []
    },
    {
      "cell_type": "markdown",
      "metadata": {
        "id": "2dDO7Yo3mfgs"
      },
      "source": [
        "## 예측 결과를 확인합니다."
      ]
    },
    {
      "cell_type": "code",
      "metadata": {
        "id": "k7riqZKkaORa"
      },
      "source": [
        "time_step = 200\n",
        "n_step = 20\n",
        "y_pred = model.predict(X_valid[time_step].reshape(1, n_step, 1))\n",
        "\n",
        "\n",
        "fig, axes = plt.subplots(nrows=1, ncols=1, sharey=True, figsize=(12, 4))\n",
        "plot_series(X_valid[time_step, :, 0]*max + min, \n",
        "            y_valid[time_step, 0]*max + min, \n",
        "            y_pred[0, 0]*max + min)\n",
        "\n",
        "input_data = X_valid[time_step, :, 0]*max + min\n",
        "print(\"입력 데이터 : {}\".format(np.round(input_data,2)))\n",
        "predict_value = y_pred[0, 0]*max + min\n",
        "print(\"예측값 : {}\".format(np.round(predict_value, 2)))\n",
        "real_value = y_valid[time_step, 0]*max + min\n",
        "print(\"실제값 : {}\".format(np.round(real_value)))\n",
        "error = abs(predict_value-real_value)\n",
        "error_rate = error/real_value*100\n",
        "print(\"오차 : {}\".format(np.round(error, 2)))\n",
        "print(\"오차율 : {}%\".format(np.round(error_rate, 2)))"
      ],
      "execution_count": null,
      "outputs": []
    },
    {
      "cell_type": "markdown",
      "metadata": {
        "id": "JgOfPWLGlFv-"
      },
      "source": [
        "## 모델 저장"
      ]
    },
    {
      "cell_type": "code",
      "metadata": {
        "id": "h94CvnW5lYSq"
      },
      "source": [
        "model.save('my_model.h5')"
      ],
      "execution_count": null,
      "outputs": []
    },
    {
      "cell_type": "markdown",
      "metadata": {
        "id": "1Li7wRZPla7D"
      },
      "source": [
        "## 저장한 모델 로드"
      ]
    },
    {
      "cell_type": "code",
      "metadata": {
        "id": "RVKXTmuSloz1"
      },
      "source": [
        "model = load_model('best_model.h5')\n",
        "# model = load_model('my_model.h5')"
      ],
      "execution_count": null,
      "outputs": []
    },
    {
      "cell_type": "markdown",
      "metadata": {
        "id": "ApfDCSKJltFK"
      },
      "source": [
        "## 저장한 모델을 사용하여 예측"
      ]
    },
    {
      "cell_type": "code",
      "metadata": {
        "id": "ZhPArIawl02C"
      },
      "source": [
        "time_step = 200\n",
        "y_pred = model.predict(X_valid[time_step].reshape(1, n_steps, 1))\n",
        "\n",
        "fig, axes = plt.subplots(nrows=1, ncols=1, sharey=True, figsize=(12, 4))\n",
        "plot_series(X_valid[time_step, :, 0]*max + min, \n",
        "            y_valid[time_step, 0]*max + min, \n",
        "            y_pred[0, 0]*max + min)\n",
        "\n",
        "input_data = X_valid[time_step, :, 0]*max + min\n",
        "print(\"입력 데이터 : {}\".format(np.round(input_data,2)))\n",
        "predict_value = y_pred[0, 0]*max + min\n",
        "print(\"예측값 : {}\".format(np.round(predict_value, 2)))\n",
        "real_value = y_valid[time_step, 0]*max + min\n",
        "print(\"실제값 : {}\".format(np.round(real_value)))\n",
        "error = abs(predict_value-real_value)\n",
        "error_rate = error/real_value*100\n",
        "print(\"오차 : {}\".format(np.round(error, 2)))\n",
        "print(\"오차율 : {}%\".format(np.round(error_rate, 2)))"
      ],
      "execution_count": null,
      "outputs": []
    },
    {
      "cell_type": "code",
      "metadata": {
        "id": "Ry31nlr4WNFp"
      },
      "source": [
        ""
      ],
      "execution_count": null,
      "outputs": []
    }
  ]
}