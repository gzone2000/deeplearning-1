{
  "nbformat": 4,
  "nbformat_minor": 0,
  "metadata": {
    "kernelspec": {
      "display_name": "Python 3",
      "language": "python",
      "name": "python3"
    },
    "language_info": {
      "codemirror_mode": {
        "name": "ipython",
        "version": 3
      },
      "file_extension": ".py",
      "mimetype": "text/x-python",
      "name": "python",
      "nbconvert_exporter": "python",
      "pygments_lexer": "ipython3",
      "version": "3.7.9"
    },
    "colab": {
      "name": "01-Python.ipynb",
      "provenance": [],
      "include_colab_link": true
    }
  },
  "cells": [
    {
      "cell_type": "markdown",
      "metadata": {
        "id": "view-in-github",
        "colab_type": "text"
      },
      "source": [
        "<a href=\"https://colab.research.google.com/github/kgpark88/deeplearning/blob/master/01_Python.ipynb\" target=\"_parent\"><img src=\"https://colab.research.google.com/assets/colab-badge.svg\" alt=\"Open In Colab\"/></a>"
      ]
    },
    {
      "cell_type": "markdown",
      "metadata": {
        "id": "5gABK4ifn7Ii"
      },
      "source": [
        "# 파이썬 기본\n",
        "____\n",
        "* 데이터 타입\n",
        "    * 숫자(Number)\n",
        "    * 문자열(String)\n",
        "    * 리스트(List)\n",
        "    * 딕셔너리(Dictionary)\n",
        "    * 불린(Boolean)\n",
        "    * 튜플(Tuple) \n",
        "    * 셋(Set)\n",
        "* 비교 연산자\n",
        "* if, elif, else 제어문\n",
        "* for 루프\n",
        "* while 루프\n",
        "* range()\n",
        "* list comprehension\n",
        "* 함수(functions)\n",
        "* 람다 식(lambda expressions)\n",
        "* 맵과 필터(map and filter)\n",
        "* 내장 메서드(methods)\n"
      ]
    },
    {
      "cell_type": "markdown",
      "metadata": {
        "id": "YB4oKRbxn7Ii"
      },
      "source": [
        "## 데이터 타입\n",
        "\n",
        "### 숫자(Number)"
      ]
    },
    {
      "cell_type": "code",
      "metadata": {
        "id": "vlzfmC2an7Ii",
        "outputId": "b7073464-af28-467a-deef-4080d41a215c"
      },
      "source": [
        "1 + 1"
      ],
      "execution_count": null,
      "outputs": [
        {
          "output_type": "execute_result",
          "data": {
            "text/plain": [
              "2"
            ]
          },
          "metadata": {
            "tags": []
          },
          "execution_count": 1
        }
      ]
    },
    {
      "cell_type": "code",
      "metadata": {
        "id": "Qn7fN2_vn7Ij",
        "outputId": "fec7ffce-910a-4ace-e08e-88c0868dea05"
      },
      "source": [
        "1 * 3"
      ],
      "execution_count": null,
      "outputs": [
        {
          "output_type": "execute_result",
          "data": {
            "text/plain": [
              "3"
            ]
          },
          "metadata": {
            "tags": []
          },
          "execution_count": 2
        }
      ]
    },
    {
      "cell_type": "code",
      "metadata": {
        "id": "1WYni1ion7Ij",
        "outputId": "8b26b3fc-fd98-41b5-f2db-b66c7c120d29"
      },
      "source": [
        "1 / 2"
      ],
      "execution_count": null,
      "outputs": [
        {
          "output_type": "execute_result",
          "data": {
            "text/plain": [
              "0.5"
            ]
          },
          "metadata": {
            "tags": []
          },
          "execution_count": 3
        }
      ]
    },
    {
      "cell_type": "code",
      "metadata": {
        "id": "0HKnXKCIn7Ij",
        "outputId": "b2a56819-f158-457d-a479-18f13008a997"
      },
      "source": [
        "2 ** 4"
      ],
      "execution_count": null,
      "outputs": [
        {
          "output_type": "execute_result",
          "data": {
            "text/plain": [
              "16"
            ]
          },
          "metadata": {
            "tags": []
          },
          "execution_count": 4
        }
      ]
    },
    {
      "cell_type": "code",
      "metadata": {
        "id": "xWYQP6Bqn7Ik",
        "outputId": "ae745ca7-8fe6-4515-d049-9918d15259a2"
      },
      "source": [
        "4 % 2"
      ],
      "execution_count": null,
      "outputs": [
        {
          "output_type": "execute_result",
          "data": {
            "text/plain": [
              "0"
            ]
          },
          "metadata": {
            "tags": []
          },
          "execution_count": 5
        }
      ]
    },
    {
      "cell_type": "code",
      "metadata": {
        "id": "VcN8vyX7n7Ik",
        "outputId": "83de9ad3-5a31-4f7e-f2a2-f72d254720d2"
      },
      "source": [
        "5 % 2"
      ],
      "execution_count": null,
      "outputs": [
        {
          "output_type": "execute_result",
          "data": {
            "text/plain": [
              "1"
            ]
          },
          "metadata": {
            "tags": []
          },
          "execution_count": 6
        }
      ]
    },
    {
      "cell_type": "code",
      "metadata": {
        "id": "sL277q_8n7Ik",
        "outputId": "cdd0f77a-5c07-4883-9e4f-43d0c38fbe2c"
      },
      "source": [
        "(2 + 3) * (5 + 5)"
      ],
      "execution_count": null,
      "outputs": [
        {
          "output_type": "execute_result",
          "data": {
            "text/plain": [
              "50"
            ]
          },
          "metadata": {
            "tags": []
          },
          "execution_count": 7
        }
      ]
    },
    {
      "cell_type": "markdown",
      "metadata": {
        "id": "LxfIzocpn7Ik"
      },
      "source": [
        "### 변수 할당(Variable Assignment)"
      ]
    },
    {
      "cell_type": "code",
      "metadata": {
        "id": "WUrXwxskn7Ik"
      },
      "source": [
        "x = 2"
      ],
      "execution_count": null,
      "outputs": []
    },
    {
      "cell_type": "code",
      "metadata": {
        "id": "nUD9il34n7Ik"
      },
      "source": [
        "y = 3"
      ],
      "execution_count": null,
      "outputs": []
    },
    {
      "cell_type": "code",
      "metadata": {
        "id": "0PpRsaaon7Ik"
      },
      "source": [
        "z = x + y"
      ],
      "execution_count": null,
      "outputs": []
    },
    {
      "cell_type": "code",
      "metadata": {
        "id": "cgQPJNYRn7Ik",
        "outputId": "845ae7b8-092e-4bda-b55f-17d3a1cd2047"
      },
      "source": [
        "z"
      ],
      "execution_count": null,
      "outputs": [
        {
          "output_type": "execute_result",
          "data": {
            "text/plain": [
              "5"
            ]
          },
          "metadata": {
            "tags": []
          },
          "execution_count": 11
        }
      ]
    },
    {
      "cell_type": "markdown",
      "metadata": {
        "id": "kmLFV35mn7Ik"
      },
      "source": [
        "### 문자열(String)"
      ]
    },
    {
      "cell_type": "code",
      "metadata": {
        "id": "D1rlfVSsn7Ik",
        "outputId": "a4f5993d-d997-4c8c-f3d2-d8fde3449cd9"
      },
      "source": [
        "'single quotes'"
      ],
      "execution_count": null,
      "outputs": [
        {
          "output_type": "execute_result",
          "data": {
            "text/plain": [
              "'single quotes'"
            ]
          },
          "metadata": {
            "tags": []
          },
          "execution_count": 4
        }
      ]
    },
    {
      "cell_type": "code",
      "metadata": {
        "id": "8IW71z8Xn7Ik"
      },
      "source": [
        ""
      ],
      "execution_count": null,
      "outputs": []
    },
    {
      "cell_type": "code",
      "metadata": {
        "id": "Bz-0ET-2n7Ik"
      },
      "source": [
        "\"double quotes\""
      ],
      "execution_count": null,
      "outputs": []
    },
    {
      "cell_type": "markdown",
      "metadata": {
        "id": "NS1-rGrXn7Ik"
      },
      "source": [
        "### 출력(Printing)"
      ]
    },
    {
      "cell_type": "code",
      "metadata": {
        "id": "qt4t_mqCn7Ik"
      },
      "source": [
        ""
      ],
      "execution_count": null,
      "outputs": []
    },
    {
      "cell_type": "code",
      "metadata": {
        "id": "Ze34z4EQn7Ik",
        "outputId": "58c9c354-b9b3-4f3d-bd0f-70e5418107d7"
      },
      "source": [
        "x"
      ],
      "execution_count": null,
      "outputs": [
        {
          "output_type": "execute_result",
          "data": {
            "text/plain": [
              "'hello'"
            ]
          },
          "metadata": {
            "tags": []
          },
          "execution_count": 15
        }
      ]
    },
    {
      "cell_type": "code",
      "metadata": {
        "id": "727alGp2n7Ik",
        "outputId": "affafebb-3f0f-4029-ec28-c402b7e430e4"
      },
      "source": [
        "print(x)"
      ],
      "execution_count": null,
      "outputs": [
        {
          "output_type": "stream",
          "text": [
            "hello\n"
          ],
          "name": "stdout"
        }
      ]
    },
    {
      "cell_type": "code",
      "metadata": {
        "id": "Ys1dgHE1n7Ik"
      },
      "source": [
        "num = 12\n",
        "name = 'Danny'"
      ],
      "execution_count": null,
      "outputs": []
    },
    {
      "cell_type": "code",
      "metadata": {
        "id": "h17pSORon7Ik",
        "outputId": "39251584-acf1-4712-9fa4-50723c6378d0"
      },
      "source": [
        "print('My number is: {one}, and my name is: {two}'.format(one=num,two=name))"
      ],
      "execution_count": null,
      "outputs": [
        {
          "output_type": "stream",
          "text": [
            "My number is: 12, and my name is: Danny\n"
          ],
          "name": "stdout"
        }
      ]
    },
    {
      "cell_type": "code",
      "metadata": {
        "id": "lRYHiydin7Ik",
        "outputId": "dcb2e920-6365-4c53-8dc5-2b0cbebe6bd3"
      },
      "source": [
        "print('My number is: {}, and my name is: {}'.format(num,name))"
      ],
      "execution_count": null,
      "outputs": [
        {
          "output_type": "stream",
          "text": [
            "My number is: 12, and my name is: Danny\n"
          ],
          "name": "stdout"
        }
      ]
    },
    {
      "cell_type": "markdown",
      "metadata": {
        "id": "r5kWu9oln7Ik"
      },
      "source": [
        "### 리스트(List)"
      ]
    },
    {
      "cell_type": "code",
      "metadata": {
        "id": "JRvDlLAqn7Ik",
        "outputId": "37d08972-6f04-442f-9c75-809b5c2b7c68"
      },
      "source": [
        "[1,2,3]"
      ],
      "execution_count": null,
      "outputs": [
        {
          "output_type": "execute_result",
          "data": {
            "text/plain": [
              "[1, 2, 3]"
            ]
          },
          "metadata": {
            "tags": []
          },
          "execution_count": 20
        }
      ]
    },
    {
      "cell_type": "code",
      "metadata": {
        "id": "53px4-Pyn7Il",
        "outputId": "cf1189aa-9242-4d36-ee02-ee157bf377a4"
      },
      "source": [
        "['hi',1,[1,2]]"
      ],
      "execution_count": null,
      "outputs": [
        {
          "output_type": "execute_result",
          "data": {
            "text/plain": [
              "['hi', 1, [1, 2]]"
            ]
          },
          "metadata": {
            "tags": []
          },
          "execution_count": 21
        }
      ]
    },
    {
      "cell_type": "code",
      "metadata": {
        "id": "hkdbQ_0an7Il"
      },
      "source": [
        "my_list = ['a','b','c']"
      ],
      "execution_count": null,
      "outputs": []
    },
    {
      "cell_type": "code",
      "metadata": {
        "id": "odQxzw7Zn7Il"
      },
      "source": [
        "my_list.append('d')"
      ],
      "execution_count": null,
      "outputs": []
    },
    {
      "cell_type": "code",
      "metadata": {
        "id": "aTqfxdODn7Il",
        "outputId": "bccddcab-ba18-4552-baca-efebd2cd3b20"
      },
      "source": [
        "my_list"
      ],
      "execution_count": null,
      "outputs": [
        {
          "output_type": "execute_result",
          "data": {
            "text/plain": [
              "['a', 'b', 'c', 'd']"
            ]
          },
          "metadata": {
            "tags": []
          },
          "execution_count": 24
        }
      ]
    },
    {
      "cell_type": "code",
      "metadata": {
        "id": "l7aFFO7on7Il",
        "outputId": "bbef9f1b-3a8e-4161-f492-bad37f98320e"
      },
      "source": [
        "my_list[0]"
      ],
      "execution_count": null,
      "outputs": [
        {
          "output_type": "execute_result",
          "data": {
            "text/plain": [
              "'a'"
            ]
          },
          "metadata": {
            "tags": []
          },
          "execution_count": 25
        }
      ]
    },
    {
      "cell_type": "code",
      "metadata": {
        "id": "amFEDUZ9n7Il",
        "outputId": "d75fb048-7a56-4e03-9147-d805781d2fe3"
      },
      "source": [
        "my_list[1]"
      ],
      "execution_count": null,
      "outputs": [
        {
          "output_type": "execute_result",
          "data": {
            "text/plain": [
              "'b'"
            ]
          },
          "metadata": {
            "tags": []
          },
          "execution_count": 26
        }
      ]
    },
    {
      "cell_type": "code",
      "metadata": {
        "id": "CR_QFOgGn7Il",
        "outputId": "ae52553d-d338-4a62-91b2-2f9dfbc37ab5"
      },
      "source": [
        "my_list[1:]"
      ],
      "execution_count": null,
      "outputs": [
        {
          "output_type": "execute_result",
          "data": {
            "text/plain": [
              "['b', 'c', 'd']"
            ]
          },
          "metadata": {
            "tags": []
          },
          "execution_count": 27
        }
      ]
    },
    {
      "cell_type": "code",
      "metadata": {
        "id": "GJgPyBU4n7Il",
        "outputId": "2da2c8c3-8d03-4a61-9c3b-c70f8fa6785f"
      },
      "source": [
        "my_list[:1]"
      ],
      "execution_count": null,
      "outputs": [
        {
          "output_type": "execute_result",
          "data": {
            "text/plain": [
              "['a']"
            ]
          },
          "metadata": {
            "tags": []
          },
          "execution_count": 28
        }
      ]
    },
    {
      "cell_type": "code",
      "metadata": {
        "id": "csRhoIgKn7Il"
      },
      "source": [
        "my_list[0] = 'NEW'"
      ],
      "execution_count": null,
      "outputs": []
    },
    {
      "cell_type": "code",
      "metadata": {
        "id": "4sPozi2Gn7Il",
        "outputId": "891ecba1-03f4-42d7-ee04-3cdd45e75605"
      },
      "source": [
        "my_list"
      ],
      "execution_count": null,
      "outputs": [
        {
          "output_type": "execute_result",
          "data": {
            "text/plain": [
              "['NEW', 'b', 'c', 'd']"
            ]
          },
          "metadata": {
            "tags": []
          },
          "execution_count": 30
        }
      ]
    },
    {
      "cell_type": "code",
      "metadata": {
        "id": "Fa-ao9W0n7Il"
      },
      "source": [
        "nest = [1,2,3,[4,5,['target']]]"
      ],
      "execution_count": null,
      "outputs": []
    },
    {
      "cell_type": "code",
      "metadata": {
        "id": "ZUciJy1Pn7Il",
        "outputId": "4a7c8632-115b-4fe9-92c0-d1f336c21077"
      },
      "source": [
        "nest[3]"
      ],
      "execution_count": null,
      "outputs": [
        {
          "output_type": "execute_result",
          "data": {
            "text/plain": [
              "[4, 5, ['target']]"
            ]
          },
          "metadata": {
            "tags": []
          },
          "execution_count": 32
        }
      ]
    },
    {
      "cell_type": "code",
      "metadata": {
        "id": "X35C4qFFn7Il",
        "outputId": "34aebcb1-b295-4eb1-ab10-c4e7fdf420ea"
      },
      "source": [
        "nest[3][2]"
      ],
      "execution_count": null,
      "outputs": [
        {
          "output_type": "execute_result",
          "data": {
            "text/plain": [
              "['target']"
            ]
          },
          "metadata": {
            "tags": []
          },
          "execution_count": 33
        }
      ]
    },
    {
      "cell_type": "code",
      "metadata": {
        "id": "sq9EIKaqn7Il",
        "outputId": "ad35cc17-9da8-46b4-925d-3cc9724f4668"
      },
      "source": [
        "nest[3][2][0]"
      ],
      "execution_count": null,
      "outputs": [
        {
          "output_type": "execute_result",
          "data": {
            "text/plain": [
              "'target'"
            ]
          },
          "metadata": {
            "tags": []
          },
          "execution_count": 34
        }
      ]
    },
    {
      "cell_type": "markdown",
      "metadata": {
        "id": "vcuixgnTn7Il"
      },
      "source": [
        "### 딕셔너리(Dictionary)"
      ]
    },
    {
      "cell_type": "code",
      "metadata": {
        "id": "o0IZIK74n7Il"
      },
      "source": [
        "d = {'key1':'item1','key2':'item2'}"
      ],
      "execution_count": null,
      "outputs": []
    },
    {
      "cell_type": "code",
      "metadata": {
        "id": "Xjeej6Bqn7Il",
        "outputId": "ee81e37c-83ef-4e0b-8535-3a379fe0cb6e"
      },
      "source": [
        "d"
      ],
      "execution_count": null,
      "outputs": [
        {
          "output_type": "execute_result",
          "data": {
            "text/plain": [
              "{'key1': 'item1', 'key2': 'item2'}"
            ]
          },
          "metadata": {
            "tags": []
          },
          "execution_count": 36
        }
      ]
    },
    {
      "cell_type": "code",
      "metadata": {
        "id": "ODzvm1Jon7Il",
        "outputId": "594503b4-7b0b-4767-a8fd-926cd6651247"
      },
      "source": [
        "d['key1']"
      ],
      "execution_count": null,
      "outputs": [
        {
          "output_type": "execute_result",
          "data": {
            "text/plain": [
              "'item1'"
            ]
          },
          "metadata": {
            "tags": []
          },
          "execution_count": 37
        }
      ]
    },
    {
      "cell_type": "markdown",
      "metadata": {
        "id": "XzjDxhjjn7Il"
      },
      "source": [
        "### 불린(Boolean)"
      ]
    },
    {
      "cell_type": "code",
      "metadata": {
        "id": "bq0RPedZn7Il",
        "outputId": "7971e4ac-9651-440f-9c50-fea4080863fd"
      },
      "source": [
        "True"
      ],
      "execution_count": null,
      "outputs": [
        {
          "output_type": "execute_result",
          "data": {
            "text/plain": [
              "True"
            ]
          },
          "metadata": {
            "tags": []
          },
          "execution_count": 38
        }
      ]
    },
    {
      "cell_type": "code",
      "metadata": {
        "id": "a9OxMne6n7Il",
        "outputId": "df30b6a8-a68b-464c-9fa1-12b27884d299"
      },
      "source": [
        "False"
      ],
      "execution_count": null,
      "outputs": [
        {
          "output_type": "execute_result",
          "data": {
            "text/plain": [
              "False"
            ]
          },
          "metadata": {
            "tags": []
          },
          "execution_count": 39
        }
      ]
    },
    {
      "cell_type": "markdown",
      "metadata": {
        "id": "jzEI99j2n7Il"
      },
      "source": [
        "### 튜플(Tuple)"
      ]
    },
    {
      "cell_type": "code",
      "metadata": {
        "id": "lDUfuBNsn7Il"
      },
      "source": [
        "t = (1,2,3)"
      ],
      "execution_count": null,
      "outputs": []
    },
    {
      "cell_type": "code",
      "metadata": {
        "id": "5yOkdwKOn7Il",
        "outputId": "381adc31-4c4f-44fa-e33e-a88371ba7d6e"
      },
      "source": [
        "t[0]"
      ],
      "execution_count": null,
      "outputs": [
        {
          "output_type": "execute_result",
          "data": {
            "text/plain": [
              "1"
            ]
          },
          "metadata": {
            "tags": []
          },
          "execution_count": 41
        }
      ]
    },
    {
      "cell_type": "code",
      "metadata": {
        "id": "527LUY1cn7Il",
        "outputId": "7aa570ab-05a5-47a9-a2cf-68c13398a486"
      },
      "source": [
        "t[0] = 'NEW'"
      ],
      "execution_count": null,
      "outputs": [
        {
          "output_type": "error",
          "ename": "TypeError",
          "evalue": "'tuple' object does not support item assignment",
          "traceback": [
            "\u001b[1;31m---------------------------------------------------------------------------\u001b[0m",
            "\u001b[1;31mTypeError\u001b[0m                                 Traceback (most recent call last)",
            "\u001b[1;32m<ipython-input-42-93bfe9be1549>\u001b[0m in \u001b[0;36m<module>\u001b[1;34m\u001b[0m\n\u001b[1;32m----> 1\u001b[1;33m \u001b[0mt\u001b[0m\u001b[1;33m[\u001b[0m\u001b[1;36m0\u001b[0m\u001b[1;33m]\u001b[0m \u001b[1;33m=\u001b[0m \u001b[1;34m'NEW'\u001b[0m\u001b[1;33m\u001b[0m\u001b[1;33m\u001b[0m\u001b[0m\n\u001b[0m",
            "\u001b[1;31mTypeError\u001b[0m: 'tuple' object does not support item assignment"
          ]
        }
      ]
    },
    {
      "cell_type": "markdown",
      "metadata": {
        "id": "6BZiaX4sn7Il"
      },
      "source": [
        "### 셋(Set)"
      ]
    },
    {
      "cell_type": "code",
      "metadata": {
        "id": "eKJrPvDZn7Il",
        "outputId": "f419e706-a921-49cc-d593-68b7202073eb"
      },
      "source": [
        "{1,2,3}"
      ],
      "execution_count": null,
      "outputs": [
        {
          "output_type": "execute_result",
          "data": {
            "text/plain": [
              "{1, 2, 3}"
            ]
          },
          "metadata": {
            "tags": []
          },
          "execution_count": 43
        }
      ]
    },
    {
      "cell_type": "code",
      "metadata": {
        "id": "QOZ6X57-n7Im",
        "outputId": "e1c0bfe0-a229-4672-b621-b84c3aba38b9"
      },
      "source": [
        "{1,2,3,1,2,1,2,3,3,3,3,2,2,2,1,1,2}"
      ],
      "execution_count": null,
      "outputs": [
        {
          "output_type": "execute_result",
          "data": {
            "text/plain": [
              "{1, 2, 3}"
            ]
          },
          "metadata": {
            "tags": []
          },
          "execution_count": 44
        }
      ]
    },
    {
      "cell_type": "markdown",
      "metadata": {
        "id": "RPE458gIn7Im"
      },
      "source": [
        "## 비교 연산자(Comparison Operator)"
      ]
    },
    {
      "cell_type": "code",
      "metadata": {
        "id": "I1yu_B29n7Im",
        "outputId": "f8ef6a1c-6013-4f87-93c6-0c16846dab98"
      },
      "source": [
        "1 > 2"
      ],
      "execution_count": null,
      "outputs": [
        {
          "output_type": "execute_result",
          "data": {
            "text/plain": [
              "False"
            ]
          },
          "metadata": {
            "tags": []
          },
          "execution_count": 45
        }
      ]
    },
    {
      "cell_type": "code",
      "metadata": {
        "id": "Jemck3LSn7Im",
        "outputId": "241ed8ce-fe0c-4f54-bd6c-b70047f9145b"
      },
      "source": [
        "1 < 2"
      ],
      "execution_count": null,
      "outputs": [
        {
          "output_type": "execute_result",
          "data": {
            "text/plain": [
              "True"
            ]
          },
          "metadata": {
            "tags": []
          },
          "execution_count": 46
        }
      ]
    },
    {
      "cell_type": "code",
      "metadata": {
        "id": "meq8cI4Nn7Im",
        "outputId": "6b3a885f-771b-4be5-c5db-800975371dcf"
      },
      "source": [
        "1 >= 1"
      ],
      "execution_count": null,
      "outputs": [
        {
          "output_type": "execute_result",
          "data": {
            "text/plain": [
              "True"
            ]
          },
          "metadata": {
            "tags": []
          },
          "execution_count": 47
        }
      ]
    },
    {
      "cell_type": "code",
      "metadata": {
        "id": "Lexkapaxn7Im",
        "outputId": "88396c2e-dd52-46bd-a458-fcccbcc8030a"
      },
      "source": [
        "1 <= 4"
      ],
      "execution_count": null,
      "outputs": [
        {
          "output_type": "execute_result",
          "data": {
            "text/plain": [
              "True"
            ]
          },
          "metadata": {
            "tags": []
          },
          "execution_count": 48
        }
      ]
    },
    {
      "cell_type": "code",
      "metadata": {
        "id": "H4a1be8rn7Im",
        "outputId": "10abf97d-e359-4b61-b12c-26860fcfc9ba"
      },
      "source": [
        "1 == 1"
      ],
      "execution_count": null,
      "outputs": [
        {
          "output_type": "execute_result",
          "data": {
            "text/plain": [
              "True"
            ]
          },
          "metadata": {
            "tags": []
          },
          "execution_count": 49
        }
      ]
    },
    {
      "cell_type": "code",
      "metadata": {
        "id": "AbActwYfn7Im",
        "outputId": "af7054a7-af07-4158-d19a-57e5abac8539"
      },
      "source": [
        "'hi' == 'bye'"
      ],
      "execution_count": null,
      "outputs": [
        {
          "output_type": "execute_result",
          "data": {
            "text/plain": [
              "False"
            ]
          },
          "metadata": {
            "tags": []
          },
          "execution_count": 50
        }
      ]
    },
    {
      "cell_type": "markdown",
      "metadata": {
        "id": "NA_3LEpCn7Im"
      },
      "source": [
        "## 논리 연산자(Logic Operator)"
      ]
    },
    {
      "cell_type": "code",
      "metadata": {
        "id": "K7iDPIV6n7Im",
        "outputId": "7b560d4f-60b7-4f36-f432-052026854073"
      },
      "source": [
        "(1 > 2) and (2 < 3)"
      ],
      "execution_count": null,
      "outputs": [
        {
          "output_type": "execute_result",
          "data": {
            "text/plain": [
              "False"
            ]
          },
          "metadata": {
            "tags": []
          },
          "execution_count": 51
        }
      ]
    },
    {
      "cell_type": "code",
      "metadata": {
        "id": "NG2ofjUHn7Im",
        "outputId": "bd814c1b-eb2e-4aad-e2f7-83e8b54bdb3d"
      },
      "source": [
        "(1 > 2) or (2 < 3)"
      ],
      "execution_count": null,
      "outputs": [
        {
          "output_type": "execute_result",
          "data": {
            "text/plain": [
              "True"
            ]
          },
          "metadata": {
            "tags": []
          },
          "execution_count": 52
        }
      ]
    },
    {
      "cell_type": "code",
      "metadata": {
        "id": "XYh5iOmpn7Im",
        "outputId": "eac64669-f40d-4238-a179-6d3e15720cb6"
      },
      "source": [
        "(1 == 2) or (2 == 3) or (4 == 4)"
      ],
      "execution_count": null,
      "outputs": [
        {
          "output_type": "execute_result",
          "data": {
            "text/plain": [
              "True"
            ]
          },
          "metadata": {
            "tags": []
          },
          "execution_count": 53
        }
      ]
    },
    {
      "cell_type": "markdown",
      "metadata": {
        "id": "ZYsbVfKnn7Im"
      },
      "source": [
        "## if,elif, else 제어문(Statement)"
      ]
    },
    {
      "cell_type": "code",
      "metadata": {
        "id": "Mj4iJ9UEn7Im",
        "outputId": "4d9d7996-7557-455c-e1c5-a78c27aaef57"
      },
      "source": [
        "if 1 < 2:\n",
        "    print('Yep!')"
      ],
      "execution_count": null,
      "outputs": [
        {
          "output_type": "stream",
          "text": [
            "Yep!\n"
          ],
          "name": "stdout"
        }
      ]
    },
    {
      "cell_type": "code",
      "metadata": {
        "id": "Nvo6FJJ3n7Im",
        "outputId": "c75945b9-fda3-4f8e-ce03-62fb6754846f"
      },
      "source": [
        "if 1 < 2:\n",
        "    print('yep!')"
      ],
      "execution_count": null,
      "outputs": [
        {
          "output_type": "stream",
          "text": [
            "yep!\n"
          ],
          "name": "stdout"
        }
      ]
    },
    {
      "cell_type": "code",
      "metadata": {
        "id": "0yGvM33kn7Im",
        "outputId": "a455344c-e43b-4154-e720-f99e0bd43f02"
      },
      "source": [
        "if 1 < 2:\n",
        "    print('first')\n",
        "else:\n",
        "    print('last')"
      ],
      "execution_count": null,
      "outputs": [
        {
          "output_type": "stream",
          "text": [
            "first\n"
          ],
          "name": "stdout"
        }
      ]
    },
    {
      "cell_type": "code",
      "metadata": {
        "id": "e4XrpGbqn7Im",
        "outputId": "4ffb51ac-8a10-4444-a981-f6bbbf64564e"
      },
      "source": [
        "if 1 > 2:\n",
        "    print('first')\n",
        "else:\n",
        "    print('last')"
      ],
      "execution_count": null,
      "outputs": [
        {
          "output_type": "stream",
          "text": [
            "last\n"
          ],
          "name": "stdout"
        }
      ]
    },
    {
      "cell_type": "code",
      "metadata": {
        "id": "EcJDuS1In7Im",
        "outputId": "cee0d008-dd47-4b1e-cbf9-f9d36bc5e740"
      },
      "source": [
        "if 1 == 2:\n",
        "    print('first')\n",
        "elif 3 == 3:\n",
        "    print('middle')\n",
        "else:\n",
        "    print('Last')"
      ],
      "execution_count": null,
      "outputs": [
        {
          "output_type": "stream",
          "text": [
            "middle\n"
          ],
          "name": "stdout"
        }
      ]
    },
    {
      "cell_type": "markdown",
      "metadata": {
        "id": "AHaK4n5-n7Im"
      },
      "source": [
        "## for 루프(Loop)"
      ]
    },
    {
      "cell_type": "code",
      "metadata": {
        "id": "C6-6UQE7n7Im"
      },
      "source": [
        "seq = [1,2,3,4,5]"
      ],
      "execution_count": null,
      "outputs": []
    },
    {
      "cell_type": "code",
      "metadata": {
        "scrolled": true,
        "id": "AoCDiV-Rn7Im",
        "outputId": "7d26927a-3c36-4ff2-af2e-c99903b227c4"
      },
      "source": [
        "for item in seq:\n",
        "    print(item)"
      ],
      "execution_count": null,
      "outputs": [
        {
          "output_type": "stream",
          "text": [
            "1\n",
            "2\n",
            "3\n",
            "4\n",
            "5\n"
          ],
          "name": "stdout"
        }
      ]
    },
    {
      "cell_type": "code",
      "metadata": {
        "id": "l8asZ13_n7Im",
        "outputId": "0b10c917-21a8-45ba-9255-ac6c5da4298b"
      },
      "source": [
        "for item in seq:\n",
        "    print(item+item)"
      ],
      "execution_count": null,
      "outputs": [
        {
          "output_type": "stream",
          "text": [
            "2\n",
            "4\n",
            "6\n",
            "8\n",
            "10\n"
          ],
          "name": "stdout"
        }
      ]
    },
    {
      "cell_type": "markdown",
      "metadata": {
        "id": "vqgjX-3jn7Im"
      },
      "source": [
        "## while 루프(Loop)"
      ]
    },
    {
      "cell_type": "code",
      "metadata": {
        "scrolled": true,
        "id": "PWUACGKUn7Im",
        "outputId": "cf6767db-5c2e-4302-e4ee-7d84ae84de45"
      },
      "source": [
        "i = 1\n",
        "while i < 5:\n",
        "    print('i is: {}'.format(i))\n",
        "    i = i+1"
      ],
      "execution_count": null,
      "outputs": [
        {
          "output_type": "stream",
          "text": [
            "i is: 1\n",
            "i is: 2\n",
            "i is: 3\n",
            "i is: 4\n"
          ],
          "name": "stdout"
        }
      ]
    },
    {
      "cell_type": "markdown",
      "metadata": {
        "id": "DEhYlLtun7In"
      },
      "source": [
        "## range()"
      ]
    },
    {
      "cell_type": "code",
      "metadata": {
        "id": "Lc_hiZQin7In",
        "outputId": "c76610e1-a2d7-4485-fccf-08b372c1f680"
      },
      "source": [
        "range(5)"
      ],
      "execution_count": null,
      "outputs": [
        {
          "output_type": "execute_result",
          "data": {
            "text/plain": [
              "range(0, 5)"
            ]
          },
          "metadata": {
            "tags": []
          },
          "execution_count": 63
        }
      ]
    },
    {
      "cell_type": "code",
      "metadata": {
        "id": "CkrmuYrgn7In",
        "outputId": "b1eab5d5-7e82-4fb1-c4b9-14b36132b8ce"
      },
      "source": [
        "for i in range(5):\n",
        "    print(i)"
      ],
      "execution_count": null,
      "outputs": [
        {
          "output_type": "stream",
          "text": [
            "0\n",
            "1\n",
            "2\n",
            "3\n",
            "4\n"
          ],
          "name": "stdout"
        }
      ]
    },
    {
      "cell_type": "code",
      "metadata": {
        "id": "x5Vos4_4n7In",
        "outputId": "368815e6-3568-4632-8a88-2324b7e289a8"
      },
      "source": [
        "list(range(5))"
      ],
      "execution_count": null,
      "outputs": [
        {
          "output_type": "execute_result",
          "data": {
            "text/plain": [
              "[0, 1, 2, 3, 4]"
            ]
          },
          "metadata": {
            "tags": []
          },
          "execution_count": 65
        }
      ]
    },
    {
      "cell_type": "markdown",
      "metadata": {
        "id": "opzp1opmn7In"
      },
      "source": [
        "## list comprehension"
      ]
    },
    {
      "cell_type": "code",
      "metadata": {
        "id": "U0-UiRjkn7In"
      },
      "source": [
        "x = [1,2,3,4]"
      ],
      "execution_count": null,
      "outputs": []
    },
    {
      "cell_type": "code",
      "metadata": {
        "scrolled": true,
        "id": "BNgglD7ln7In",
        "outputId": "3fec6a96-93d3-4a0a-a4ff-63ed93ec7d5e"
      },
      "source": [
        "out = []\n",
        "for item in x:\n",
        "    out.append(item**2)\n",
        "print(out)"
      ],
      "execution_count": null,
      "outputs": [
        {
          "output_type": "stream",
          "text": [
            "[1, 4, 9, 16]\n"
          ],
          "name": "stdout"
        }
      ]
    },
    {
      "cell_type": "code",
      "metadata": {
        "id": "Myk8vcH7n7In",
        "outputId": "bdaefea0-ae6c-47a0-ccc0-dd0b40357ebd"
      },
      "source": [
        "[item**2 for item in x]"
      ],
      "execution_count": null,
      "outputs": [
        {
          "output_type": "execute_result",
          "data": {
            "text/plain": [
              "[1, 4, 9, 16]"
            ]
          },
          "metadata": {
            "tags": []
          },
          "execution_count": 68
        }
      ]
    },
    {
      "cell_type": "markdown",
      "metadata": {
        "id": "eDWv4Z7Rn7In"
      },
      "source": [
        "## 함수(function)"
      ]
    },
    {
      "cell_type": "code",
      "metadata": {
        "id": "M7aq-DFMn7In"
      },
      "source": [
        "def my_func(param1='default'):\n",
        "    print(param1)"
      ],
      "execution_count": null,
      "outputs": []
    },
    {
      "cell_type": "code",
      "metadata": {
        "id": "XYVvp1UHn7In",
        "outputId": "c4680797-9c2c-42f3-e989-58bcd575d305"
      },
      "source": [
        "my_func"
      ],
      "execution_count": null,
      "outputs": [
        {
          "output_type": "execute_result",
          "data": {
            "text/plain": [
              "<function __main__.my_func(param1='default')>"
            ]
          },
          "metadata": {
            "tags": []
          },
          "execution_count": 70
        }
      ]
    },
    {
      "cell_type": "code",
      "metadata": {
        "id": "2_lmA_-Nn7In",
        "outputId": "30b5c172-67ee-4b0a-ee04-3f0143ec6d3a"
      },
      "source": [
        "my_func()"
      ],
      "execution_count": null,
      "outputs": [
        {
          "output_type": "stream",
          "text": [
            "default\n"
          ],
          "name": "stdout"
        }
      ]
    },
    {
      "cell_type": "code",
      "metadata": {
        "id": "D1XNGSo1n7In",
        "outputId": "38271e86-597f-4517-eab2-2bcf4d02ca62"
      },
      "source": [
        "my_func('new param')"
      ],
      "execution_count": null,
      "outputs": [
        {
          "output_type": "stream",
          "text": [
            "new param\n"
          ],
          "name": "stdout"
        }
      ]
    },
    {
      "cell_type": "code",
      "metadata": {
        "scrolled": true,
        "id": "2Ab5MxGBn7In",
        "outputId": "5004fb2b-d8ba-4e29-a5a2-6f62f9d8b47c"
      },
      "source": [
        "my_func(param1='new param')"
      ],
      "execution_count": null,
      "outputs": [
        {
          "output_type": "stream",
          "text": [
            "new param\n"
          ],
          "name": "stdout"
        }
      ]
    },
    {
      "cell_type": "code",
      "metadata": {
        "id": "TjgbVU_kn7In"
      },
      "source": [
        "def square(x):\n",
        "    return x**2"
      ],
      "execution_count": null,
      "outputs": []
    },
    {
      "cell_type": "code",
      "metadata": {
        "id": "B4i4alQen7In"
      },
      "source": [
        "out = square(2)"
      ],
      "execution_count": null,
      "outputs": []
    },
    {
      "cell_type": "code",
      "metadata": {
        "scrolled": true,
        "id": "xP2D4Q7Wn7In",
        "outputId": "1bd43a58-d59d-4304-c32b-3ec1c2846421"
      },
      "source": [
        "print(out)"
      ],
      "execution_count": null,
      "outputs": [
        {
          "output_type": "stream",
          "text": [
            "4\n"
          ],
          "name": "stdout"
        }
      ]
    },
    {
      "cell_type": "markdown",
      "metadata": {
        "id": "aPtEtC4En7In"
      },
      "source": [
        "## 람다 식(lambda expression)"
      ]
    },
    {
      "cell_type": "code",
      "metadata": {
        "id": "d6tXHRsJn7In"
      },
      "source": [
        "def times2(var):\n",
        "    return var*2"
      ],
      "execution_count": null,
      "outputs": []
    },
    {
      "cell_type": "code",
      "metadata": {
        "id": "2qoStZtIn7In",
        "outputId": "754b057a-9030-4bbf-c3d9-22d3261827f2"
      },
      "source": [
        "times2(2)"
      ],
      "execution_count": null,
      "outputs": [
        {
          "output_type": "execute_result",
          "data": {
            "text/plain": [
              "4"
            ]
          },
          "metadata": {
            "tags": []
          },
          "execution_count": 78
        }
      ]
    },
    {
      "cell_type": "code",
      "metadata": {
        "id": "tzhHoGRwn7In",
        "outputId": "05e454d4-fa9f-4ca2-ec08-15865fe80fad"
      },
      "source": [
        "lambda var: var*2"
      ],
      "execution_count": null,
      "outputs": [
        {
          "output_type": "execute_result",
          "data": {
            "text/plain": [
              "<function __main__.<lambda>(var)>"
            ]
          },
          "metadata": {
            "tags": []
          },
          "execution_count": 79
        }
      ]
    },
    {
      "cell_type": "markdown",
      "metadata": {
        "id": "xLi0aZgLn7In"
      },
      "source": [
        "## 맵, 필터(map and filter)"
      ]
    },
    {
      "cell_type": "code",
      "metadata": {
        "id": "ns8AGZwhn7In"
      },
      "source": [
        "seq = [1,2,3,4,5]"
      ],
      "execution_count": null,
      "outputs": []
    },
    {
      "cell_type": "code",
      "metadata": {
        "id": "T23Ntl-3n7In",
        "outputId": "c2ba687c-7a5a-4e0f-cfea-f41955536e58"
      },
      "source": [
        "map(times2,seq)"
      ],
      "execution_count": null,
      "outputs": [
        {
          "output_type": "execute_result",
          "data": {
            "text/plain": [
              "<map at 0x1d3f343bb88>"
            ]
          },
          "metadata": {
            "tags": []
          },
          "execution_count": 81
        }
      ]
    },
    {
      "cell_type": "code",
      "metadata": {
        "id": "l_r6H83bn7In",
        "outputId": "09e8615d-b3a9-4d21-dd54-a681dd1a0b88"
      },
      "source": [
        "list(map(times2,seq))"
      ],
      "execution_count": null,
      "outputs": [
        {
          "output_type": "execute_result",
          "data": {
            "text/plain": [
              "[2, 4, 6, 8, 10]"
            ]
          },
          "metadata": {
            "tags": []
          },
          "execution_count": 82
        }
      ]
    },
    {
      "cell_type": "code",
      "metadata": {
        "id": "ztcyNMxgn7In",
        "outputId": "f0ddf5e4-6432-4ed0-da63-59aa7b204b33"
      },
      "source": [
        "list(map(lambda var: var*2,seq))"
      ],
      "execution_count": null,
      "outputs": [
        {
          "output_type": "execute_result",
          "data": {
            "text/plain": [
              "[2, 4, 6, 8, 10]"
            ]
          },
          "metadata": {
            "tags": []
          },
          "execution_count": 83
        }
      ]
    },
    {
      "cell_type": "code",
      "metadata": {
        "id": "GOP_O9VJn7Io",
        "outputId": "5a0a6f30-906a-4bea-b14b-35030d008733"
      },
      "source": [
        "filter(lambda item: item%2 == 0,seq)"
      ],
      "execution_count": null,
      "outputs": [
        {
          "output_type": "execute_result",
          "data": {
            "text/plain": [
              "<filter at 0x1d3f3445948>"
            ]
          },
          "metadata": {
            "tags": []
          },
          "execution_count": 84
        }
      ]
    },
    {
      "cell_type": "code",
      "metadata": {
        "id": "Ad3cyNtMn7Io",
        "outputId": "b6519ab1-2fcd-47df-ddee-e1ecb67b29c2"
      },
      "source": [
        "list(filter(lambda item: item%2 == 0,seq))"
      ],
      "execution_count": null,
      "outputs": [
        {
          "output_type": "execute_result",
          "data": {
            "text/plain": [
              "[2, 4]"
            ]
          },
          "metadata": {
            "tags": []
          },
          "execution_count": 85
        }
      ]
    },
    {
      "cell_type": "markdown",
      "metadata": {
        "id": "vfCxksCyn7Io"
      },
      "source": [
        "## 내장 메서드(methods)"
      ]
    },
    {
      "cell_type": "code",
      "metadata": {
        "id": "-gI49oEPn7Io"
      },
      "source": [
        "st = 'Hello my name is Danny'"
      ],
      "execution_count": null,
      "outputs": []
    },
    {
      "cell_type": "code",
      "metadata": {
        "id": "7DFanJfhn7Io",
        "outputId": "01b97c0c-38a2-4ca7-9399-321555c33ee6"
      },
      "source": [
        "st.lower()"
      ],
      "execution_count": null,
      "outputs": [
        {
          "output_type": "execute_result",
          "data": {
            "text/plain": [
              "'hello my name is danny'"
            ]
          },
          "metadata": {
            "tags": []
          },
          "execution_count": 87
        }
      ]
    },
    {
      "cell_type": "code",
      "metadata": {
        "id": "PLwagZwSn7Io",
        "outputId": "de7a766f-0454-4f72-b689-7c98305b594c"
      },
      "source": [
        "st.upper()"
      ],
      "execution_count": null,
      "outputs": [
        {
          "output_type": "execute_result",
          "data": {
            "text/plain": [
              "'HELLO MY NAME IS DANNY'"
            ]
          },
          "metadata": {
            "tags": []
          },
          "execution_count": 88
        }
      ]
    },
    {
      "cell_type": "code",
      "metadata": {
        "id": "SZ84OlpHn7Io",
        "outputId": "ddd2a195-5ba6-4053-dd6b-7fa0ae0fff39"
      },
      "source": [
        "st.split()"
      ],
      "execution_count": null,
      "outputs": [
        {
          "output_type": "execute_result",
          "data": {
            "text/plain": [
              "['Hello', 'my', 'name', 'is', 'Danny']"
            ]
          },
          "metadata": {
            "tags": []
          },
          "execution_count": 89
        }
      ]
    },
    {
      "cell_type": "code",
      "metadata": {
        "id": "HigIjiC3n7Io"
      },
      "source": [
        "message = 'Python the Best programming language in #AI'"
      ],
      "execution_count": null,
      "outputs": []
    },
    {
      "cell_type": "code",
      "metadata": {
        "id": "q5GyZk0Ln7Io",
        "outputId": "39036cca-3d2f-445d-a5c4-627ff62b6fbd"
      },
      "source": [
        "message.split('#')"
      ],
      "execution_count": null,
      "outputs": [
        {
          "output_type": "execute_result",
          "data": {
            "text/plain": [
              "['Python the Best programming language in ', 'AI']"
            ]
          },
          "metadata": {
            "tags": []
          },
          "execution_count": 91
        }
      ]
    },
    {
      "cell_type": "code",
      "metadata": {
        "id": "7IpmHzP3n7Io",
        "outputId": "87bc55df-7e9f-4d08-a937-48241d460810"
      },
      "source": [
        "message.split('#')[1]"
      ],
      "execution_count": null,
      "outputs": [
        {
          "output_type": "execute_result",
          "data": {
            "text/plain": [
              "'AI'"
            ]
          },
          "metadata": {
            "tags": []
          },
          "execution_count": 92
        }
      ]
    },
    {
      "cell_type": "code",
      "metadata": {
        "id": "MfmkrnBMn7Io",
        "outputId": "24e388c4-257b-4eb4-906a-ed505b768578"
      },
      "source": [
        "d"
      ],
      "execution_count": null,
      "outputs": [
        {
          "output_type": "execute_result",
          "data": {
            "text/plain": [
              "{'key1': 'item1', 'key2': 'item2'}"
            ]
          },
          "metadata": {
            "tags": []
          },
          "execution_count": 93
        }
      ]
    },
    {
      "cell_type": "code",
      "metadata": {
        "id": "sXaEu5e6n7Io",
        "outputId": "b30f4adc-5650-466c-a6cd-822a5d4a5ae4"
      },
      "source": [
        "d.keys()"
      ],
      "execution_count": null,
      "outputs": [
        {
          "output_type": "execute_result",
          "data": {
            "text/plain": [
              "dict_keys(['key1', 'key2'])"
            ]
          },
          "metadata": {
            "tags": []
          },
          "execution_count": 94
        }
      ]
    },
    {
      "cell_type": "code",
      "metadata": {
        "id": "QKyP5VtNn7Io",
        "outputId": "7a5046bf-4468-4a86-f635-20462f554ea9"
      },
      "source": [
        "d.items()"
      ],
      "execution_count": null,
      "outputs": [
        {
          "output_type": "execute_result",
          "data": {
            "text/plain": [
              "dict_items([('key1', 'item1'), ('key2', 'item2')])"
            ]
          },
          "metadata": {
            "tags": []
          },
          "execution_count": 95
        }
      ]
    },
    {
      "cell_type": "code",
      "metadata": {
        "id": "TY6WSdVmn7Io"
      },
      "source": [
        "lst = [1,2,3]"
      ],
      "execution_count": null,
      "outputs": []
    },
    {
      "cell_type": "code",
      "metadata": {
        "id": "uEkvru9en7Io",
        "outputId": "2846d436-e6a8-4dd9-e93a-7dace5927cd9"
      },
      "source": [
        "lst.pop()"
      ],
      "execution_count": null,
      "outputs": [
        {
          "output_type": "execute_result",
          "data": {
            "text/plain": [
              "3"
            ]
          },
          "metadata": {
            "tags": []
          },
          "execution_count": 97
        }
      ]
    },
    {
      "cell_type": "code",
      "metadata": {
        "id": "sG5Fkk-Yn7Io",
        "outputId": "36ccba09-079c-44d2-8164-a4ddadef3635"
      },
      "source": [
        "lst"
      ],
      "execution_count": null,
      "outputs": [
        {
          "output_type": "execute_result",
          "data": {
            "text/plain": [
              "[1, 2]"
            ]
          },
          "metadata": {
            "tags": []
          },
          "execution_count": 98
        }
      ]
    },
    {
      "cell_type": "code",
      "metadata": {
        "id": "VFxVadKmn7Io",
        "outputId": "070a9783-80a7-43bd-94fb-4a5b311d99c1"
      },
      "source": [
        "'x' in [1,2,3]"
      ],
      "execution_count": null,
      "outputs": [
        {
          "output_type": "execute_result",
          "data": {
            "text/plain": [
              "False"
            ]
          },
          "metadata": {
            "tags": []
          },
          "execution_count": 99
        }
      ]
    },
    {
      "cell_type": "code",
      "metadata": {
        "id": "5BgXLowzn7Io",
        "outputId": "22c4dc57-b5ff-4e90-ded4-ab4a2779ca42"
      },
      "source": [
        "'x' in ['x','y','z']"
      ],
      "execution_count": null,
      "outputs": [
        {
          "output_type": "execute_result",
          "data": {
            "text/plain": [
              "True"
            ]
          },
          "metadata": {
            "tags": []
          },
          "execution_count": 100
        }
      ]
    }
  ]
}